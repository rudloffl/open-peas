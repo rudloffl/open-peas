{
 "cells": [
  {
   "cell_type": "code",
   "execution_count": 1,
   "metadata": {},
   "outputs": [],
   "source": [
    "import numpy as np\n",
    "import pandas as pd\n",
    "import matplotlib.pyplot as plt"
   ]
  },
  {
   "cell_type": "markdown",
   "metadata": {},
   "source": [
    "# Data loading and assembly"
   ]
  },
  {
   "cell_type": "code",
   "execution_count": 16,
   "metadata": {},
   "outputs": [
    {
     "data": {
      "text/html": [
       "<div>\n",
       "<style scoped>\n",
       "    .dataframe tbody tr th:only-of-type {\n",
       "        vertical-align: middle;\n",
       "    }\n",
       "\n",
       "    .dataframe tbody tr th {\n",
       "        vertical-align: top;\n",
       "    }\n",
       "\n",
       "    .dataframe thead th {\n",
       "        text-align: right;\n",
       "    }\n",
       "</style>\n",
       "<table border=\"1\" class=\"dataframe\">\n",
       "  <thead>\n",
       "    <tr style=\"text-align: right;\">\n",
       "      <th></th>\n",
       "      <th>target</th>\n",
       "      <th>sampleID</th>\n",
       "      <th>950</th>\n",
       "      <th>952</th>\n",
       "      <th>954</th>\n",
       "      <th>956</th>\n",
       "      <th>958</th>\n",
       "      <th>960</th>\n",
       "      <th>962</th>\n",
       "      <th>964</th>\n",
       "      <th>...</th>\n",
       "      <th>1512</th>\n",
       "      <th>1514</th>\n",
       "      <th>1516</th>\n",
       "      <th>1518</th>\n",
       "      <th>1520</th>\n",
       "      <th>1522</th>\n",
       "      <th>1524</th>\n",
       "      <th>1526</th>\n",
       "      <th>1528</th>\n",
       "      <th>1530</th>\n",
       "    </tr>\n",
       "  </thead>\n",
       "  <tbody>\n",
       "    <tr>\n",
       "      <th>0</th>\n",
       "      <td>94.333333</td>\n",
       "      <td>0</td>\n",
       "      <td>36.723839</td>\n",
       "      <td>35.745964</td>\n",
       "      <td>34.811623</td>\n",
       "      <td>33.955212</td>\n",
       "      <td>33.197552</td>\n",
       "      <td>32.570518</td>\n",
       "      <td>32.147972</td>\n",
       "      <td>31.807793</td>\n",
       "      <td>...</td>\n",
       "      <td>0.791820</td>\n",
       "      <td>0.831189</td>\n",
       "      <td>0.883438</td>\n",
       "      <td>0.940272</td>\n",
       "      <td>0.993729</td>\n",
       "      <td>1.046867</td>\n",
       "      <td>1.098642</td>\n",
       "      <td>1.152454</td>\n",
       "      <td>1.215338</td>\n",
       "      <td>1.271571</td>\n",
       "    </tr>\n",
       "    <tr>\n",
       "      <th>1</th>\n",
       "      <td>94.333333</td>\n",
       "      <td>0</td>\n",
       "      <td>36.369366</td>\n",
       "      <td>35.383987</td>\n",
       "      <td>34.443897</td>\n",
       "      <td>33.584080</td>\n",
       "      <td>32.823158</td>\n",
       "      <td>32.192280</td>\n",
       "      <td>31.770844</td>\n",
       "      <td>31.431589</td>\n",
       "      <td>...</td>\n",
       "      <td>0.685869</td>\n",
       "      <td>0.728103</td>\n",
       "      <td>0.785778</td>\n",
       "      <td>0.845810</td>\n",
       "      <td>0.902551</td>\n",
       "      <td>0.961095</td>\n",
       "      <td>1.017545</td>\n",
       "      <td>1.073209</td>\n",
       "      <td>1.138063</td>\n",
       "      <td>1.196826</td>\n",
       "    </tr>\n",
       "    <tr>\n",
       "      <th>2</th>\n",
       "      <td>94.333333</td>\n",
       "      <td>0</td>\n",
       "      <td>35.385422</td>\n",
       "      <td>34.405182</td>\n",
       "      <td>33.466976</td>\n",
       "      <td>32.614578</td>\n",
       "      <td>31.862633</td>\n",
       "      <td>31.242191</td>\n",
       "      <td>30.828016</td>\n",
       "      <td>30.496775</td>\n",
       "      <td>...</td>\n",
       "      <td>0.618997</td>\n",
       "      <td>0.659589</td>\n",
       "      <td>0.712821</td>\n",
       "      <td>0.769303</td>\n",
       "      <td>0.822148</td>\n",
       "      <td>0.875681</td>\n",
       "      <td>0.929040</td>\n",
       "      <td>0.979519</td>\n",
       "      <td>1.040625</td>\n",
       "      <td>1.100850</td>\n",
       "    </tr>\n",
       "    <tr>\n",
       "      <th>3</th>\n",
       "      <td>94.333333</td>\n",
       "      <td>0</td>\n",
       "      <td>35.121685</td>\n",
       "      <td>34.145687</td>\n",
       "      <td>33.217796</td>\n",
       "      <td>32.374218</td>\n",
       "      <td>31.630789</td>\n",
       "      <td>31.019081</td>\n",
       "      <td>30.611959</td>\n",
       "      <td>30.286642</td>\n",
       "      <td>...</td>\n",
       "      <td>0.751016</td>\n",
       "      <td>0.796110</td>\n",
       "      <td>0.852175</td>\n",
       "      <td>0.909087</td>\n",
       "      <td>0.965727</td>\n",
       "      <td>1.024710</td>\n",
       "      <td>1.080235</td>\n",
       "      <td>1.133445</td>\n",
       "      <td>1.197904</td>\n",
       "      <td>1.262516</td>\n",
       "    </tr>\n",
       "    <tr>\n",
       "      <th>4</th>\n",
       "      <td>76.333333</td>\n",
       "      <td>1</td>\n",
       "      <td>36.185947</td>\n",
       "      <td>35.209904</td>\n",
       "      <td>34.280155</td>\n",
       "      <td>33.430157</td>\n",
       "      <td>32.679989</td>\n",
       "      <td>32.062084</td>\n",
       "      <td>31.647160</td>\n",
       "      <td>31.312046</td>\n",
       "      <td>...</td>\n",
       "      <td>1.001077</td>\n",
       "      <td>1.051815</td>\n",
       "      <td>1.112780</td>\n",
       "      <td>1.175900</td>\n",
       "      <td>1.240040</td>\n",
       "      <td>1.304035</td>\n",
       "      <td>1.365576</td>\n",
       "      <td>1.426388</td>\n",
       "      <td>1.495515</td>\n",
       "      <td>1.561842</td>\n",
       "    </tr>\n",
       "  </tbody>\n",
       "</table>\n",
       "<p>5 rows × 293 columns</p>\n",
       "</div>"
      ],
      "text/plain": [
       "      target  sampleID        950        952        954        956        958  \\\n",
       "0  94.333333         0  36.723839  35.745964  34.811623  33.955212  33.197552   \n",
       "1  94.333333         0  36.369366  35.383987  34.443897  33.584080  32.823158   \n",
       "2  94.333333         0  35.385422  34.405182  33.466976  32.614578  31.862633   \n",
       "3  94.333333         0  35.121685  34.145687  33.217796  32.374218  31.630789   \n",
       "4  76.333333         1  36.185947  35.209904  34.280155  33.430157  32.679989   \n",
       "\n",
       "         960        962        964    ...         1512      1514      1516  \\\n",
       "0  32.570518  32.147972  31.807793    ...     0.791820  0.831189  0.883438   \n",
       "1  32.192280  31.770844  31.431589    ...     0.685869  0.728103  0.785778   \n",
       "2  31.242191  30.828016  30.496775    ...     0.618997  0.659589  0.712821   \n",
       "3  31.019081  30.611959  30.286642    ...     0.751016  0.796110  0.852175   \n",
       "4  32.062084  31.647160  31.312046    ...     1.001077  1.051815  1.112780   \n",
       "\n",
       "       1518      1520      1522      1524      1526      1528      1530  \n",
       "0  0.940272  0.993729  1.046867  1.098642  1.152454  1.215338  1.271571  \n",
       "1  0.845810  0.902551  0.961095  1.017545  1.073209  1.138063  1.196826  \n",
       "2  0.769303  0.822148  0.875681  0.929040  0.979519  1.040625  1.100850  \n",
       "3  0.909087  0.965727  1.024710  1.080235  1.133445  1.197904  1.262516  \n",
       "4  1.175900  1.240040  1.304035  1.365576  1.426388  1.495515  1.561842  \n",
       "\n",
       "[5 rows x 293 columns]"
      ]
     },
     "execution_count": 16,
     "metadata": {},
     "output_type": "execute_result"
    }
   ],
   "source": [
    "spectra = pd.read_csv('../data/dataset.csv')\n",
    "columns = ['target', 'sampleID']\n",
    "columns.extend([str(x) for x in range(950, 1530+1,2)])\n",
    "spectra = spectra[columns]\n",
    "\n",
    "spectra.head()"
   ]
  },
  {
   "cell_type": "code",
   "execution_count": null,
   "metadata": {},
   "outputs": [],
   "source": []
  },
  {
   "cell_type": "code",
   "execution_count": null,
   "metadata": {},
   "outputs": [],
   "source": []
  },
  {
   "cell_type": "markdown",
   "metadata": {},
   "source": [
    "# Dataset clean ?"
   ]
  },
  {
   "cell_type": "code",
   "execution_count": 17,
   "metadata": {},
   "outputs": [
    {
     "data": {
      "text/html": [
       "<div>\n",
       "<style scoped>\n",
       "    .dataframe tbody tr th:only-of-type {\n",
       "        vertical-align: middle;\n",
       "    }\n",
       "\n",
       "    .dataframe tbody tr th {\n",
       "        vertical-align: top;\n",
       "    }\n",
       "\n",
       "    .dataframe thead th {\n",
       "        text-align: right;\n",
       "    }\n",
       "</style>\n",
       "<table border=\"1\" class=\"dataframe\">\n",
       "  <thead>\n",
       "    <tr style=\"text-align: right;\">\n",
       "      <th></th>\n",
       "      <th>target</th>\n",
       "      <th>sampleID</th>\n",
       "      <th>950</th>\n",
       "      <th>952</th>\n",
       "      <th>954</th>\n",
       "      <th>956</th>\n",
       "      <th>958</th>\n",
       "      <th>960</th>\n",
       "      <th>962</th>\n",
       "      <th>964</th>\n",
       "      <th>...</th>\n",
       "      <th>1512</th>\n",
       "      <th>1514</th>\n",
       "      <th>1516</th>\n",
       "      <th>1518</th>\n",
       "      <th>1520</th>\n",
       "      <th>1522</th>\n",
       "      <th>1524</th>\n",
       "      <th>1526</th>\n",
       "      <th>1528</th>\n",
       "      <th>1530</th>\n",
       "    </tr>\n",
       "  </thead>\n",
       "  <tbody>\n",
       "    <tr>\n",
       "      <th>count</th>\n",
       "      <td>374.000000</td>\n",
       "      <td>374.000000</td>\n",
       "      <td>374.000000</td>\n",
       "      <td>374.000000</td>\n",
       "      <td>374.000000</td>\n",
       "      <td>374.000000</td>\n",
       "      <td>374.000000</td>\n",
       "      <td>374.000000</td>\n",
       "      <td>374.000000</td>\n",
       "      <td>374.000000</td>\n",
       "      <td>...</td>\n",
       "      <td>374.000000</td>\n",
       "      <td>374.000000</td>\n",
       "      <td>374.000000</td>\n",
       "      <td>374.000000</td>\n",
       "      <td>374.000000</td>\n",
       "      <td>374.000000</td>\n",
       "      <td>374.000000</td>\n",
       "      <td>374.000000</td>\n",
       "      <td>374.000000</td>\n",
       "      <td>374.000000</td>\n",
       "    </tr>\n",
       "    <tr>\n",
       "      <th>mean</th>\n",
       "      <td>87.830660</td>\n",
       "      <td>47.449198</td>\n",
       "      <td>35.174972</td>\n",
       "      <td>34.169147</td>\n",
       "      <td>33.187555</td>\n",
       "      <td>32.305514</td>\n",
       "      <td>31.550925</td>\n",
       "      <td>30.972189</td>\n",
       "      <td>30.537403</td>\n",
       "      <td>30.191219</td>\n",
       "      <td>...</td>\n",
       "      <td>0.592180</td>\n",
       "      <td>0.657583</td>\n",
       "      <td>0.717708</td>\n",
       "      <td>0.763384</td>\n",
       "      <td>0.821528</td>\n",
       "      <td>0.881781</td>\n",
       "      <td>0.940160</td>\n",
       "      <td>1.000826</td>\n",
       "      <td>1.064528</td>\n",
       "      <td>1.128210</td>\n",
       "    </tr>\n",
       "    <tr>\n",
       "      <th>std</th>\n",
       "      <td>10.862842</td>\n",
       "      <td>27.340007</td>\n",
       "      <td>2.348484</td>\n",
       "      <td>2.384539</td>\n",
       "      <td>2.416738</td>\n",
       "      <td>2.441372</td>\n",
       "      <td>2.463001</td>\n",
       "      <td>2.482659</td>\n",
       "      <td>2.488624</td>\n",
       "      <td>2.492186</td>\n",
       "      <td>...</td>\n",
       "      <td>0.732162</td>\n",
       "      <td>0.740236</td>\n",
       "      <td>0.747614</td>\n",
       "      <td>0.754623</td>\n",
       "      <td>0.762236</td>\n",
       "      <td>0.770004</td>\n",
       "      <td>0.778396</td>\n",
       "      <td>0.787307</td>\n",
       "      <td>0.795612</td>\n",
       "      <td>0.804476</td>\n",
       "    </tr>\n",
       "    <tr>\n",
       "      <th>min</th>\n",
       "      <td>67.666667</td>\n",
       "      <td>0.000000</td>\n",
       "      <td>26.655676</td>\n",
       "      <td>25.505169</td>\n",
       "      <td>24.395685</td>\n",
       "      <td>23.420492</td>\n",
       "      <td>22.587944</td>\n",
       "      <td>21.945278</td>\n",
       "      <td>21.496870</td>\n",
       "      <td>21.147123</td>\n",
       "      <td>...</td>\n",
       "      <td>-1.764682</td>\n",
       "      <td>-1.726724</td>\n",
       "      <td>-1.690527</td>\n",
       "      <td>-1.660725</td>\n",
       "      <td>-1.626905</td>\n",
       "      <td>-1.592568</td>\n",
       "      <td>-1.559861</td>\n",
       "      <td>-1.527287</td>\n",
       "      <td>-1.488511</td>\n",
       "      <td>-1.451741</td>\n",
       "    </tr>\n",
       "    <tr>\n",
       "      <th>25%</th>\n",
       "      <td>79.666667</td>\n",
       "      <td>24.000000</td>\n",
       "      <td>33.992277</td>\n",
       "      <td>32.979221</td>\n",
       "      <td>32.002027</td>\n",
       "      <td>31.131445</td>\n",
       "      <td>30.383613</td>\n",
       "      <td>29.791392</td>\n",
       "      <td>29.379014</td>\n",
       "      <td>29.040488</td>\n",
       "      <td>...</td>\n",
       "      <td>0.157696</td>\n",
       "      <td>0.235855</td>\n",
       "      <td>0.301804</td>\n",
       "      <td>0.336286</td>\n",
       "      <td>0.388347</td>\n",
       "      <td>0.447060</td>\n",
       "      <td>0.510264</td>\n",
       "      <td>0.577586</td>\n",
       "      <td>0.633482</td>\n",
       "      <td>0.697918</td>\n",
       "    </tr>\n",
       "    <tr>\n",
       "      <th>50%</th>\n",
       "      <td>87.000000</td>\n",
       "      <td>47.500000</td>\n",
       "      <td>35.519716</td>\n",
       "      <td>34.525341</td>\n",
       "      <td>33.560844</td>\n",
       "      <td>32.674768</td>\n",
       "      <td>31.925820</td>\n",
       "      <td>31.391390</td>\n",
       "      <td>30.953384</td>\n",
       "      <td>30.609236</td>\n",
       "      <td>...</td>\n",
       "      <td>0.608148</td>\n",
       "      <td>0.669333</td>\n",
       "      <td>0.740480</td>\n",
       "      <td>0.782105</td>\n",
       "      <td>0.841150</td>\n",
       "      <td>0.898004</td>\n",
       "      <td>0.958507</td>\n",
       "      <td>1.024121</td>\n",
       "      <td>1.086988</td>\n",
       "      <td>1.143772</td>\n",
       "    </tr>\n",
       "    <tr>\n",
       "      <th>75%</th>\n",
       "      <td>94.666667</td>\n",
       "      <td>71.000000</td>\n",
       "      <td>36.750025</td>\n",
       "      <td>35.776736</td>\n",
       "      <td>34.838290</td>\n",
       "      <td>33.973112</td>\n",
       "      <td>33.227393</td>\n",
       "      <td>32.652846</td>\n",
       "      <td>32.225858</td>\n",
       "      <td>31.890627</td>\n",
       "      <td>...</td>\n",
       "      <td>1.032679</td>\n",
       "      <td>1.094054</td>\n",
       "      <td>1.155414</td>\n",
       "      <td>1.211737</td>\n",
       "      <td>1.289103</td>\n",
       "      <td>1.351089</td>\n",
       "      <td>1.420611</td>\n",
       "      <td>1.486343</td>\n",
       "      <td>1.554759</td>\n",
       "      <td>1.614336</td>\n",
       "    </tr>\n",
       "    <tr>\n",
       "      <th>max</th>\n",
       "      <td>115.000000</td>\n",
       "      <td>94.000000</td>\n",
       "      <td>42.143303</td>\n",
       "      <td>41.016056</td>\n",
       "      <td>39.927353</td>\n",
       "      <td>38.940678</td>\n",
       "      <td>38.071739</td>\n",
       "      <td>37.357346</td>\n",
       "      <td>36.864861</td>\n",
       "      <td>36.467106</td>\n",
       "      <td>...</td>\n",
       "      <td>2.929408</td>\n",
       "      <td>2.975907</td>\n",
       "      <td>3.031236</td>\n",
       "      <td>3.091215</td>\n",
       "      <td>3.146902</td>\n",
       "      <td>3.201092</td>\n",
       "      <td>3.255369</td>\n",
       "      <td>3.311751</td>\n",
       "      <td>3.375964</td>\n",
       "      <td>3.431573</td>\n",
       "    </tr>\n",
       "  </tbody>\n",
       "</table>\n",
       "<p>8 rows × 293 columns</p>\n",
       "</div>"
      ],
      "text/plain": [
       "           target    sampleID         950         952         954         956  \\\n",
       "count  374.000000  374.000000  374.000000  374.000000  374.000000  374.000000   \n",
       "mean    87.830660   47.449198   35.174972   34.169147   33.187555   32.305514   \n",
       "std     10.862842   27.340007    2.348484    2.384539    2.416738    2.441372   \n",
       "min     67.666667    0.000000   26.655676   25.505169   24.395685   23.420492   \n",
       "25%     79.666667   24.000000   33.992277   32.979221   32.002027   31.131445   \n",
       "50%     87.000000   47.500000   35.519716   34.525341   33.560844   32.674768   \n",
       "75%     94.666667   71.000000   36.750025   35.776736   34.838290   33.973112   \n",
       "max    115.000000   94.000000   42.143303   41.016056   39.927353   38.940678   \n",
       "\n",
       "              958         960         962         964     ...            1512  \\\n",
       "count  374.000000  374.000000  374.000000  374.000000     ...      374.000000   \n",
       "mean    31.550925   30.972189   30.537403   30.191219     ...        0.592180   \n",
       "std      2.463001    2.482659    2.488624    2.492186     ...        0.732162   \n",
       "min     22.587944   21.945278   21.496870   21.147123     ...       -1.764682   \n",
       "25%     30.383613   29.791392   29.379014   29.040488     ...        0.157696   \n",
       "50%     31.925820   31.391390   30.953384   30.609236     ...        0.608148   \n",
       "75%     33.227393   32.652846   32.225858   31.890627     ...        1.032679   \n",
       "max     38.071739   37.357346   36.864861   36.467106     ...        2.929408   \n",
       "\n",
       "             1514        1516        1518        1520        1522        1524  \\\n",
       "count  374.000000  374.000000  374.000000  374.000000  374.000000  374.000000   \n",
       "mean     0.657583    0.717708    0.763384    0.821528    0.881781    0.940160   \n",
       "std      0.740236    0.747614    0.754623    0.762236    0.770004    0.778396   \n",
       "min     -1.726724   -1.690527   -1.660725   -1.626905   -1.592568   -1.559861   \n",
       "25%      0.235855    0.301804    0.336286    0.388347    0.447060    0.510264   \n",
       "50%      0.669333    0.740480    0.782105    0.841150    0.898004    0.958507   \n",
       "75%      1.094054    1.155414    1.211737    1.289103    1.351089    1.420611   \n",
       "max      2.975907    3.031236    3.091215    3.146902    3.201092    3.255369   \n",
       "\n",
       "             1526        1528        1530  \n",
       "count  374.000000  374.000000  374.000000  \n",
       "mean     1.000826    1.064528    1.128210  \n",
       "std      0.787307    0.795612    0.804476  \n",
       "min     -1.527287   -1.488511   -1.451741  \n",
       "25%      0.577586    0.633482    0.697918  \n",
       "50%      1.024121    1.086988    1.143772  \n",
       "75%      1.486343    1.554759    1.614336  \n",
       "max      3.311751    3.375964    3.431573  \n",
       "\n",
       "[8 rows x 293 columns]"
      ]
     },
     "execution_count": 17,
     "metadata": {},
     "output_type": "execute_result"
    }
   ],
   "source": [
    "spectra.describe()"
   ]
  },
  {
   "cell_type": "code",
   "execution_count": 18,
   "metadata": {},
   "outputs": [
    {
     "data": {
      "text/plain": [
       "0"
      ]
     },
     "execution_count": 18,
     "metadata": {},
     "output_type": "execute_result"
    }
   ],
   "source": [
    "spectra.isnull().sum().sum()"
   ]
  },
  {
   "cell_type": "code",
   "execution_count": 19,
   "metadata": {},
   "outputs": [
    {
     "name": "stdout",
     "output_type": "stream",
     "text": [
      "<class 'pandas.core.frame.DataFrame'>\n",
      "RangeIndex: 374 entries, 0 to 373\n",
      "Columns: 293 entries, target to 1530\n",
      "dtypes: float64(292), int64(1)\n",
      "memory usage: 856.2 KB\n"
     ]
    }
   ],
   "source": [
    "spectra.info()"
   ]
  },
  {
   "cell_type": "code",
   "execution_count": null,
   "metadata": {},
   "outputs": [],
   "source": []
  },
  {
   "cell_type": "markdown",
   "metadata": {},
   "source": [
    "# Target description"
   ]
  },
  {
   "cell_type": "code",
   "execution_count": 20,
   "metadata": {},
   "outputs": [
    {
     "data": {
      "text/plain": [
       "<matplotlib.axes._subplots.AxesSubplot at 0x112382be0>"
      ]
     },
     "execution_count": 20,
     "metadata": {},
     "output_type": "execute_result"
    },
    {
     "data": {
      "image/png": "[encoded data removed]",
      "text/plain": [
       "<Figure size 432x288 with 1 Axes>"
      ]
     },
     "metadata": {},
     "output_type": "display_data"
    }
   ],
   "source": [
    "spectra['target'].plot.density()"
   ]
  },
  {
   "cell_type": "code",
   "execution_count": 21,
   "metadata": {},
   "outputs": [
    {
     "data": {
      "text/plain": [
       "0.3520918365929981"
      ]
     },
     "execution_count": 21,
     "metadata": {},
     "output_type": "execute_result"
    }
   ],
   "source": [
    "# The closer to 0, the better\n",
    "spectra['target'].skew()\n"
   ]
  },
  {
   "cell_type": "code",
   "execution_count": 22,
   "metadata": {},
   "outputs": [],
   "source": [
    "from scipy.special import inv_boxcox\n",
    "from scipy import stats\n",
    "spectra['targetBC'], lmbda = stats.boxcox(spectra['target'])"
   ]
  },
  {
   "cell_type": "code",
   "execution_count": 23,
   "metadata": {},
   "outputs": [
    {
     "data": {
      "image/png": "[encoded data removed]",
      "text/plain": [
       "<Figure size 432x288 with 1 Axes>"
      ]
     },
     "metadata": {},
     "output_type": "display_data"
    },
    {
     "data": {
      "text/plain": [
       "0.00712579420187513"
      ]
     },
     "execution_count": 23,
     "metadata": {},
     "output_type": "execute_result"
    }
   ],
   "source": [
    "spectra['targetBC'].plot.density()\n",
    "plt.show()\n",
    "spectra['targetBC'].skew()"
   ]
  },
  {
   "cell_type": "markdown",
   "metadata": {},
   "source": [
    "# Clustering and PCA"
   ]
  },
  {
   "cell_type": "code",
   "execution_count": 25,
   "metadata": {},
   "outputs": [
    {
     "data": {
      "text/html": [
       "<div>\n",
       "<style scoped>\n",
       "    .dataframe tbody tr th:only-of-type {\n",
       "        vertical-align: middle;\n",
       "    }\n",
       "\n",
       "    .dataframe tbody tr th {\n",
       "        vertical-align: top;\n",
       "    }\n",
       "\n",
       "    .dataframe thead th {\n",
       "        text-align: right;\n",
       "    }\n",
       "</style>\n",
       "<table border=\"1\" class=\"dataframe\">\n",
       "  <thead>\n",
       "    <tr style=\"text-align: right;\">\n",
       "      <th></th>\n",
       "      <th>target</th>\n",
       "      <th>sampleID</th>\n",
       "      <th>950</th>\n",
       "      <th>952</th>\n",
       "      <th>954</th>\n",
       "      <th>956</th>\n",
       "      <th>958</th>\n",
       "      <th>960</th>\n",
       "      <th>962</th>\n",
       "      <th>964</th>\n",
       "      <th>...</th>\n",
       "      <th>1514</th>\n",
       "      <th>1516</th>\n",
       "      <th>1518</th>\n",
       "      <th>1520</th>\n",
       "      <th>1522</th>\n",
       "      <th>1524</th>\n",
       "      <th>1526</th>\n",
       "      <th>1528</th>\n",
       "      <th>1530</th>\n",
       "      <th>targetBC</th>\n",
       "    </tr>\n",
       "  </thead>\n",
       "  <tbody>\n",
       "    <tr>\n",
       "      <th>0</th>\n",
       "      <td>94.333333</td>\n",
       "      <td>0</td>\n",
       "      <td>36.723839</td>\n",
       "      <td>35.745964</td>\n",
       "      <td>34.811623</td>\n",
       "      <td>33.955212</td>\n",
       "      <td>33.197552</td>\n",
       "      <td>32.570518</td>\n",
       "      <td>32.147972</td>\n",
       "      <td>31.807793</td>\n",
       "      <td>...</td>\n",
       "      <td>0.831189</td>\n",
       "      <td>0.883438</td>\n",
       "      <td>0.940272</td>\n",
       "      <td>0.993729</td>\n",
       "      <td>1.046867</td>\n",
       "      <td>1.098642</td>\n",
       "      <td>1.152454</td>\n",
       "      <td>1.215338</td>\n",
       "      <td>1.271571</td>\n",
       "      <td>2.508023</td>\n",
       "    </tr>\n",
       "    <tr>\n",
       "      <th>1</th>\n",
       "      <td>94.333333</td>\n",
       "      <td>0</td>\n",
       "      <td>36.369366</td>\n",
       "      <td>35.383987</td>\n",
       "      <td>34.443897</td>\n",
       "      <td>33.584080</td>\n",
       "      <td>32.823158</td>\n",
       "      <td>32.192280</td>\n",
       "      <td>31.770844</td>\n",
       "      <td>31.431589</td>\n",
       "      <td>...</td>\n",
       "      <td>0.728103</td>\n",
       "      <td>0.785778</td>\n",
       "      <td>0.845810</td>\n",
       "      <td>0.902551</td>\n",
       "      <td>0.961095</td>\n",
       "      <td>1.017545</td>\n",
       "      <td>1.073209</td>\n",
       "      <td>1.138063</td>\n",
       "      <td>1.196826</td>\n",
       "      <td>2.508023</td>\n",
       "    </tr>\n",
       "    <tr>\n",
       "      <th>2</th>\n",
       "      <td>94.333333</td>\n",
       "      <td>0</td>\n",
       "      <td>35.385422</td>\n",
       "      <td>34.405182</td>\n",
       "      <td>33.466976</td>\n",
       "      <td>32.614578</td>\n",
       "      <td>31.862633</td>\n",
       "      <td>31.242191</td>\n",
       "      <td>30.828016</td>\n",
       "      <td>30.496775</td>\n",
       "      <td>...</td>\n",
       "      <td>0.659589</td>\n",
       "      <td>0.712821</td>\n",
       "      <td>0.769303</td>\n",
       "      <td>0.822148</td>\n",
       "      <td>0.875681</td>\n",
       "      <td>0.929040</td>\n",
       "      <td>0.979519</td>\n",
       "      <td>1.040625</td>\n",
       "      <td>1.100850</td>\n",
       "      <td>2.508023</td>\n",
       "    </tr>\n",
       "    <tr>\n",
       "      <th>3</th>\n",
       "      <td>94.333333</td>\n",
       "      <td>0</td>\n",
       "      <td>35.121685</td>\n",
       "      <td>34.145687</td>\n",
       "      <td>33.217796</td>\n",
       "      <td>32.374218</td>\n",
       "      <td>31.630789</td>\n",
       "      <td>31.019081</td>\n",
       "      <td>30.611959</td>\n",
       "      <td>30.286642</td>\n",
       "      <td>...</td>\n",
       "      <td>0.796110</td>\n",
       "      <td>0.852175</td>\n",
       "      <td>0.909087</td>\n",
       "      <td>0.965727</td>\n",
       "      <td>1.024710</td>\n",
       "      <td>1.080235</td>\n",
       "      <td>1.133445</td>\n",
       "      <td>1.197904</td>\n",
       "      <td>1.262516</td>\n",
       "      <td>2.508023</td>\n",
       "    </tr>\n",
       "    <tr>\n",
       "      <th>4</th>\n",
       "      <td>76.333333</td>\n",
       "      <td>1</td>\n",
       "      <td>36.185947</td>\n",
       "      <td>35.209904</td>\n",
       "      <td>34.280155</td>\n",
       "      <td>33.430157</td>\n",
       "      <td>32.679989</td>\n",
       "      <td>32.062084</td>\n",
       "      <td>31.647160</td>\n",
       "      <td>31.312046</td>\n",
       "      <td>...</td>\n",
       "      <td>1.051815</td>\n",
       "      <td>1.112780</td>\n",
       "      <td>1.175900</td>\n",
       "      <td>1.240040</td>\n",
       "      <td>1.304035</td>\n",
       "      <td>1.365576</td>\n",
       "      <td>1.426388</td>\n",
       "      <td>1.495515</td>\n",
       "      <td>1.561842</td>\n",
       "      <td>2.450626</td>\n",
       "    </tr>\n",
       "  </tbody>\n",
       "</table>\n",
       "<p>5 rows × 294 columns</p>\n",
       "</div>"
      ],
      "text/plain": [
       "      target  sampleID        950        952        954        956        958  \\\n",
       "0  94.333333         0  36.723839  35.745964  34.811623  33.955212  33.197552   \n",
       "1  94.333333         0  36.369366  35.383987  34.443897  33.584080  32.823158   \n",
       "2  94.333333         0  35.385422  34.405182  33.466976  32.614578  31.862633   \n",
       "3  94.333333         0  35.121685  34.145687  33.217796  32.374218  31.630789   \n",
       "4  76.333333         1  36.185947  35.209904  34.280155  33.430157  32.679989   \n",
       "\n",
       "         960        962        964    ...         1514      1516      1518  \\\n",
       "0  32.570518  32.147972  31.807793    ...     0.831189  0.883438  0.940272   \n",
       "1  32.192280  31.770844  31.431589    ...     0.728103  0.785778  0.845810   \n",
       "2  31.242191  30.828016  30.496775    ...     0.659589  0.712821  0.769303   \n",
       "3  31.019081  30.611959  30.286642    ...     0.796110  0.852175  0.909087   \n",
       "4  32.062084  31.647160  31.312046    ...     1.051815  1.112780  1.175900   \n",
       "\n",
       "       1520      1522      1524      1526      1528      1530  targetBC  \n",
       "0  0.993729  1.046867  1.098642  1.152454  1.215338  1.271571  2.508023  \n",
       "1  0.902551  0.961095  1.017545  1.073209  1.138063  1.196826  2.508023  \n",
       "2  0.822148  0.875681  0.929040  0.979519  1.040625  1.100850  2.508023  \n",
       "3  0.965727  1.024710  1.080235  1.133445  1.197904  1.262516  2.508023  \n",
       "4  1.240040  1.304035  1.365576  1.426388  1.495515  1.561842  2.450626  \n",
       "\n",
       "[5 rows x 294 columns]"
      ]
     },
     "execution_count": 25,
     "metadata": {},
     "output_type": "execute_result"
    }
   ],
   "source": [
    "spectra.head()"
   ]
  },
  {
   "cell_type": "code",
   "execution_count": 27,
   "metadata": {},
   "outputs": [],
   "source": [
    "X = spectra[[str(x) for x in range(950, 1530+1,2)]]\n",
    "y = spectra['targetBC']"
   ]
  },
  {
   "cell_type": "markdown",
   "metadata": {},
   "source": [
    "## Scaling"
   ]
  },
  {
   "cell_type": "code",
   "execution_count": 28,
   "metadata": {},
   "outputs": [],
   "source": [
    "from sklearn.preprocessing import StandardScaler\n",
    "\n",
    "scaler = StandardScaler()\n",
    "Xscaled = scaler.fit_transform(X)"
   ]
  },
  {
   "cell_type": "markdown",
   "metadata": {},
   "source": [
    "## PCA"
   ]
  },
  {
   "cell_type": "code",
   "execution_count": 29,
   "metadata": {},
   "outputs": [],
   "source": [
    "from sklearn.decomposition import PCA\n",
    "\n",
    "pca=PCA()\n",
    "Xpca = pca.fit_transform(Xscaled)"
   ]
  },
  {
   "cell_type": "code",
   "execution_count": 30,
   "metadata": {},
   "outputs": [
    {
     "data": {
      "text/plain": [
       "array([0.88759863, 0.98261512, 0.99593174, 0.99812829, 0.99921017,\n",
       "       0.9997595 , 0.99991316, 0.99993918, 0.99996419, 0.99998209,\n",
       "       0.99998743, 0.99999175, 0.99999474, 0.9999964 , 0.99999714,\n",
       "       0.99999776, 0.99999819, 0.99999854, 0.99999877, 0.99999891,\n",
       "       0.99999902, 0.9999991 , 0.99999917, 0.99999924, 0.99999929,\n",
       "       0.99999934, 0.99999938, 0.99999942, 0.99999946, 0.99999949,\n",
       "       0.99999952, 0.99999955, 0.99999957, 0.99999959, 0.99999961,\n",
       "       0.99999963, 0.99999965, 0.99999967, 0.99999968, 0.9999997 ,\n",
       "       0.99999971, 0.99999972, 0.99999974, 0.99999975, 0.99999976,\n",
       "       0.99999977, 0.99999977, 0.99999978, 0.99999979, 0.9999998 ,\n",
       "       0.99999981, 0.99999981, 0.99999982, 0.99999983, 0.99999983,\n",
       "       0.99999984, 0.99999984, 0.99999985, 0.99999986, 0.99999986,\n",
       "       0.99999986, 0.99999987, 0.99999987, 0.99999988, 0.99999988,\n",
       "       0.99999989, 0.99999989, 0.99999989, 0.9999999 , 0.9999999 ,\n",
       "       0.9999999 , 0.99999991, 0.99999991, 0.99999991, 0.99999991,\n",
       "       0.99999992, 0.99999992, 0.99999992, 0.99999992, 0.99999993,\n",
       "       0.99999993, 0.99999993, 0.99999993, 0.99999994, 0.99999994,\n",
       "       0.99999994, 0.99999994, 0.99999994, 0.99999994, 0.99999995,\n",
       "       0.99999995, 0.99999995, 0.99999995, 0.99999995, 0.99999995,\n",
       "       0.99999995, 0.99999996, 0.99999996, 0.99999996, 0.99999996,\n",
       "       0.99999996, 0.99999996, 0.99999996, 0.99999996, 0.99999997,\n",
       "       0.99999997, 0.99999997, 0.99999997, 0.99999997, 0.99999997,\n",
       "       0.99999997, 0.99999997, 0.99999997, 0.99999997, 0.99999998,\n",
       "       0.99999998, 0.99999998, 0.99999998, 0.99999998, 0.99999998,\n",
       "       0.99999998, 0.99999998, 0.99999998, 0.99999998, 0.99999998,\n",
       "       0.99999998, 0.99999998, 0.99999998, 0.99999998, 0.99999998,\n",
       "       0.99999999, 0.99999999, 0.99999999, 0.99999999, 0.99999999,\n",
       "       0.99999999, 0.99999999, 0.99999999, 0.99999999, 0.99999999,\n",
       "       0.99999999, 0.99999999, 0.99999999, 0.99999999, 0.99999999,\n",
       "       0.99999999, 0.99999999, 0.99999999, 0.99999999, 0.99999999,\n",
       "       0.99999999, 0.99999999, 0.99999999, 0.99999999, 0.99999999,\n",
       "       0.99999999, 0.99999999, 0.99999999, 0.99999999, 0.99999999,\n",
       "       0.99999999, 0.99999999, 0.99999999, 1.        , 1.        ,\n",
       "       1.        , 1.        , 1.        , 1.        , 1.        ,\n",
       "       1.        , 1.        , 1.        , 1.        , 1.        ,\n",
       "       1.        , 1.        , 1.        , 1.        , 1.        ,\n",
       "       1.        , 1.        , 1.        , 1.        , 1.        ,\n",
       "       1.        , 1.        , 1.        , 1.        , 1.        ,\n",
       "       1.        , 1.        , 1.        , 1.        , 1.        ,\n",
       "       1.        , 1.        , 1.        , 1.        , 1.        ,\n",
       "       1.        , 1.        , 1.        , 1.        , 1.        ,\n",
       "       1.        , 1.        , 1.        , 1.        , 1.        ,\n",
       "       1.        , 1.        , 1.        , 1.        , 1.        ,\n",
       "       1.        , 1.        , 1.        , 1.        , 1.        ,\n",
       "       1.        , 1.        , 1.        , 1.        , 1.        ,\n",
       "       1.        , 1.        , 1.        , 1.        , 1.        ,\n",
       "       1.        , 1.        , 1.        , 1.        , 1.        ,\n",
       "       1.        , 1.        , 1.        , 1.        , 1.        ,\n",
       "       1.        , 1.        , 1.        , 1.        , 1.        ,\n",
       "       1.        , 1.        , 1.        , 1.        , 1.        ,\n",
       "       1.        , 1.        , 1.        , 1.        , 1.        ,\n",
       "       1.        , 1.        , 1.        , 1.        , 1.        ,\n",
       "       1.        , 1.        , 1.        , 1.        , 1.        ,\n",
       "       1.        , 1.        , 1.        , 1.        , 1.        ,\n",
       "       1.        , 1.        , 1.        , 1.        , 1.        ,\n",
       "       1.        , 1.        , 1.        , 1.        , 1.        ,\n",
       "       1.        , 1.        , 1.        , 1.        , 1.        ,\n",
       "       1.        , 1.        , 1.        , 1.        , 1.        ,\n",
       "       1.        ])"
      ]
     },
     "execution_count": 30,
     "metadata": {},
     "output_type": "execute_result"
    }
   ],
   "source": [
    "pca.explained_variance_ratio_.cumsum()"
   ]
  },
  {
   "cell_type": "code",
   "execution_count": 31,
   "metadata": {},
   "outputs": [
    {
     "data": {
      "image/png": "[encoded data removed]",
      "text/plain": [
       "<Figure size 432x288 with 1 Axes>"
      ]
     },
     "metadata": {},
     "output_type": "display_data"
    }
   ],
   "source": [
    "componantsprinccumsum = pca.explained_variance_ratio_.cumsum()\n",
    "plt.plot(range(len(componantsprinccumsum)), componantsprinccumsum, color = 'green')\n",
    "plt.title('Cumulative variance ratio')\n",
    "plt.ylabel('% Representation')\n",
    "plt.xlabel('Components')\n",
    "plt.show()"
   ]
  },
  {
   "cell_type": "code",
   "execution_count": 34,
   "metadata": {},
   "outputs": [
    {
     "data": {
      "image/png": "[encoded data removed]",
      "text/plain": [
       "<Figure size 432x288 with 2 Axes>"
      ]
     },
     "metadata": {},
     "output_type": "display_data"
    }
   ],
   "source": [
    "plt.scatter(Xpca[:, 0], Xpca[:, 1], c=spectra['target'])\n",
    "# Axis\n",
    "plt.plot([-40, 40], [0, 0], color='black', ls='--')\n",
    "plt.plot([0, 0], [-14, 14], color='black', ls='--')\n",
    "# Title\n",
    "plt.title('Component analysis')\n",
    "plt.xlabel('First component')\n",
    "plt.ylabel('Second component')\n",
    "plt.colorbar()\n",
    "plt.show()\n",
    "\n"
   ]
  },
  {
   "cell_type": "markdown",
   "metadata": {},
   "source": [
    "# Machine learning"
   ]
  },
  {
   "cell_type": "code",
   "execution_count": 35,
   "metadata": {},
   "outputs": [],
   "source": [
    "from sklearn.pipeline import Pipeline\n",
    "from sklearn.model_selection import GridSearchCV\n",
    "from sklearn.model_selection import cross_val_score\n",
    "from sklearn.model_selection import cross_val_predict\n",
    "from sklearn.metrics import mean_squared_error"
   ]
  },
  {
   "cell_type": "markdown",
   "metadata": {},
   "source": [
    "## Folds definition"
   ]
  },
  {
   "cell_type": "code",
   "execution_count": 36,
   "metadata": {},
   "outputs": [],
   "source": [
    "from sklearn.base import BaseEstimator, TransformerMixin"
   ]
  },
  {
   "cell_type": "code",
   "execution_count": 37,
   "metadata": {},
   "outputs": [],
   "source": [
    "from sklearn.model_selection import KFold\n",
    "kf = KFold(n_splits=5, shuffle=True)"
   ]
  },
  {
   "cell_type": "markdown",
   "metadata": {},
   "source": [
    "https://en.wikipedia.org/wiki/Savitzky%E2%80%93Golay_filter"
   ]
  },
  {
   "cell_type": "code",
   "execution_count": 46,
   "metadata": {},
   "outputs": [],
   "source": [
    "class Savgol(BaseEstimator, TransformerMixin):\n",
    "    \"\"\"Apply a lambda feature\"\"\"\n",
    "    def __init__(self, params={}):\n",
    "        self.params = params\n",
    "    \n",
    "    def fit(self, X, y=None):\n",
    "        return self\n",
    "    \n",
    "    def transform(self, X, y=None):\n",
    "        return X.apply(lambda x:savgol_filter(x, **self.params), axis=1)"
   ]
  },
  {
   "cell_type": "markdown",
   "metadata": {},
   "source": [
    "## Blocs creation"
   ]
  },
  {
   "cell_type": "code",
   "execution_count": 49,
   "metadata": {},
   "outputs": [],
   "source": [
    "savgol = Savgol({'window_length':5, 'polyorder':2})\n"
   ]
  },
  {
   "cell_type": "code",
   "execution_count": 50,
   "metadata": {},
   "outputs": [],
   "source": [
    "scaler = StandardScaler()"
   ]
  },
  {
   "cell_type": "code",
   "execution_count": 51,
   "metadata": {},
   "outputs": [],
   "source": [
    "pca = PCA()"
   ]
  },
  {
   "cell_type": "code",
   "execution_count": 52,
   "metadata": {},
   "outputs": [],
   "source": [
    "from sklearn.linear_model import ElasticNet\n",
    "elnet = ElasticNet(random_state=0)"
   ]
  },
  {
   "cell_type": "code",
   "execution_count": null,
   "metadata": {},
   "outputs": [],
   "source": []
  },
  {
   "cell_type": "markdown",
   "metadata": {},
   "source": [
    "## Linear regression"
   ]
  },
  {
   "cell_type": "code",
   "execution_count": 53,
   "metadata": {},
   "outputs": [],
   "source": [
    "\n",
    "\n",
    "#lrpipelist = [('scaler', scaler), ('pca', pca), ('elnet', elnet)]\n",
    "lrpipelist = [('savgol', savgol), ('scaler', scaler), ('pca', pca), ('elnet', elnet)]\n",
    "lrpipe = Pipeline(lrpipelist)"
   ]
  },
  {
   "cell_type": "code",
   "execution_count": 54,
   "metadata": {},
   "outputs": [],
   "source": [
    "params={\n",
    "        'pca__n_components':[5, None],\n",
    "        'elnet__alpha':np.logspace(-10,-2,10),\n",
    "        'elnet__l1_ratio':np.linspace(1e-5,1,10),\n",
    "       }"
   ]
  },
  {
   "cell_type": "code",
   "execution_count": 55,
   "metadata": {},
   "outputs": [
    {
     "name": "stderr",
     "output_type": "stream",
     "text": [
      "/Users/cricket/anaconda3/lib/python3.6/site-packages/sklearn/linear_model/coordinate_descent.py:491: ConvergenceWarning: Objective did not converge. You might want to increase the number of iterations. Fitting data with very small alpha may cause precision problems.\n",
      "  ConvergenceWarning)\n"
     ]
    },
    {
     "data": {
      "text/plain": [
       "GridSearchCV(cv=KFold(n_splits=10, random_state=None, shuffle=True),\n",
       "       error_score='raise',\n",
       "       estimator=Pipeline(memory=None,\n",
       "     steps=[('savgol', Savgol(params={'window_length': 5, 'polyorder': 2})), ('scaler', StandardScaler(copy=True, with_mean=True, with_std=True)), ('pca', PCA(copy=True, iterated_power='auto', n_components=None, random_state=None,\n",
       "  svd_solver='auto', tol=0.0, whiten=...=False, precompute=False,\n",
       "      random_state=0, selection='cyclic', tol=0.0001, warm_start=False))]),\n",
       "       fit_params=None, iid=True, n_jobs=-2,\n",
       "       param_grid={'pca__n_components': [5, None], 'elnet__alpha': array([1.00000e-10, 7.74264e-10, 5.99484e-09, 4.64159e-08, 3.59381e-07,\n",
       "       2.78256e-06, 2.15443e-05, 1.66810e-04, 1.29155e-03, 1.00000e-02]), 'elnet__l1_ratio': array([1.0000e-05, 1.1112e-01, 2.2223e-01, 3.3334e-01, 4.4445e-01,\n",
       "       5.5556e-01, 6.6667e-01, 7.7778e-01, 8.8889e-01, 1.0000e+00])},\n",
       "       pre_dispatch='2*n_jobs', refit=True, return_train_score='warn',\n",
       "       scoring='neg_mean_squared_error', verbose=0)"
      ]
     },
     "execution_count": 55,
     "metadata": {},
     "output_type": "execute_result"
    }
   ],
   "source": [
    "lrgrid = GridSearchCV(lrpipe, params, cv=kf, scoring='neg_mean_squared_error', verbose=0, n_jobs=-2)\n",
    "lrgrid.fit(X,y)"
   ]
  },
  {
   "cell_type": "code",
   "execution_count": 56,
   "metadata": {},
   "outputs": [
    {
     "data": {
      "text/plain": [
       "-0.00015086205113280733"
      ]
     },
     "execution_count": 56,
     "metadata": {},
     "output_type": "execute_result"
    }
   ],
   "source": [
    "lrgrid.best_score_"
   ]
  },
  {
   "cell_type": "code",
   "execution_count": 57,
   "metadata": {},
   "outputs": [
    {
     "data": {
      "text/plain": [
       "{'elnet__alpha': 2.782559402207126e-06,\n",
       " 'elnet__l1_ratio': 1e-05,\n",
       " 'pca__n_components': None}"
      ]
     },
     "execution_count": 57,
     "metadata": {},
     "output_type": "execute_result"
    }
   ],
   "source": [
    "lrgrid.best_params_"
   ]
  },
  {
   "cell_type": "code",
   "execution_count": 58,
   "metadata": {},
   "outputs": [
    {
     "data": {
      "text/plain": [
       "-0.00014006137025810556"
      ]
     },
     "execution_count": 58,
     "metadata": {},
     "output_type": "execute_result"
    }
   ],
   "source": [
    "bestparams = {k[7:]:v  for k,v in lrgrid.best_params_.items() if k.startswith('elnet__')}\n",
    "elnet = ElasticNet(**bestparams, random_state=0)\n",
    "\n",
    "lrpipelist = [('savgol', savgol), ('scaler', scaler), ('pca', pca), ('elnet', elnet)]\n",
    "lrpipe = Pipeline(lrpipelist)\n",
    "cross_val_score(lrpipe, X, y, cv=kf, scoring='neg_mean_squared_error').mean()"
   ]
  },
  {
   "cell_type": "code",
   "execution_count": 61,
   "metadata": {},
   "outputs": [
    {
     "data": {
      "text/plain": [
       "15.59913116043148"
      ]
     },
     "execution_count": 61,
     "metadata": {},
     "output_type": "execute_result"
    }
   ],
   "source": [
    "preds = cross_val_predict(lrpipe, X, y, cv=kf)\n",
    "ypred = inv_boxcox(preds, lmbda)\n",
    "mean_squared_error(ypred, spectra['target'])"
   ]
  },
  {
   "cell_type": "code",
   "execution_count": 63,
   "metadata": {},
   "outputs": [
    {
     "data": {
      "text/plain": [
       "3.949573541590469"
      ]
     },
     "execution_count": 63,
     "metadata": {},
     "output_type": "execute_result"
    }
   ],
   "source": [
    "mean_squared_error(ypred, spectra['target'])**.5"
   ]
  },
  {
   "cell_type": "code",
   "execution_count": null,
   "metadata": {},
   "outputs": [],
   "source": []
  },
  {
   "cell_type": "markdown",
   "metadata": {},
   "source": [
    "## Test on new data"
   ]
  },
  {
   "cell_type": "code",
   "execution_count": 41,
   "metadata": {},
   "outputs": [
    {
     "data": {
      "text/html": [
       "<div>\n",
       "<style scoped>\n",
       "    .dataframe tbody tr th:only-of-type {\n",
       "        vertical-align: middle;\n",
       "    }\n",
       "\n",
       "    .dataframe tbody tr th {\n",
       "        vertical-align: top;\n",
       "    }\n",
       "\n",
       "    .dataframe thead th {\n",
       "        text-align: right;\n",
       "    }\n",
       "</style>\n",
       "<table border=\"1\" class=\"dataframe\">\n",
       "  <thead>\n",
       "    <tr style=\"text-align: right;\">\n",
       "      <th></th>\n",
       "      <th>Unnamed: 1</th>\n",
       "      <th>950</th>\n",
       "      <th>952</th>\n",
       "      <th>954</th>\n",
       "      <th>956</th>\n",
       "      <th>958</th>\n",
       "      <th>960</th>\n",
       "      <th>962</th>\n",
       "      <th>964</th>\n",
       "      <th>966</th>\n",
       "      <th>...</th>\n",
       "      <th>1512</th>\n",
       "      <th>1514</th>\n",
       "      <th>1516</th>\n",
       "      <th>1518</th>\n",
       "      <th>1520</th>\n",
       "      <th>1522</th>\n",
       "      <th>1524</th>\n",
       "      <th>1526</th>\n",
       "      <th>1528</th>\n",
       "      <th>1530</th>\n",
       "    </tr>\n",
       "  </thead>\n",
       "  <tbody>\n",
       "    <tr>\n",
       "      <th>0</th>\n",
       "      <td>20180629_065539_1151_0_61</td>\n",
       "      <td>37.940895</td>\n",
       "      <td>36.962978</td>\n",
       "      <td>35.990196</td>\n",
       "      <td>35.117172</td>\n",
       "      <td>34.386551</td>\n",
       "      <td>33.859371</td>\n",
       "      <td>33.424519</td>\n",
       "      <td>33.079514</td>\n",
       "      <td>32.862106</td>\n",
       "      <td>...</td>\n",
       "      <td>1.105209</td>\n",
       "      <td>1.192093</td>\n",
       "      <td>1.260405</td>\n",
       "      <td>1.300014</td>\n",
       "      <td>1.364497</td>\n",
       "      <td>1.434931</td>\n",
       "      <td>1.504250</td>\n",
       "      <td>1.577271</td>\n",
       "      <td>1.647106</td>\n",
       "      <td>1.714334</td>\n",
       "    </tr>\n",
       "    <tr>\n",
       "      <th>1</th>\n",
       "      <td>20180629_065653_1151_0_62</td>\n",
       "      <td>36.959248</td>\n",
       "      <td>35.962429</td>\n",
       "      <td>34.969803</td>\n",
       "      <td>34.078838</td>\n",
       "      <td>33.332073</td>\n",
       "      <td>32.790833</td>\n",
       "      <td>32.347843</td>\n",
       "      <td>31.996643</td>\n",
       "      <td>31.774275</td>\n",
       "      <td>...</td>\n",
       "      <td>0.826671</td>\n",
       "      <td>0.917298</td>\n",
       "      <td>0.991051</td>\n",
       "      <td>1.034409</td>\n",
       "      <td>1.102779</td>\n",
       "      <td>1.176222</td>\n",
       "      <td>1.247581</td>\n",
       "      <td>1.322678</td>\n",
       "      <td>1.396483</td>\n",
       "      <td>1.468275</td>\n",
       "    </tr>\n",
       "    <tr>\n",
       "      <th>2</th>\n",
       "      <td>20180629_065807_1151_0_63</td>\n",
       "      <td>36.430119</td>\n",
       "      <td>35.442524</td>\n",
       "      <td>34.463196</td>\n",
       "      <td>33.584980</td>\n",
       "      <td>32.847431</td>\n",
       "      <td>32.309505</td>\n",
       "      <td>31.865309</td>\n",
       "      <td>31.510284</td>\n",
       "      <td>31.280643</td>\n",
       "      <td>...</td>\n",
       "      <td>0.867504</td>\n",
       "      <td>0.965108</td>\n",
       "      <td>1.042037</td>\n",
       "      <td>1.089398</td>\n",
       "      <td>1.160517</td>\n",
       "      <td>1.237220</td>\n",
       "      <td>1.310518</td>\n",
       "      <td>1.387354</td>\n",
       "      <td>1.462649</td>\n",
       "      <td>1.544537</td>\n",
       "    </tr>\n",
       "    <tr>\n",
       "      <th>3</th>\n",
       "      <td>20180629_065926_1151_0_64</td>\n",
       "      <td>36.535084</td>\n",
       "      <td>35.559456</td>\n",
       "      <td>34.586723</td>\n",
       "      <td>33.717621</td>\n",
       "      <td>32.990570</td>\n",
       "      <td>32.465195</td>\n",
       "      <td>32.033497</td>\n",
       "      <td>31.690992</td>\n",
       "      <td>31.474405</td>\n",
       "      <td>...</td>\n",
       "      <td>0.315956</td>\n",
       "      <td>0.410657</td>\n",
       "      <td>0.484760</td>\n",
       "      <td>0.530601</td>\n",
       "      <td>0.599764</td>\n",
       "      <td>0.673759</td>\n",
       "      <td>0.744144</td>\n",
       "      <td>0.819291</td>\n",
       "      <td>0.892466</td>\n",
       "      <td>0.972292</td>\n",
       "    </tr>\n",
       "    <tr>\n",
       "      <th>4</th>\n",
       "      <td>20180629_071704_1151_0_65</td>\n",
       "      <td>36.978073</td>\n",
       "      <td>36.053505</td>\n",
       "      <td>35.134171</td>\n",
       "      <td>34.314812</td>\n",
       "      <td>33.629318</td>\n",
       "      <td>33.133205</td>\n",
       "      <td>32.725826</td>\n",
       "      <td>32.402027</td>\n",
       "      <td>32.195721</td>\n",
       "      <td>...</td>\n",
       "      <td>1.383403</td>\n",
       "      <td>1.474111</td>\n",
       "      <td>1.553763</td>\n",
       "      <td>1.605679</td>\n",
       "      <td>1.679225</td>\n",
       "      <td>1.758519</td>\n",
       "      <td>1.836411</td>\n",
       "      <td>1.917062</td>\n",
       "      <td>1.994701</td>\n",
       "      <td>2.079051</td>\n",
       "    </tr>\n",
       "    <tr>\n",
       "      <th>5</th>\n",
       "      <td>20180629_071759_1151_0_66</td>\n",
       "      <td>37.112080</td>\n",
       "      <td>36.124336</td>\n",
       "      <td>35.140778</td>\n",
       "      <td>34.263313</td>\n",
       "      <td>33.526340</td>\n",
       "      <td>32.987194</td>\n",
       "      <td>32.543266</td>\n",
       "      <td>32.189835</td>\n",
       "      <td>31.963789</td>\n",
       "      <td>...</td>\n",
       "      <td>0.881216</td>\n",
       "      <td>0.962744</td>\n",
       "      <td>1.030668</td>\n",
       "      <td>1.072342</td>\n",
       "      <td>1.135710</td>\n",
       "      <td>1.202603</td>\n",
       "      <td>1.269441</td>\n",
       "      <td>1.339502</td>\n",
       "      <td>1.407967</td>\n",
       "      <td>1.482568</td>\n",
       "    </tr>\n",
       "    <tr>\n",
       "      <th>6</th>\n",
       "      <td>20180629_071850_1151_0_67</td>\n",
       "      <td>36.796608</td>\n",
       "      <td>35.830574</td>\n",
       "      <td>34.870983</td>\n",
       "      <td>34.011414</td>\n",
       "      <td>33.289494</td>\n",
       "      <td>32.762596</td>\n",
       "      <td>32.330921</td>\n",
       "      <td>31.988190</td>\n",
       "      <td>31.770229</td>\n",
       "      <td>...</td>\n",
       "      <td>1.302107</td>\n",
       "      <td>1.394460</td>\n",
       "      <td>1.471335</td>\n",
       "      <td>1.521640</td>\n",
       "      <td>1.594577</td>\n",
       "      <td>1.671025</td>\n",
       "      <td>1.747438</td>\n",
       "      <td>1.827538</td>\n",
       "      <td>1.903957</td>\n",
       "      <td>1.988091</td>\n",
       "    </tr>\n",
       "    <tr>\n",
       "      <th>7</th>\n",
       "      <td>20180629_071922_1151_0_68</td>\n",
       "      <td>36.643765</td>\n",
       "      <td>35.654793</td>\n",
       "      <td>34.672718</td>\n",
       "      <td>33.790176</td>\n",
       "      <td>33.048386</td>\n",
       "      <td>32.506683</td>\n",
       "      <td>32.067062</td>\n",
       "      <td>31.716431</td>\n",
       "      <td>31.487658</td>\n",
       "      <td>...</td>\n",
       "      <td>0.978107</td>\n",
       "      <td>1.061070</td>\n",
       "      <td>1.129755</td>\n",
       "      <td>1.171959</td>\n",
       "      <td>1.235583</td>\n",
       "      <td>1.303460</td>\n",
       "      <td>1.369588</td>\n",
       "      <td>1.438979</td>\n",
       "      <td>1.506408</td>\n",
       "      <td>1.580287</td>\n",
       "    </tr>\n",
       "    <tr>\n",
       "      <th>8</th>\n",
       "      <td>20180629_072044_1151_0_69</td>\n",
       "      <td>36.479221</td>\n",
       "      <td>35.563881</td>\n",
       "      <td>34.653393</td>\n",
       "      <td>33.832039</td>\n",
       "      <td>33.142319</td>\n",
       "      <td>32.641079</td>\n",
       "      <td>32.227112</td>\n",
       "      <td>31.896763</td>\n",
       "      <td>31.684326</td>\n",
       "      <td>...</td>\n",
       "      <td>0.377246</td>\n",
       "      <td>0.471061</td>\n",
       "      <td>0.550101</td>\n",
       "      <td>0.603212</td>\n",
       "      <td>0.678430</td>\n",
       "      <td>0.756278</td>\n",
       "      <td>0.834760</td>\n",
       "      <td>0.916124</td>\n",
       "      <td>0.994372</td>\n",
       "      <td>1.069565</td>\n",
       "    </tr>\n",
       "    <tr>\n",
       "      <th>9</th>\n",
       "      <td>20180629_072140_1151_0_70</td>\n",
       "      <td>36.391006</td>\n",
       "      <td>35.453556</td>\n",
       "      <td>34.517822</td>\n",
       "      <td>33.678104</td>\n",
       "      <td>32.972988</td>\n",
       "      <td>32.459129</td>\n",
       "      <td>32.037731</td>\n",
       "      <td>31.702637</td>\n",
       "      <td>31.488548</td>\n",
       "      <td>...</td>\n",
       "      <td>0.276499</td>\n",
       "      <td>0.369123</td>\n",
       "      <td>0.447528</td>\n",
       "      <td>0.499328</td>\n",
       "      <td>0.572660</td>\n",
       "      <td>0.651738</td>\n",
       "      <td>0.728322</td>\n",
       "      <td>0.807544</td>\n",
       "      <td>0.885885</td>\n",
       "      <td>0.968575</td>\n",
       "    </tr>\n",
       "  </tbody>\n",
       "</table>\n",
       "<p>10 rows × 292 columns</p>\n",
       "</div>"
      ],
      "text/plain": [
       "                  Unnamed: 1        950        952        954        956  \\\n",
       "0  20180629_065539_1151_0_61  37.940895  36.962978  35.990196  35.117172   \n",
       "1  20180629_065653_1151_0_62  36.959248  35.962429  34.969803  34.078838   \n",
       "2  20180629_065807_1151_0_63  36.430119  35.442524  34.463196  33.584980   \n",
       "3  20180629_065926_1151_0_64  36.535084  35.559456  34.586723  33.717621   \n",
       "4  20180629_071704_1151_0_65  36.978073  36.053505  35.134171  34.314812   \n",
       "5  20180629_071759_1151_0_66  37.112080  36.124336  35.140778  34.263313   \n",
       "6  20180629_071850_1151_0_67  36.796608  35.830574  34.870983  34.011414   \n",
       "7  20180629_071922_1151_0_68  36.643765  35.654793  34.672718  33.790176   \n",
       "8  20180629_072044_1151_0_69  36.479221  35.563881  34.653393  33.832039   \n",
       "9  20180629_072140_1151_0_70  36.391006  35.453556  34.517822  33.678104   \n",
       "\n",
       "         958        960        962        964        966    ...         1512  \\\n",
       "0  34.386551  33.859371  33.424519  33.079514  32.862106    ...     1.105209   \n",
       "1  33.332073  32.790833  32.347843  31.996643  31.774275    ...     0.826671   \n",
       "2  32.847431  32.309505  31.865309  31.510284  31.280643    ...     0.867504   \n",
       "3  32.990570  32.465195  32.033497  31.690992  31.474405    ...     0.315956   \n",
       "4  33.629318  33.133205  32.725826  32.402027  32.195721    ...     1.383403   \n",
       "5  33.526340  32.987194  32.543266  32.189835  31.963789    ...     0.881216   \n",
       "6  33.289494  32.762596  32.330921  31.988190  31.770229    ...     1.302107   \n",
       "7  33.048386  32.506683  32.067062  31.716431  31.487658    ...     0.978107   \n",
       "8  33.142319  32.641079  32.227112  31.896763  31.684326    ...     0.377246   \n",
       "9  32.972988  32.459129  32.037731  31.702637  31.488548    ...     0.276499   \n",
       "\n",
       "       1514      1516      1518      1520      1522      1524      1526  \\\n",
       "0  1.192093  1.260405  1.300014  1.364497  1.434931  1.504250  1.577271   \n",
       "1  0.917298  0.991051  1.034409  1.102779  1.176222  1.247581  1.322678   \n",
       "2  0.965108  1.042037  1.089398  1.160517  1.237220  1.310518  1.387354   \n",
       "3  0.410657  0.484760  0.530601  0.599764  0.673759  0.744144  0.819291   \n",
       "4  1.474111  1.553763  1.605679  1.679225  1.758519  1.836411  1.917062   \n",
       "5  0.962744  1.030668  1.072342  1.135710  1.202603  1.269441  1.339502   \n",
       "6  1.394460  1.471335  1.521640  1.594577  1.671025  1.747438  1.827538   \n",
       "7  1.061070  1.129755  1.171959  1.235583  1.303460  1.369588  1.438979   \n",
       "8  0.471061  0.550101  0.603212  0.678430  0.756278  0.834760  0.916124   \n",
       "9  0.369123  0.447528  0.499328  0.572660  0.651738  0.728322  0.807544   \n",
       "\n",
       "       1528      1530  \n",
       "0  1.647106  1.714334  \n",
       "1  1.396483  1.468275  \n",
       "2  1.462649  1.544537  \n",
       "3  0.892466  0.972292  \n",
       "4  1.994701  2.079051  \n",
       "5  1.407967  1.482568  \n",
       "6  1.903957  1.988091  \n",
       "7  1.506408  1.580287  \n",
       "8  0.994372  1.069565  \n",
       "9  0.885885  0.968575  \n",
       "\n",
       "[10 rows x 292 columns]"
      ]
     },
     "execution_count": 41,
     "metadata": {},
     "output_type": "execute_result"
    }
   ],
   "source": [
    "testset = pd.read_csv('NewData.csv', header=127)\n",
    "testset.drop(['Nanometers', 'Unnamed: 2'], axis=1, inplace=True)\n",
    "#testset.rename(columns={'Unnamed: 1' : 'Filename', 'Unnamed: 2':'Subfile Index'}, inplace=True)\n",
    "#testset.head(10)\n",
    "#spectra.drop(['Nanometers', 'Unnamed: 294'], axis=1, inplace=True)\n",
    "#spectra.rename(columns={'Unnamed: 1' : 'Filename', 'Unnamed: 2':'Subfile Index'}, inplace=True)\n",
    "testset.head(10)"
   ]
  },
  {
   "cell_type": "code",
   "execution_count": 47,
   "metadata": {},
   "outputs": [],
   "source": [
    "Xtest = testset.iloc[:,1:]\n"
   ]
  },
  {
   "cell_type": "code",
   "execution_count": 50,
   "metadata": {},
   "outputs": [],
   "source": [
    "preds = lrgrid.predict(Xtest)\n",
    "ytest = inv_boxcox(preds, lmbda)"
   ]
  },
  {
   "cell_type": "code",
   "execution_count": 51,
   "metadata": {},
   "outputs": [
    {
     "data": {
      "text/plain": [
       "(60,)"
      ]
     },
     "execution_count": 51,
     "metadata": {},
     "output_type": "execute_result"
    }
   ],
   "source": [
    "ytest.shape"
   ]
  },
  {
   "cell_type": "code",
   "execution_count": 55,
   "metadata": {},
   "outputs": [
    {
     "data": {
      "text/html": [
       "<div>\n",
       "<style scoped>\n",
       "    .dataframe tbody tr th:only-of-type {\n",
       "        vertical-align: middle;\n",
       "    }\n",
       "\n",
       "    .dataframe tbody tr th {\n",
       "        vertical-align: top;\n",
       "    }\n",
       "\n",
       "    .dataframe thead th {\n",
       "        text-align: right;\n",
       "    }\n",
       "</style>\n",
       "<table border=\"1\" class=\"dataframe\">\n",
       "  <thead>\n",
       "    <tr style=\"text-align: right;\">\n",
       "      <th></th>\n",
       "      <th>0</th>\n",
       "    </tr>\n",
       "  </thead>\n",
       "  <tbody>\n",
       "    <tr>\n",
       "      <th>0</th>\n",
       "      <td>90.666667</td>\n",
       "    </tr>\n",
       "    <tr>\n",
       "      <th>1</th>\n",
       "      <td>90.666667</td>\n",
       "    </tr>\n",
       "    <tr>\n",
       "      <th>2</th>\n",
       "      <td>90.666667</td>\n",
       "    </tr>\n",
       "    <tr>\n",
       "      <th>3</th>\n",
       "      <td>90.666667</td>\n",
       "    </tr>\n",
       "    <tr>\n",
       "      <th>4</th>\n",
       "      <td>93.000000</td>\n",
       "    </tr>\n",
       "  </tbody>\n",
       "</table>\n",
       "</div>"
      ],
      "text/plain": [
       "           0\n",
       "0  90.666667\n",
       "1  90.666667\n",
       "2  90.666667\n",
       "3  90.666667\n",
       "4  93.000000"
      ]
     },
     "execution_count": 55,
     "metadata": {},
     "output_type": "execute_result"
    }
   ],
   "source": [
    "truetest = pd.read_csv('Answers.csv', header=None)\n",
    "truetest.head()"
   ]
  },
  {
   "cell_type": "code",
   "execution_count": 56,
   "metadata": {},
   "outputs": [
    {
     "data": {
      "text/plain": [
       "4.321731301526989"
      ]
     },
     "execution_count": 56,
     "metadata": {},
     "output_type": "execute_result"
    }
   ],
   "source": [
    "mean_squared_error(truetest, ytest)**.5"
   ]
  },
  {
   "cell_type": "code",
   "execution_count": 63,
   "metadata": {},
   "outputs": [
    {
     "data": {
      "text/html": [
       "<div>\n",
       "<style scoped>\n",
       "    .dataframe tbody tr th:only-of-type {\n",
       "        vertical-align: middle;\n",
       "    }\n",
       "\n",
       "    .dataframe tbody tr th {\n",
       "        vertical-align: top;\n",
       "    }\n",
       "\n",
       "    .dataframe thead th {\n",
       "        text-align: right;\n",
       "    }\n",
       "</style>\n",
       "<table border=\"1\" class=\"dataframe\">\n",
       "  <thead>\n",
       "    <tr style=\"text-align: right;\">\n",
       "      <th></th>\n",
       "      <th>True</th>\n",
       "      <th>Pred</th>\n",
       "    </tr>\n",
       "  </thead>\n",
       "  <tbody>\n",
       "    <tr>\n",
       "      <th>0</th>\n",
       "      <td>90.666667</td>\n",
       "      <td>85.928201</td>\n",
       "    </tr>\n",
       "    <tr>\n",
       "      <th>1</th>\n",
       "      <td>90.666667</td>\n",
       "      <td>85.846878</td>\n",
       "    </tr>\n",
       "    <tr>\n",
       "      <th>2</th>\n",
       "      <td>90.666667</td>\n",
       "      <td>86.670675</td>\n",
       "    </tr>\n",
       "    <tr>\n",
       "      <th>3</th>\n",
       "      <td>90.666667</td>\n",
       "      <td>80.986965</td>\n",
       "    </tr>\n",
       "    <tr>\n",
       "      <th>4</th>\n",
       "      <td>93.000000</td>\n",
       "      <td>92.004741</td>\n",
       "    </tr>\n",
       "  </tbody>\n",
       "</table>\n",
       "</div>"
      ],
      "text/plain": [
       "        True       Pred\n",
       "0  90.666667  85.928201\n",
       "1  90.666667  85.846878\n",
       "2  90.666667  86.670675\n",
       "3  90.666667  80.986965\n",
       "4  93.000000  92.004741"
      ]
     },
     "execution_count": 63,
     "metadata": {},
     "output_type": "execute_result"
    }
   ],
   "source": [
    "df = pd.concat([truetest, pd.DataFrame(ytest)], axis=1)\n",
    "df.columns = ['True', 'Pred']\n",
    "df.head()"
   ]
  },
  {
   "cell_type": "code",
   "execution_count": 62,
   "metadata": {},
   "outputs": [],
   "source": [
    "import seaborn as sns"
   ]
  },
  {
   "cell_type": "code",
   "execution_count": 67,
   "metadata": {},
   "outputs": [
    {
     "name": "stderr",
     "output_type": "stream",
     "text": [
      "/Users/cricket/anaconda3/lib/python3.6/site-packages/matplotlib/axes/_axes.py:6448: UserWarning: The 'normed' kwarg is deprecated, and has been replaced by the 'density' kwarg.\n",
      "  warnings.warn(\"The 'normed' kwarg is deprecated, and has been \"\n"
     ]
    },
    {
     "data": {
      "text/plain": [
       "<seaborn.axisgrid.JointGrid at 0x1a1e2f66d8>"
      ]
     },
     "execution_count": 67,
     "metadata": {},
     "output_type": "execute_result"
    },
    {
     "data": {
      "image/png": "[encoded data removed]",
      "text/plain": [
       "<Figure size 432x432 with 3 Axes>"
      ]
     },
     "metadata": {},
     "output_type": "display_data"
    }
   ],
   "source": [
    "sns.jointplot(\"True\", \"Pred\", data=df, kind='reg')"
   ]
  },
  {
   "cell_type": "code",
   "execution_count": null,
   "metadata": {},
   "outputs": [],
   "source": []
  },
  {
   "cell_type": "markdown",
   "metadata": {},
   "source": [
    "### HyperOpt"
   ]
  },
  {
   "cell_type": "code",
   "execution_count": 64,
   "metadata": {},
   "outputs": [],
   "source": [
    "from hyperopt import hp, tpe\n",
    "from hyperopt.fmin import fmin"
   ]
  },
  {
   "cell_type": "code",
   "execution_count": 65,
   "metadata": {},
   "outputs": [
    {
     "name": "stdout",
     "output_type": "stream",
     "text": [
      "50 - MSE 0.0006154889209539066\n",
      "100 - MSE 0.000215432836761324\n",
      "150 - MSE 0.0001754127556807155\n",
      "200 - MSE 0.0006024503750819626\n",
      "250 - MSE 0.000474838218091623\n",
      "300 - MSE 0.0001681611235249569\n",
      "350 - MSE 0.0005402709162196787\n",
      "400 - MSE 0.00020130461768572307\n",
      "450 - MSE 0.00018067164734632865\n",
      "500 - MSE 0.00016629721052931196\n"
     ]
    }
   ],
   "source": [
    "counter = 0\n",
    "def objective(params):\n",
    "    global counter\n",
    "    counter += 1\n",
    "    hyperparams = {\n",
    "        'alpha': params['alpha'],\n",
    "        'l1_ratio': params['l1_ratio'],\n",
    "        'random_state': 0,\n",
    "        }\n",
    "    \n",
    "    #print(hyperparams)\n",
    "    \n",
    "    elnet = ElasticNet(**hyperparams)\n",
    "\n",
    "    pipe = [('savgol', savgol), ('scaler', scaler), ('pca', pca), ('elnet', elnet)]\n",
    "    regpip = Pipeline(pipe)    \n",
    "    \n",
    "    score = cross_val_score(regpip, X, y, scoring='neg_mean_squared_error', cv=kf, n_jobs=-2).mean()\n",
    "    if counter % 50 == 0:\n",
    "        print(\"{} - MSE {}\".format(counter, -score))\n",
    "    return -score\n",
    "\n",
    "space = {\n",
    "    'alpha': hp.loguniform('alpha', -10, 2),\n",
    "    'l1_ratio': hp.loguniform('l1_ratio',-20, 0),\n",
    "}\n",
    "\n",
    "best = fmin(fn=objective,\n",
    "            space=space,\n",
    "            algo=tpe.suggest,\n",
    "            max_evals=500)"
   ]
  },
  {
   "cell_type": "code",
   "execution_count": 66,
   "metadata": {},
   "outputs": [
    {
     "data": {
      "text/plain": [
       "{'alpha': 4.612868333086635e-05,\n",
       " 'l1_ratio': 0.0019504104763974628,\n",
       " 'random_state': 0}"
      ]
     },
     "execution_count": 66,
     "metadata": {},
     "output_type": "execute_result"
    }
   ],
   "source": [
    "params = {\n",
    "        'alpha': best['alpha'],\n",
    "        'l1_ratio': best['l1_ratio'],\n",
    "        'random_state': 0,\n",
    "        }\n",
    "params"
   ]
  },
  {
   "cell_type": "code",
   "execution_count": 67,
   "metadata": {},
   "outputs": [
    {
     "data": {
      "text/plain": [
       "18.917506065080328"
      ]
     },
     "execution_count": 67,
     "metadata": {},
     "output_type": "execute_result"
    }
   ],
   "source": [
    "elnet = ElasticNet(**params)\n",
    "pipe = [('savgol', savgol), ('scaler', scaler), ('pca', pca), ('elnet', elnet)]\n",
    "regpip = Pipeline(pipe)\n",
    "\n",
    "preds = cross_val_predict(regpip, X, y, cv=kf)\n",
    "ypred = inv_boxcox(preds, lmbda)\n",
    "mean_squared_error(ypred, spectra['target'])"
   ]
  },
  {
   "cell_type": "code",
   "execution_count": 69,
   "metadata": {},
   "outputs": [
    {
     "data": {
      "text/plain": [
       "4.349425946614143"
      ]
     },
     "execution_count": 69,
     "metadata": {},
     "output_type": "execute_result"
    }
   ],
   "source": [
    "mean_squared_error(ypred, spectra['target'])**.5"
   ]
  },
  {
   "cell_type": "markdown",
   "metadata": {},
   "source": [
    "## Score accuracy"
   ]
  },
  {
   "cell_type": "code",
   "execution_count": 72,
   "metadata": {},
   "outputs": [
    {
     "data": {
      "text/html": [
       "<div>\n",
       "<style scoped>\n",
       "    .dataframe tbody tr th:only-of-type {\n",
       "        vertical-align: middle;\n",
       "    }\n",
       "\n",
       "    .dataframe tbody tr th {\n",
       "        vertical-align: top;\n",
       "    }\n",
       "\n",
       "    .dataframe thead th {\n",
       "        text-align: right;\n",
       "    }\n",
       "</style>\n",
       "<table border=\"1\" class=\"dataframe\">\n",
       "  <thead>\n",
       "    <tr style=\"text-align: right;\">\n",
       "      <th></th>\n",
       "      <th>pred</th>\n",
       "      <th>sampeID</th>\n",
       "      <th>target</th>\n",
       "    </tr>\n",
       "  </thead>\n",
       "  <tbody>\n",
       "    <tr>\n",
       "      <th>0</th>\n",
       "      <td>92.882914</td>\n",
       "      <td>0</td>\n",
       "      <td>94.333333</td>\n",
       "    </tr>\n",
       "    <tr>\n",
       "      <th>1</th>\n",
       "      <td>94.650645</td>\n",
       "      <td>0</td>\n",
       "      <td>94.333333</td>\n",
       "    </tr>\n",
       "    <tr>\n",
       "      <th>2</th>\n",
       "      <td>95.072993</td>\n",
       "      <td>0</td>\n",
       "      <td>94.333333</td>\n",
       "    </tr>\n",
       "    <tr>\n",
       "      <th>3</th>\n",
       "      <td>93.827393</td>\n",
       "      <td>0</td>\n",
       "      <td>94.333333</td>\n",
       "    </tr>\n",
       "    <tr>\n",
       "      <th>4</th>\n",
       "      <td>81.765618</td>\n",
       "      <td>1</td>\n",
       "      <td>76.333333</td>\n",
       "    </tr>\n",
       "  </tbody>\n",
       "</table>\n",
       "</div>"
      ],
      "text/plain": [
       "        pred  sampeID     target\n",
       "0  92.882914        0  94.333333\n",
       "1  94.650645        0  94.333333\n",
       "2  95.072993        0  94.333333\n",
       "3  93.827393        0  94.333333\n",
       "4  81.765618        1  76.333333"
      ]
     },
     "execution_count": 72,
     "metadata": {},
     "output_type": "execute_result"
    }
   ],
   "source": [
    "df = pd.DataFrame({'target':spectra['target'], 'pred':ypred, 'sampeID':spectra['sampleID']})\n",
    "df.head()"
   ]
  },
  {
   "cell_type": "code",
   "execution_count": 73,
   "metadata": {},
   "outputs": [
    {
     "data": {
      "text/html": [
       "<div>\n",
       "<style scoped>\n",
       "    .dataframe tbody tr th:only-of-type {\n",
       "        vertical-align: middle;\n",
       "    }\n",
       "\n",
       "    .dataframe tbody tr th {\n",
       "        vertical-align: top;\n",
       "    }\n",
       "\n",
       "    .dataframe thead th {\n",
       "        text-align: right;\n",
       "    }\n",
       "</style>\n",
       "<table border=\"1\" class=\"dataframe\">\n",
       "  <thead>\n",
       "    <tr style=\"text-align: right;\">\n",
       "      <th></th>\n",
       "      <th>pred</th>\n",
       "      <th>sampeID</th>\n",
       "      <th>target</th>\n",
       "      <th>delta</th>\n",
       "    </tr>\n",
       "  </thead>\n",
       "  <tbody>\n",
       "    <tr>\n",
       "      <th>0</th>\n",
       "      <td>92.882914</td>\n",
       "      <td>0</td>\n",
       "      <td>94.333333</td>\n",
       "      <td>1.450420</td>\n",
       "    </tr>\n",
       "    <tr>\n",
       "      <th>1</th>\n",
       "      <td>94.650645</td>\n",
       "      <td>0</td>\n",
       "      <td>94.333333</td>\n",
       "      <td>0.317312</td>\n",
       "    </tr>\n",
       "    <tr>\n",
       "      <th>2</th>\n",
       "      <td>95.072993</td>\n",
       "      <td>0</td>\n",
       "      <td>94.333333</td>\n",
       "      <td>0.739660</td>\n",
       "    </tr>\n",
       "    <tr>\n",
       "      <th>3</th>\n",
       "      <td>93.827393</td>\n",
       "      <td>0</td>\n",
       "      <td>94.333333</td>\n",
       "      <td>0.505940</td>\n",
       "    </tr>\n",
       "    <tr>\n",
       "      <th>4</th>\n",
       "      <td>81.765618</td>\n",
       "      <td>1</td>\n",
       "      <td>76.333333</td>\n",
       "      <td>5.432284</td>\n",
       "    </tr>\n",
       "  </tbody>\n",
       "</table>\n",
       "</div>"
      ],
      "text/plain": [
       "        pred  sampeID     target     delta\n",
       "0  92.882914        0  94.333333  1.450420\n",
       "1  94.650645        0  94.333333  0.317312\n",
       "2  95.072993        0  94.333333  0.739660\n",
       "3  93.827393        0  94.333333  0.505940\n",
       "4  81.765618        1  76.333333  5.432284"
      ]
     },
     "execution_count": 73,
     "metadata": {},
     "output_type": "execute_result"
    }
   ],
   "source": [
    "df['delta'] = np.abs(df['target'] - df['pred'])\n",
    "df.head()"
   ]
  },
  {
   "cell_type": "code",
   "execution_count": 104,
   "metadata": {},
   "outputs": [
    {
     "name": "stdout",
     "output_type": "stream",
     "text": [
      "sample size: 374\n",
      "prediction +/- 0.5 : percent 08.29 %\n",
      "prediction +/- 1.0 : percent 18.18 %\n",
      "prediction +/- 2.0 : percent 35.83 %\n",
      "prediction +/- 4.0 : percent 65.24 %\n",
      "prediction +/- 6.0 : percent 83.69 %\n",
      "prediction +/- 8.0 : percent 94.39 %\n"
     ]
    }
   ],
   "source": [
    "samplesize = df.shape[0]\n",
    "print('sample size:', samplesize)\n",
    "\n",
    "for errorabs in [.5, 1, 2, 4,6, 8]:\n",
    "    correctcount = df[df['delta'] < errorabs].shape[0]\n",
    "    percent = correctcount/samplesize\n",
    "    print('prediction +/- {:.1f} : percent {:05.02f} %'.format(errorabs, percent*100))"
   ]
  },
  {
   "cell_type": "code",
   "execution_count": null,
   "metadata": {},
   "outputs": [],
   "source": []
  },
  {
   "cell_type": "code",
   "execution_count": null,
   "metadata": {},
   "outputs": [],
   "source": []
  },
  {
   "cell_type": "code",
   "execution_count": null,
   "metadata": {},
   "outputs": [],
   "source": []
  },
  {
   "cell_type": "code",
   "execution_count": null,
   "metadata": {},
   "outputs": [],
   "source": []
  },
  {
   "cell_type": "code",
   "execution_count": null,
   "metadata": {},
   "outputs": [],
   "source": []
  },
  {
   "cell_type": "code",
   "execution_count": null,
   "metadata": {},
   "outputs": [],
   "source": []
  },
  {
   "cell_type": "code",
   "execution_count": null,
   "metadata": {},
   "outputs": [],
   "source": []
  },
  {
   "cell_type": "code",
   "execution_count": null,
   "metadata": {},
   "outputs": [],
   "source": []
  },
  {
   "cell_type": "code",
   "execution_count": null,
   "metadata": {},
   "outputs": [],
   "source": []
  },
  {
   "cell_type": "code",
   "execution_count": null,
   "metadata": {},
   "outputs": [],
   "source": []
  },
  {
   "cell_type": "code",
   "execution_count": null,
   "metadata": {},
   "outputs": [],
   "source": []
  },
  {
   "cell_type": "code",
   "execution_count": null,
   "metadata": {},
   "outputs": [],
   "source": []
  },
  {
   "cell_type": "code",
   "execution_count": null,
   "metadata": {},
   "outputs": [],
   "source": []
  },
  {
   "cell_type": "code",
   "execution_count": null,
   "metadata": {},
   "outputs": [],
   "source": []
  },
  {
   "cell_type": "code",
   "execution_count": null,
   "metadata": {},
   "outputs": [],
   "source": []
  },
  {
   "cell_type": "code",
   "execution_count": null,
   "metadata": {},
   "outputs": [],
   "source": []
  },
  {
   "cell_type": "code",
   "execution_count": null,
   "metadata": {},
   "outputs": [],
   "source": []
  },
  {
   "cell_type": "code",
   "execution_count": null,
   "metadata": {},
   "outputs": [],
   "source": []
  },
  {
   "cell_type": "code",
   "execution_count": null,
   "metadata": {},
   "outputs": [],
   "source": []
  },
  {
   "cell_type": "code",
   "execution_count": null,
   "metadata": {},
   "outputs": [],
   "source": []
  },
  {
   "cell_type": "code",
   "execution_count": null,
   "metadata": {},
   "outputs": [],
   "source": []
  },
  {
   "cell_type": "code",
   "execution_count": null,
   "metadata": {},
   "outputs": [],
   "source": []
  },
  {
   "cell_type": "code",
   "execution_count": null,
   "metadata": {},
   "outputs": [],
   "source": []
  },
  {
   "cell_type": "code",
   "execution_count": null,
   "metadata": {},
   "outputs": [],
   "source": []
  },
  {
   "cell_type": "code",
   "execution_count": null,
   "metadata": {},
   "outputs": [],
   "source": []
  },
  {
   "cell_type": "markdown",
   "metadata": {},
   "source": [
    "# SVR"
   ]
  },
  {
   "cell_type": "code",
   "execution_count": 216,
   "metadata": {},
   "outputs": [],
   "source": [
    "from sklearn.svm import SVR\n",
    "svr = SVR()\n",
    "svrpipelist = [('scaler', scaler), ('pca', pca), ('svr', svr)]\n",
    "svrpipe = Pipeline(svrpipelist)"
   ]
  },
  {
   "cell_type": "code",
   "execution_count": 225,
   "metadata": {},
   "outputs": [],
   "source": [
    "params={\n",
    "        'pca__n_components':[3,5, None],\n",
    "        #'svr__kernel':['rbf', 'poly'],\n",
    "        'svr__C':np.logspace(-7,-2,5),\n",
    "        'svr__epsilon':np.linspace(1e-5,1,5),\n",
    "       }"
   ]
  },
  {
   "cell_type": "code",
   "execution_count": 226,
   "metadata": {},
   "outputs": [
    {
     "data": {
      "text/plain": [
       "GridSearchCV(cv=KFold(n_splits=5, random_state=None, shuffle=True),\n",
       "       error_score='raise',\n",
       "       estimator=Pipeline(memory=None,\n",
       "     steps=[('scaler', StandardScaler(copy=True, with_mean=True, with_std=True)), ('pca', PCA(copy=True, iterated_power='auto', n_components=None, random_state=None,\n",
       "  svd_solver='auto', tol=0.0, whiten=False)), ('svr', SVR(C=1.0, cache_size=200, coef0=0.0, degree=3, epsilon=0.1, gamma='auto',\n",
       "  kernel='rbf', max_iter=-1, shrinking=True, tol=0.001, verbose=False))]),\n",
       "       fit_params=None, iid=True, n_jobs=-2,\n",
       "       param_grid={'pca__n_components': [3, 5, None], 'svr__C': array([1.00000e-07, 1.77828e-06, 3.16228e-05, 5.62341e-04, 1.00000e-02]), 'svr__epsilon': array([1.00000e-05, 2.50007e-01, 5.00005e-01, 7.50003e-01, 1.00000e+00])},\n",
       "       pre_dispatch='2*n_jobs', refit=True, return_train_score='warn',\n",
       "       scoring='neg_mean_squared_error', verbose=0)"
      ]
     },
     "execution_count": 226,
     "metadata": {},
     "output_type": "execute_result"
    }
   ],
   "source": [
    "svrgrid = GridSearchCV(svrpipe, params, cv=kf, scoring='neg_mean_squared_error', verbose=0, n_jobs=-2)\n",
    "svrgrid.fit(X,y)"
   ]
  },
  {
   "cell_type": "code",
   "execution_count": 227,
   "metadata": {},
   "outputs": [
    {
     "data": {
      "text/plain": [
       "-1.6893546372219984e-06"
      ]
     },
     "execution_count": 227,
     "metadata": {},
     "output_type": "execute_result"
    }
   ],
   "source": [
    "svrgrid.best_score_"
   ]
  },
  {
   "cell_type": "code",
   "execution_count": 228,
   "metadata": {},
   "outputs": [
    {
     "data": {
      "text/plain": [
       "{'pca__n_components': None, 'svr__C': 0.01, 'svr__epsilon': 1e-05}"
      ]
     },
     "execution_count": 228,
     "metadata": {},
     "output_type": "execute_result"
    }
   ],
   "source": [
    "svrgrid.best_params_"
   ]
  },
  {
   "cell_type": "code",
   "execution_count": 229,
   "metadata": {},
   "outputs": [
    {
     "data": {
      "text/plain": [
       "-1.7288464864974685e-06"
      ]
     },
     "execution_count": 229,
     "metadata": {},
     "output_type": "execute_result"
    }
   ],
   "source": [
    "cross_val_score(svrgrid, X, y, cv=kf, scoring='neg_mean_squared_error' ).mean()"
   ]
  },
  {
   "cell_type": "code",
   "execution_count": 230,
   "metadata": {},
   "outputs": [
    {
     "data": {
      "text/plain": [
       "50.03266057384492"
      ]
     },
     "execution_count": 230,
     "metadata": {},
     "output_type": "execute_result"
    }
   ],
   "source": [
    "preds = cross_val_predict(svrgrid, X, y, cv=kf)\n",
    "ypred = inv_boxcox(preds, lmbda)\n",
    "mean_squared_error(ypred, dataset['Average'])"
   ]
  },
  {
   "cell_type": "code",
   "execution_count": null,
   "metadata": {},
   "outputs": [],
   "source": []
  },
  {
   "cell_type": "markdown",
   "metadata": {},
   "source": [
    "## Light GBM"
   ]
  },
  {
   "cell_type": "code",
   "execution_count": 82,
   "metadata": {},
   "outputs": [],
   "source": [
    "import lightgbm as lgb\n",
    "\n",
    "gbm = lgb.LGBMRegressor()\n",
    "gbmpipelist = [('scaler', scaler), ('pca', pca), ('gbm', gbm)]\n",
    "gbmpipe = Pipeline(gbmpipelist)"
   ]
  },
  {
   "cell_type": "code",
   "execution_count": 27,
   "metadata": {},
   "outputs": [],
   "source": [
    "params={\n",
    "        'pca__n_components':[3,5, None],\n",
    "        'gbm__num_leaves':[14,12,16, ],\n",
    "        #'gbm__bagging_fraction':np.linspace(.5,1.,5),\n",
    "        #'gbm__feature_fraction':np.linspace(.5,1.,5),\n",
    "        #'gbm__min_child_weight':np.logspace(-6,2.,5),\n",
    "       }"
   ]
  },
  {
   "cell_type": "code",
   "execution_count": 28,
   "metadata": {},
   "outputs": [
    {
     "data": {
      "text/plain": [
       "GridSearchCV(cv=KFold(n_splits=10, random_state=None, shuffle=True),\n",
       "       error_score='raise',\n",
       "       estimator=Pipeline(memory=None,\n",
       "     steps=[('scaler', StandardScaler(copy=True, with_mean=True, with_std=True)), ('pca', PCA(copy=True, iterated_power='auto', n_components=None, random_state=None,\n",
       "  svd_solver='auto', tol=0.0, whiten=False)), ('gbm', LGBMRegressor(boosting_type='gbdt', class_weight=None, colsample_bytree=1.0,\n",
       "       l....0, reg_lambda=0.0, silent=True, subsample=1.0,\n",
       "       subsample_for_bin=200000, subsample_freq=1))]),\n",
       "       fit_params=None, iid=True, n_jobs=-2,\n",
       "       param_grid={'pca__n_components': [3, 5, None], 'gbm__num_leaves': [14, 12, 16]},\n",
       "       pre_dispatch='2*n_jobs', refit=True, return_train_score='warn',\n",
       "       scoring='neg_mean_squared_error', verbose=0)"
      ]
     },
     "execution_count": 28,
     "metadata": {},
     "output_type": "execute_result"
    }
   ],
   "source": [
    "gbmgrid = GridSearchCV(gbmpipe, params, cv=kf, scoring='neg_mean_squared_error', verbose=0, n_jobs=-2)\n",
    "gbmgrid.fit(X,y)"
   ]
  },
  {
   "cell_type": "code",
   "execution_count": 29,
   "metadata": {},
   "outputs": [
    {
     "data": {
      "text/plain": [
       "{'gbm__num_leaves': 14, 'pca__n_components': None}"
      ]
     },
     "execution_count": 29,
     "metadata": {},
     "output_type": "execute_result"
    }
   ],
   "source": [
    "gbmgrid.best_params_"
   ]
  },
  {
   "cell_type": "code",
   "execution_count": 30,
   "metadata": {},
   "outputs": [
    {
     "data": {
      "text/plain": [
       "33.30880619143876"
      ]
     },
     "execution_count": 30,
     "metadata": {},
     "output_type": "execute_result"
    }
   ],
   "source": [
    "gbmpipe.set_params(**gbmgrid.best_params_)\n",
    "preds = cross_val_predict(gbmpipe, X, y, cv=kf)\n",
    "ypred = inv_boxcox(preds, lmbda)\n",
    "mean_squared_error(ypred, dataset['Average'])"
   ]
  },
  {
   "cell_type": "markdown",
   "metadata": {},
   "source": [
    "### HyperOPt"
   ]
  },
  {
   "cell_type": "code",
   "execution_count": 31,
   "metadata": {},
   "outputs": [],
   "source": [
    "from hyperopt import hp, tpe\n",
    "from hyperopt.fmin import fmin\n"
   ]
  },
  {
   "cell_type": "code",
   "execution_count": 84,
   "metadata": {},
   "outputs": [
    {
     "name": "stdout",
     "output_type": "stream",
     "text": [
      "10 - MSE 1.1485530846561447e-06\n",
      "20 - MSE 1.099969965945699e-06\n",
      "30 - MSE 1.1224230978139504\n",
      "40 - MSE 2.058337290749879e-06\n",
      "50 - MSE 1.557349740095091e-06\n",
      "60 - MSE 1.024303948195716e-06\n",
      "70 - MSE 1.1594225800176912e-06\n",
      "80 - MSE 1.3055453656882602e-06\n",
      "90 - MSE 1.0092987402458832e-06\n",
      "100 - MSE 1.2039181739940501e-06\n"
     ]
    }
   ],
   "source": [
    "counter=0\n",
    "def objective(params):\n",
    "    global counter\n",
    "    counter +=1\n",
    "    hyperparams = {\n",
    "        'num_leaves': int(params['num_leaves']),\n",
    "        'min_data_in_leaf': int(params['min_data_in_leaf']),\n",
    "        'min_child_weight': params['min_child_weight'],\n",
    "        'n_estimators': int(params['n_estimators']),\n",
    "        'colsample_bytree': params['colsample_bytree'],\n",
    "        'bagging_fraction': params['bagging_fraction'],\n",
    "        'bagging_freq': params['bagging_freq'],\n",
    "        #'reg_alpha': params['reg_alpha'],\n",
    "        #'reg_lambda': params['reg_lambda'],\n",
    "        'max_depth':int(params['max_depth']),\n",
    "        'learning_rate':params['learning_rate'],\n",
    "        'seed':0,\n",
    "        }\n",
    "    \n",
    "    gbm = lgb.LGBMRegressor(objective='regression', **hyperparams)\n",
    "\n",
    "    pipe = [('scaler', scaler), ('pca', pca), ('gbm', gbm)]\n",
    "    regpip = Pipeline(pipe)    \n",
    "    \n",
    "    score = cross_val_score(regpip, X, y, scoring='neg_mean_squared_error', cv=kf, n_jobs=-2).mean()\n",
    "    if counter%10 == 0:\n",
    "        print(\"{} - MSE {}\".format(counter, -score))\n",
    "    return -score\n",
    "\n",
    "space = {\n",
    "    'num_leaves': hp.uniform('num_leaves', 5, 40),\n",
    "    'min_data_in_leaf': hp.uniform('min_data_in_leaf',10, 40),\n",
    "    'min_child_weight': hp.loguniform('min_child_weight', -8, 2),\n",
    "    'n_estimators': hp.uniform('n_estimators', 100, 5000),\n",
    "    'colsample_bytree': hp.uniform('colsample_bytree', 0., 1.0),\n",
    "    'bagging_fraction': hp.uniform('bagging_fraction', 0., 1.0),\n",
    "    'bagging_freq': hp.randint('bagging_freq', 15),\n",
    "    #'reg_alpha': hp.loguniform('reg_alpha', -3, 3),\n",
    "    #'reg_lambda': hp.loguniform('reg_lambda', -3, 3),\n",
    "    'max_depth': hp.uniform('max_depth', 3, 15),\n",
    "    'learning_rate': hp.uniform('learning_rate', 0.0001, .1),\n",
    "}\n",
    "\n",
    "best = fmin(fn=objective,\n",
    "            space=space,\n",
    "            algo=tpe.suggest,\n",
    "            max_evals=100)"
   ]
  },
  {
   "cell_type": "code",
   "execution_count": 85,
   "metadata": {},
   "outputs": [
    {
     "data": {
      "text/plain": [
       "{'bagging_fraction': 0.6440701877754111,\n",
       " 'bagging_freq': 3,\n",
       " 'colsample_bytree': 0.9924433212131266,\n",
       " 'learning_rate': 0.012810345517670303,\n",
       " 'max_depth': 5,\n",
       " 'min_child_weight': 0.003311022328757844,\n",
       " 'min_data_in_leaf': 18,\n",
       " 'n_estimators': 1306,\n",
       " 'num_leaves': 30,\n",
       " 'seed': 0}"
      ]
     },
     "execution_count": 85,
     "metadata": {},
     "output_type": "execute_result"
    }
   ],
   "source": [
    "params = {\n",
    "        'num_leaves': int(best['num_leaves']),\n",
    "        'min_data_in_leaf': int(best['min_data_in_leaf']),\n",
    "        'min_child_weight': best['min_child_weight'],\n",
    "        'n_estimators': int(best['n_estimators']),\n",
    "        'colsample_bytree': best['colsample_bytree'],\n",
    "        'bagging_fraction': best['bagging_fraction'],\n",
    "        'bagging_freq': best['bagging_freq'],\n",
    "        #'reg_alpha': best['reg_alpha'],\n",
    "        #'reg_lambda': best['reg_lambda'],\n",
    "        'max_depth':int(best['max_depth']),\n",
    "        'learning_rate':best['learning_rate'],\n",
    "        'seed':0,\n",
    "        }\n",
    "params"
   ]
  },
  {
   "cell_type": "code",
   "execution_count": null,
   "metadata": {},
   "outputs": [],
   "source": [
    "hypergbm = lgb.LGBMRegressor(objective='regression', **params)\n",
    "pipe = [('scaler', scaler), ('pca', pca), ('gbm', hypergbm)]\n",
    "regpip = Pipeline(pipe)\n",
    "\n",
    "preds = cross_val_predict(regpip, X, y, cv=kf, n_jobs=-2)\n",
    "ypred = inv_boxcox(preds, lmbda)\n",
    "mean_squared_error(ypred, dataset['Average'])"
   ]
  },
  {
   "cell_type": "code",
   "execution_count": null,
   "metadata": {},
   "outputs": [],
   "source": []
  },
  {
   "cell_type": "code",
   "execution_count": null,
   "metadata": {},
   "outputs": [],
   "source": []
  }
 ],
 "metadata": {
  "kernelspec": {
   "display_name": "Python 3",
   "language": "python",
   "name": "python3"
  },
  "language_info": {
   "codemirror_mode": {
    "name": "ipython",
    "version": 3
   },
   "file_extension": ".py",
   "mimetype": "text/x-python",
   "name": "python",
   "nbconvert_exporter": "python",
   "pygments_lexer": "ipython3",
   "version": "3.6.4"
  }
 },
 "nbformat": 4,
 "nbformat_minor": 2
}
