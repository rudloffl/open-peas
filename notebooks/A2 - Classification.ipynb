{
 "cells": [
  {
   "cell_type": "code",
   "execution_count": 1,
   "metadata": {},
   "outputs": [],
   "source": [
    "import numpy as np\n",
    "import pandas as pd\n",
    "import matplotlib.pyplot as plt"
   ]
  },
  {
   "cell_type": "code",
   "execution_count": 2,
   "metadata": {},
   "outputs": [
    {
     "data": {
      "text/plain": [
       "(47, 295)"
      ]
     },
     "execution_count": 2,
     "metadata": {},
     "output_type": "execute_result"
    }
   ],
   "source": [
    "dataset = pd.read_csv('../data/classification/dataset.csv', index_col=[0])\n",
    "dataset.shape"
   ]
  },
  {
   "cell_type": "code",
   "execution_count": 3,
   "metadata": {},
   "outputs": [
    {
     "data": {
      "text/html": [
       "<div>\n",
       "<style scoped>\n",
       "    .dataframe tbody tr th:only-of-type {\n",
       "        vertical-align: middle;\n",
       "    }\n",
       "\n",
       "    .dataframe tbody tr th {\n",
       "        vertical-align: top;\n",
       "    }\n",
       "\n",
       "    .dataframe thead th {\n",
       "        text-align: right;\n",
       "    }\n",
       "</style>\n",
       "<table border=\"1\" class=\"dataframe\">\n",
       "  <thead>\n",
       "    <tr style=\"text-align: right;\">\n",
       "      <th></th>\n",
       "      <th>sampleID</th>\n",
       "      <th>time</th>\n",
       "      <th>vegetable</th>\n",
       "      <th>950</th>\n",
       "      <th>952</th>\n",
       "      <th>954</th>\n",
       "      <th>956</th>\n",
       "      <th>958</th>\n",
       "      <th>960</th>\n",
       "      <th>962</th>\n",
       "      <th>...</th>\n",
       "      <th>1514</th>\n",
       "      <th>1516</th>\n",
       "      <th>1518</th>\n",
       "      <th>1520</th>\n",
       "      <th>1522</th>\n",
       "      <th>1524</th>\n",
       "      <th>1526</th>\n",
       "      <th>1528</th>\n",
       "      <th>1530</th>\n",
       "      <th>target</th>\n",
       "    </tr>\n",
       "  </thead>\n",
       "  <tbody>\n",
       "    <tr>\n",
       "      <th>0</th>\n",
       "      <td>0</td>\n",
       "      <td>2018-08-15 10:22:29</td>\n",
       "      <td>NaN</td>\n",
       "      <td>-7.154161</td>\n",
       "      <td>-7.098956</td>\n",
       "      <td>-7.065396</td>\n",
       "      <td>-7.063221</td>\n",
       "      <td>-7.040813</td>\n",
       "      <td>-6.971343</td>\n",
       "      <td>-6.950519</td>\n",
       "      <td>...</td>\n",
       "      <td>-3.976234</td>\n",
       "      <td>-3.947874</td>\n",
       "      <td>-3.933227</td>\n",
       "      <td>-3.905569</td>\n",
       "      <td>-3.889601</td>\n",
       "      <td>-3.870389</td>\n",
       "      <td>-3.842720</td>\n",
       "      <td>-3.817449</td>\n",
       "      <td>-3.801313</td>\n",
       "      <td>Unknown</td>\n",
       "    </tr>\n",
       "    <tr>\n",
       "      <th>1</th>\n",
       "      <td>0</td>\n",
       "      <td>2018-08-15 10:23:16</td>\n",
       "      <td>NaN</td>\n",
       "      <td>-7.458031</td>\n",
       "      <td>-7.397309</td>\n",
       "      <td>-7.354549</td>\n",
       "      <td>-7.344484</td>\n",
       "      <td>-7.315165</td>\n",
       "      <td>-7.239931</td>\n",
       "      <td>-7.212055</td>\n",
       "      <td>...</td>\n",
       "      <td>-3.986469</td>\n",
       "      <td>-3.957012</td>\n",
       "      <td>-3.942055</td>\n",
       "      <td>-3.913573</td>\n",
       "      <td>-3.898037</td>\n",
       "      <td>-3.879128</td>\n",
       "      <td>-3.850580</td>\n",
       "      <td>-3.823837</td>\n",
       "      <td>-3.800456</td>\n",
       "      <td>Unknown</td>\n",
       "    </tr>\n",
       "    <tr>\n",
       "      <th>2</th>\n",
       "      <td>0</td>\n",
       "      <td>2018-08-15 10:27:53</td>\n",
       "      <td>NaN</td>\n",
       "      <td>1.241622</td>\n",
       "      <td>1.129873</td>\n",
       "      <td>1.004856</td>\n",
       "      <td>0.869179</td>\n",
       "      <td>0.770919</td>\n",
       "      <td>0.740722</td>\n",
       "      <td>0.686860</td>\n",
       "      <td>...</td>\n",
       "      <td>-1.080030</td>\n",
       "      <td>-1.070789</td>\n",
       "      <td>-1.079004</td>\n",
       "      <td>-1.070775</td>\n",
       "      <td>-1.073079</td>\n",
       "      <td>-1.073059</td>\n",
       "      <td>-1.065096</td>\n",
       "      <td>-1.063651</td>\n",
       "      <td>-1.061178</td>\n",
       "      <td>Water - No Mask</td>\n",
       "    </tr>\n",
       "    <tr>\n",
       "      <th>3</th>\n",
       "      <td>0</td>\n",
       "      <td>2018-08-15 10:29:26</td>\n",
       "      <td>NaN</td>\n",
       "      <td>2.650057</td>\n",
       "      <td>2.471409</td>\n",
       "      <td>2.278431</td>\n",
       "      <td>2.084272</td>\n",
       "      <td>1.934799</td>\n",
       "      <td>1.862054</td>\n",
       "      <td>1.772767</td>\n",
       "      <td>...</td>\n",
       "      <td>-1.096729</td>\n",
       "      <td>-1.088533</td>\n",
       "      <td>-1.096279</td>\n",
       "      <td>-1.087548</td>\n",
       "      <td>-1.090942</td>\n",
       "      <td>-1.087388</td>\n",
       "      <td>-1.072598</td>\n",
       "      <td>-1.064524</td>\n",
       "      <td>-1.063713</td>\n",
       "      <td>Water - Mask</td>\n",
       "    </tr>\n",
       "    <tr>\n",
       "      <th>4</th>\n",
       "      <td>0</td>\n",
       "      <td>2018-08-15 10:30:53</td>\n",
       "      <td>NaN</td>\n",
       "      <td>11.867105</td>\n",
       "      <td>11.034720</td>\n",
       "      <td>10.213509</td>\n",
       "      <td>9.464375</td>\n",
       "      <td>8.834002</td>\n",
       "      <td>8.377041</td>\n",
       "      <td>8.022117</td>\n",
       "      <td>...</td>\n",
       "      <td>1.073932</td>\n",
       "      <td>1.104430</td>\n",
       "      <td>1.116346</td>\n",
       "      <td>1.143269</td>\n",
       "      <td>1.160658</td>\n",
       "      <td>1.186514</td>\n",
       "      <td>1.224935</td>\n",
       "      <td>1.255239</td>\n",
       "      <td>1.284156</td>\n",
       "      <td>Pedialite</td>\n",
       "    </tr>\n",
       "  </tbody>\n",
       "</table>\n",
       "<p>5 rows × 295 columns</p>\n",
       "</div>"
      ],
      "text/plain": [
       "   sampleID                 time  vegetable        950        952        954  \\\n",
       "0         0  2018-08-15 10:22:29        NaN  -7.154161  -7.098956  -7.065396   \n",
       "1         0  2018-08-15 10:23:16        NaN  -7.458031  -7.397309  -7.354549   \n",
       "2         0  2018-08-15 10:27:53        NaN   1.241622   1.129873   1.004856   \n",
       "3         0  2018-08-15 10:29:26        NaN   2.650057   2.471409   2.278431   \n",
       "4         0  2018-08-15 10:30:53        NaN  11.867105  11.034720  10.213509   \n",
       "\n",
       "        956       958       960       962       ...             1514  \\\n",
       "0 -7.063221 -7.040813 -6.971343 -6.950519       ...        -3.976234   \n",
       "1 -7.344484 -7.315165 -7.239931 -7.212055       ...        -3.986469   \n",
       "2  0.869179  0.770919  0.740722  0.686860       ...        -1.080030   \n",
       "3  2.084272  1.934799  1.862054  1.772767       ...        -1.096729   \n",
       "4  9.464375  8.834002  8.377041  8.022117       ...         1.073932   \n",
       "\n",
       "       1516      1518      1520      1522      1524      1526      1528  \\\n",
       "0 -3.947874 -3.933227 -3.905569 -3.889601 -3.870389 -3.842720 -3.817449   \n",
       "1 -3.957012 -3.942055 -3.913573 -3.898037 -3.879128 -3.850580 -3.823837   \n",
       "2 -1.070789 -1.079004 -1.070775 -1.073079 -1.073059 -1.065096 -1.063651   \n",
       "3 -1.088533 -1.096279 -1.087548 -1.090942 -1.087388 -1.072598 -1.064524   \n",
       "4  1.104430  1.116346  1.143269  1.160658  1.186514  1.224935  1.255239   \n",
       "\n",
       "       1530           target  \n",
       "0 -3.801313          Unknown  \n",
       "1 -3.800456          Unknown  \n",
       "2 -1.061178  Water - No Mask  \n",
       "3 -1.063713     Water - Mask  \n",
       "4  1.284156        Pedialite  \n",
       "\n",
       "[5 rows x 295 columns]"
      ]
     },
     "execution_count": 3,
     "metadata": {},
     "output_type": "execute_result"
    }
   ],
   "source": [
    "dataset.head()"
   ]
  },
  {
   "cell_type": "code",
   "execution_count": 4,
   "metadata": {},
   "outputs": [
    {
     "data": {
      "text/plain": [
       "(47, 293)"
      ]
     },
     "execution_count": 4,
     "metadata": {},
     "output_type": "execute_result"
    }
   ],
   "source": [
    "dataset.drop(['sampleID', 'vegetable'], inplace = True, axis=1)\n",
    "dataset.shape"
   ]
  },
  {
   "cell_type": "code",
   "execution_count": 5,
   "metadata": {},
   "outputs": [
    {
     "data": {
      "text/plain": [
       "<matplotlib.axes._subplots.AxesSubplot at 0x10485b9b0>"
      ]
     },
     "execution_count": 5,
     "metadata": {},
     "output_type": "execute_result"
    },
    {
     "data": {
      "image/png": "[encoded data removed]",
      "text/plain": [
       "<Figure size 432x288 with 1 Axes>"
      ]
     },
     "metadata": {},
     "output_type": "display_data"
    }
   ],
   "source": [
    "#subset = subset.append(subset.mean(axis=0).to_frame().T, ignore_index=False)\n",
    "dataset[[str(x) for x in range(950, 1530+1,2)]].T.plot(legend=False)"
   ]
  },
  {
   "cell_type": "code",
   "execution_count": 6,
   "metadata": {},
   "outputs": [
    {
     "data": {
      "text/plain": [
       "0                           Unknown\n",
       "1                           Unknown\n",
       "2                   Water - No Mask\n",
       "3                      Water - Mask\n",
       "4                         Pedialite\n",
       "5                         Pedialite\n",
       "6                         Olive Oil\n",
       "7                         Olive Oil\n",
       "8                    Sugar - Static\n",
       "9                    Sugar - Static\n",
       "10                   Sugar - Static\n",
       "11                   Sugar - Static\n",
       "12                       Canola Oil\n",
       "13                       Canola Oil\n",
       "14               Dishwashing produc\n",
       "15               Dishwashing produc\n",
       "16                Bubbles - No Mask\n",
       "17                Bubbles - No Mask\n",
       "18                   Bubbles - Mask\n",
       "19                   Bubbles - Mask\n",
       "20                          Vinegar\n",
       "21                          Vinegar\n",
       "22                      Basil leafs\n",
       "23                      Basil leafs\n",
       "24                      Basil leafs\n",
       "25             Basil Leafs - Moving\n",
       "26             Basil Leafs - Moving\n",
       "27                   Dark Chocolate\n",
       "28                   Dark Chocolate\n",
       "29        Basil Leafs - Dry - Whole\n",
       "30        Basil Leafs - Dry - Whole\n",
       "31    Basil Leafs - Dry - scrambled\n",
       "32    Basil Leafs - Dry - scrambled\n",
       "33                   Yogurt Vanilla\n",
       "34                   Yogurt Vanilla\n",
       "35                Peach skin Moving\n",
       "36                Peach skin Moving\n",
       "37                    Peach no skin\n",
       "38                    Peach no skin\n",
       "39                         Bretzels\n",
       "40                         Bretzels\n",
       "41                      Cooked Peas\n",
       "42                      Cooked Peas\n",
       "43                      Cooked Peas\n",
       "44                      Cooked Peas\n",
       "45                      Frozen Peas\n",
       "46                      Frozen Peas\n",
       "Name: target, dtype: object"
      ]
     },
     "execution_count": 6,
     "metadata": {},
     "output_type": "execute_result"
    }
   ],
   "source": [
    "dataset['target']"
   ]
  },
  {
   "cell_type": "code",
   "execution_count": 7,
   "metadata": {},
   "outputs": [
    {
     "data": {
      "text/plain": [
       "(45, 293)"
      ]
     },
     "execution_count": 7,
     "metadata": {},
     "output_type": "execute_result"
    }
   ],
   "source": [
    "dataset = dataset[dataset['target'] != 'Unknown']\n",
    "dataset.shape"
   ]
  },
  {
   "cell_type": "code",
   "execution_count": 8,
   "metadata": {},
   "outputs": [],
   "source": [
    "# Target cleaning\n",
    "dataset.replace(to_replace='Water - No Mask', value='Water', inplace=True)\n",
    "dataset.replace(to_replace='Water - Mask', value='Water', inplace=True)\n",
    "dataset.replace(to_replace='Pedialite', value='Water', inplace=True)\n",
    "\n",
    "dataset.replace(to_replace='Frozen Peas', value='Peas', inplace=True)\n",
    "dataset.replace(to_replace='Cooked Peas', value='Peas', inplace=True)\n",
    "\n",
    "dataset.replace(to_replace='Peach no skin', value='Peach', inplace=True)\n",
    "dataset.replace(to_replace='Peach skin Moving', value='Peach', inplace=True)\n",
    "dataset.replace(to_replace='Peach skin Moving', value='Peach', inplace=True)\n",
    "\n",
    "dataset.replace(to_replace='Basil Leafs - Dry - scrambled', value='Basil', inplace=True)\n",
    "dataset.replace(to_replace='Basil Leafs - Dry - Whole', value='Basil', inplace=True)\n",
    "dataset.replace(to_replace='Basil Leafs - Moving', value='Basil', inplace=True)\n",
    "dataset.replace(to_replace='Basil leafs', value='Basil', inplace=True)\n",
    "\n",
    "dataset.replace(to_replace='Bubbles - No Mask', value='Bubbles', inplace=True)\n",
    "dataset.replace(to_replace='Bubbles - Mask', value='Bubbles', inplace=True)"
   ]
  },
  {
   "cell_type": "code",
   "execution_count": 9,
   "metadata": {},
   "outputs": [
    {
     "data": {
      "text/plain": [
       "2                  Water\n",
       "3                  Water\n",
       "4                  Water\n",
       "5                  Water\n",
       "6              Olive Oil\n",
       "7              Olive Oil\n",
       "8         Sugar - Static\n",
       "9         Sugar - Static\n",
       "10        Sugar - Static\n",
       "11        Sugar - Static\n",
       "12            Canola Oil\n",
       "13            Canola Oil\n",
       "14    Dishwashing produc\n",
       "15    Dishwashing produc\n",
       "16               Bubbles\n",
       "17               Bubbles\n",
       "18               Bubbles\n",
       "19               Bubbles\n",
       "20               Vinegar\n",
       "21               Vinegar\n",
       "22                 Basil\n",
       "23                 Basil\n",
       "24                 Basil\n",
       "25                 Basil\n",
       "26                 Basil\n",
       "27        Dark Chocolate\n",
       "28        Dark Chocolate\n",
       "29                 Basil\n",
       "30                 Basil\n",
       "31                 Basil\n",
       "32                 Basil\n",
       "33        Yogurt Vanilla\n",
       "34        Yogurt Vanilla\n",
       "35                 Peach\n",
       "36                 Peach\n",
       "37                 Peach\n",
       "38                 Peach\n",
       "39              Bretzels\n",
       "40              Bretzels\n",
       "41                  Peas\n",
       "42                  Peas\n",
       "43                  Peas\n",
       "44                  Peas\n",
       "45                  Peas\n",
       "46                  Peas\n",
       "Name: target, dtype: object"
      ]
     },
     "execution_count": 9,
     "metadata": {},
     "output_type": "execute_result"
    }
   ],
   "source": [
    "dataset['target']"
   ]
  },
  {
   "cell_type": "code",
   "execution_count": null,
   "metadata": {},
   "outputs": [],
   "source": []
  },
  {
   "cell_type": "code",
   "execution_count": null,
   "metadata": {},
   "outputs": [],
   "source": []
  },
  {
   "cell_type": "code",
   "execution_count": null,
   "metadata": {},
   "outputs": [],
   "source": []
  },
  {
   "cell_type": "markdown",
   "metadata": {},
   "source": [
    "# Classification"
   ]
  },
  {
   "cell_type": "code",
   "execution_count": 10,
   "metadata": {},
   "outputs": [],
   "source": [
    "from sklearn.pipeline import Pipeline\n",
    "from sklearn.base import BaseEstimator, TransformerMixin\n",
    "from sklearn.pipeline import make_union"
   ]
  },
  {
   "cell_type": "markdown",
   "metadata": {},
   "source": [
    "# Data preparation"
   ]
  },
  {
   "cell_type": "code",
   "execution_count": 11,
   "metadata": {},
   "outputs": [],
   "source": [
    "X = dataset[[str(x) for x in range(950, 1530+1,2)]]\n",
    "y = dataset['target']"
   ]
  },
  {
   "cell_type": "code",
   "execution_count": 12,
   "metadata": {},
   "outputs": [],
   "source": [
    "# Label preparation\n",
    "from sklearn import preprocessing\n",
    "le = preprocessing.LabelEncoder()\n",
    "ycode = le.fit_transform(y)"
   ]
  },
  {
   "cell_type": "markdown",
   "metadata": {},
   "source": [
    "# Blocs creation"
   ]
  },
  {
   "cell_type": "code",
   "execution_count": 13,
   "metadata": {},
   "outputs": [
    {
     "name": "stderr",
     "output_type": "stream",
     "text": [
      "/Users/cricket/anaconda3/lib/python3.6/site-packages/scipy/signal/_arraytools.py:45: FutureWarning: Using a non-tuple sequence for multidimensional indexing is deprecated; use `arr[tuple(seq)]` instead of `arr[seq]`. In the future this will be interpreted as an array index, `arr[np.array(seq)]`, which will result either in an error or a different result.\n",
      "  b = a[a_slice]\n"
     ]
    },
    {
     "data": {
      "text/plain": [
       "(45, 291)"
      ]
     },
     "execution_count": 13,
     "metadata": {},
     "output_type": "execute_result"
    }
   ],
   "source": [
    "from scipy.signal import savgol_filter\n",
    "\n",
    "class Savgol(BaseEstimator, TransformerMixin):\n",
    "    \"\"\"Apply a lambda feature\"\"\"\n",
    "    \n",
    "    def __init__(self, params={},):\n",
    "        self.params = params\n",
    "    \n",
    "    def fit(self, X, y=None):\n",
    "        return self\n",
    "    \n",
    "    def transform(self, X, y=None):\n",
    "        df = X.apply(lambda x:savgol_filter(x, **self.params), axis=1)\n",
    "        return pd.DataFrame(list(df), index=X.index, columns=X.columns)\n",
    "    \n",
    "savgol = Savgol(params={'window_length':5, 'polyorder':2, 'deriv':0})\n",
    "savgol.fit_transform(X).shape"
   ]
  },
  {
   "cell_type": "code",
   "execution_count": 14,
   "metadata": {},
   "outputs": [],
   "source": [
    "from sklearn.preprocessing import StandardScaler\n",
    "scaler = StandardScaler()"
   ]
  },
  {
   "cell_type": "code",
   "execution_count": 15,
   "metadata": {},
   "outputs": [],
   "source": [
    "from sklearn.decomposition import PCA\n",
    "pca = PCA()"
   ]
  },
  {
   "cell_type": "code",
   "execution_count": null,
   "metadata": {},
   "outputs": [],
   "source": []
  },
  {
   "cell_type": "markdown",
   "metadata": {},
   "source": [
    "# Tree construction"
   ]
  },
  {
   "cell_type": "code",
   "execution_count": 16,
   "metadata": {},
   "outputs": [],
   "source": [
    "savgol0 = Savgol(params={'window_length':7, 'polyorder':2, 'deriv':0})\n",
    "savgol1 = Savgol(params={'window_length':7, 'polyorder':2, 'deriv':1})\n",
    "savgol2 = Savgol(params={'window_length':9, 'polyorder':2, 'deriv':2})"
   ]
  },
  {
   "cell_type": "code",
   "execution_count": 17,
   "metadata": {},
   "outputs": [
    {
     "name": "stderr",
     "output_type": "stream",
     "text": [
      "/Users/cricket/anaconda3/lib/python3.6/site-packages/scipy/signal/_arraytools.py:45: FutureWarning: Using a non-tuple sequence for multidimensional indexing is deprecated; use `arr[tuple(seq)]` instead of `arr[seq]`. In the future this will be interpreted as an array index, `arr[np.array(seq)]`, which will result either in an error or a different result.\n",
      "  b = a[a_slice]\n",
      "/Users/cricket/anaconda3/lib/python3.6/site-packages/scipy/signal/_arraytools.py:45: FutureWarning: Using a non-tuple sequence for multidimensional indexing is deprecated; use `arr[tuple(seq)]` instead of `arr[seq]`. In the future this will be interpreted as an array index, `arr[np.array(seq)]`, which will result either in an error or a different result.\n",
      "  b = a[a_slice]\n"
     ]
    },
    {
     "data": {
      "text/plain": [
       "(45, 90)"
      ]
     },
     "execution_count": 17,
     "metadata": {},
     "output_type": "execute_result"
    }
   ],
   "source": [
    "# Approach 1\n",
    "\n",
    "union1 = make_union(#Pipeline([('savgol0', savgol0), ('scaler', StandardScaler()), ('pca', PCA())]), \n",
    "                   Pipeline([('savgol1', savgol1), ('scaler1', StandardScaler()), ('pca1', PCA())]), \n",
    "                   Pipeline([('savgol2', savgol2), ('scaler2', StandardScaler()), ('pca2', PCA())]), )\n",
    "\n",
    "#\n",
    "Xtrf = union1.fit_transform(X)\n",
    "Xtrf.shape\n",
    "\n"
   ]
  },
  {
   "cell_type": "code",
   "execution_count": 23,
   "metadata": {},
   "outputs": [
    {
     "name": "stderr",
     "output_type": "stream",
     "text": [
      "/Users/cricket/anaconda3/lib/python3.6/site-packages/scipy/signal/_arraytools.py:45: FutureWarning: Using a non-tuple sequence for multidimensional indexing is deprecated; use `arr[tuple(seq)]` instead of `arr[seq]`. In the future this will be interpreted as an array index, `arr[np.array(seq)]`, which will result either in an error or a different result.\n",
      "  b = a[a_slice]\n"
     ]
    }
   ],
   "source": [
    "# Approach 2\n",
    "\n",
    "union2 = make_union(#savgol0,\n",
    "                   savgol1,\n",
    "                   savgol2)\n",
    "pipe2 = Pipeline([('union', union2), ('scaler', StandardScaler()), ('pca', PCA())])\n",
    "Xtrf = pipe2.fit_transform(X)"
   ]
  },
  {
   "cell_type": "code",
   "execution_count": 184,
   "metadata": {},
   "outputs": [
    {
     "name": "stderr",
     "output_type": "stream",
     "text": [
      "/Users/cricket/anaconda3/lib/python3.6/site-packages/scipy/signal/_arraytools.py:45: FutureWarning: Using a non-tuple sequence for multidimensional indexing is deprecated; use `arr[tuple(seq)]` instead of `arr[seq]`. In the future this will be interpreted as an array index, `arr[np.array(seq)]`, which will result either in an error or a different result.\n",
      "  b = a[a_slice]\n"
     ]
    }
   ],
   "source": [
    "# Approach 3\n",
    "\n",
    "pipe3 = Pipeline([('savgol', savgol1), ('scaler', StandardScaler()), ('pca', PCA())])\n",
    "Xtrf = pipe3.fit_transform(X)"
   ]
  },
  {
   "cell_type": "code",
   "execution_count": null,
   "metadata": {},
   "outputs": [],
   "source": []
  },
  {
   "cell_type": "markdown",
   "metadata": {},
   "source": [
    "# Classifier"
   ]
  },
  {
   "cell_type": "code",
   "execution_count": 39,
   "metadata": {},
   "outputs": [],
   "source": [
    "from sklearn.ensemble import RandomForestClassifier\n",
    "clf = RandomForestClassifier(max_depth=7,\n",
    "                             n_estimators=1000, random_state=0)"
   ]
  },
  {
   "cell_type": "code",
   "execution_count": 40,
   "metadata": {},
   "outputs": [
    {
     "name": "stderr",
     "output_type": "stream",
     "text": [
      "/Users/cricket/anaconda3/lib/python3.6/site-packages/sklearn/model_selection/_split.py:605: Warning: The least populated class in y has only 2 members, which is too few. The minimum number of members in any class cannot be less than n_splits=3.\n",
      "  % (min_groups, self.n_splits)), Warning)\n"
     ]
    },
    {
     "data": {
      "text/plain": [
       "(45,)"
      ]
     },
     "execution_count": 40,
     "metadata": {},
     "output_type": "execute_result"
    }
   ],
   "source": [
    "from sklearn.model_selection import cross_val_predict\n",
    "y_pred = cross_val_predict(clf, Xtrf, ycode, cv=3)\n",
    "\n",
    "y_pred.shape"
   ]
  },
  {
   "cell_type": "code",
   "execution_count": 41,
   "metadata": {},
   "outputs": [
    {
     "data": {
      "text/plain": [
       "0.5111111111111111"
      ]
     },
     "execution_count": 41,
     "metadata": {},
     "output_type": "execute_result"
    }
   ],
   "source": [
    "from sklearn.metrics import f1_score\n",
    "f1_score(ycode, y_pred, average='micro') "
   ]
  },
  {
   "cell_type": "code",
   "execution_count": 42,
   "metadata": {},
   "outputs": [
    {
     "name": "stdout",
     "output_type": "stream",
     "text": [
      "Water  <->  Basil\n",
      "Water  <->  Basil\n",
      "Water  <->  Water\n",
      "Water  <->  Peas\n",
      "Olive Oil  <->  Basil\n",
      "Olive Oil  <->  Basil\n",
      "Sugar - Static  <->  Sugar - Static\n",
      "Sugar - Static  <->  Sugar - Static\n",
      "Sugar - Static  <->  Sugar - Static\n",
      "Sugar - Static  <->  Sugar - Static\n",
      "Canola Oil  <->  Basil\n",
      "Canola Oil  <->  Peas\n",
      "Dishwashing produc  <->  Peas\n",
      "Dishwashing produc  <->  Water\n",
      "Bubbles  <->  Basil\n",
      "Bubbles  <->  Bubbles\n",
      "Bubbles  <->  Bubbles\n",
      "Bubbles  <->  Bubbles\n",
      "Vinegar  <->  Vinegar\n",
      "Vinegar  <->  Vinegar\n",
      "Basil  <->  Basil\n",
      "Basil  <->  Basil\n",
      "Basil  <->  Basil\n",
      "Basil  <->  Basil\n",
      "Basil  <->  Basil\n",
      "Dark Chocolate  <->  Basil\n",
      "Dark Chocolate  <->  Basil\n",
      "Basil  <->  Basil\n",
      "Basil  <->  Basil\n",
      "Basil  <->  Olive Oil\n",
      "Basil  <->  Peach\n",
      "Yogurt Vanilla  <->  Basil\n",
      "Yogurt Vanilla  <->  Peas\n",
      "Peach  <->  Basil\n",
      "Peach  <->  Basil\n",
      "Peach  <->  Peach\n",
      "Peach  <->  Peach\n",
      "Bretzels  <->  Peas\n",
      "Bretzels  <->  Peas\n",
      "Peas  <->  Peas\n",
      "Peas  <->  Peas\n",
      "Peas  <->  Peas\n",
      "Peas  <->  Peas\n",
      "Peas  <->  Peach\n",
      "Peas  <->  Basil\n"
     ]
    },
    {
     "name": "stderr",
     "output_type": "stream",
     "text": [
      "/Users/cricket/anaconda3/lib/python3.6/site-packages/sklearn/preprocessing/label.py:151: DeprecationWarning: The truth value of an empty array is ambiguous. Returning False, but in future this will result in an error. Use `array.size > 0` to check that an array is not empty.\n",
      "  if diff:\n"
     ]
    }
   ],
   "source": [
    "for true,pred in zip(y,le.inverse_transform(y_pred)):\n",
    "    print(true, ' <-> ', pred)"
   ]
  },
  {
   "cell_type": "code",
   "execution_count": 43,
   "metadata": {},
   "outputs": [
    {
     "name": "stdout",
     "output_type": "stream",
     "text": [
      "Confusion matrix, without normalization\n"
     ]
    },
    {
     "data": {
      "image/png": "[encoded data removed]",
      "text/plain": [
       "<Figure size 432x288 with 2 Axes>"
      ]
     },
     "metadata": {},
     "output_type": "display_data"
    }
   ],
   "source": [
    "from sklearn.metrics import confusion_matrix\n",
    "import itertools\n",
    "\n",
    "cnf_matrix = confusion_matrix(ycode, y_pred)\n",
    "\n",
    "def plot_confusion_matrix(cm, classes,\n",
    "                          normalize=False,\n",
    "                          title='Confusion matrix',\n",
    "                          cmap=plt.cm.Blues):\n",
    "    \"\"\"\n",
    "    This function prints and plots the confusion matrix.\n",
    "    Normalization can be applied by setting `normalize=True`.\n",
    "    \"\"\"\n",
    "    if normalize:\n",
    "        cm = cm.astype('float') / cm.sum(axis=1)[:, np.newaxis]\n",
    "        print(\"Normalized confusion matrix\")\n",
    "    else:\n",
    "        print('Confusion matrix, without normalization')\n",
    "\n",
    "    plt.imshow(cm, interpolation='nearest', cmap=cmap)\n",
    "    plt.title(title)\n",
    "    plt.colorbar()\n",
    "    tick_marks = np.arange(len(classes))\n",
    "    plt.xticks(tick_marks, classes, rotation=90) #\n",
    "    plt.yticks(tick_marks, classes)\n",
    "\n",
    "    fmt = '.2f' if normalize else 'd'\n",
    "    thresh = cm.max() / 2.\n",
    "    for i, j in itertools.product(range(cm.shape[0]), range(cm.shape[1])):\n",
    "        if cm[i, j] != 0:\n",
    "            plt.text(j, i, format(cm[i, j], fmt),\n",
    "                     horizontalalignment=\"center\",\n",
    "                     color=\"white\" if cm[i, j] > thresh else \"black\")\n",
    "\n",
    "    plt.tight_layout()\n",
    "    plt.ylabel('True label')\n",
    "    plt.xlabel('Predicted label')\n",
    "    \n",
    "plot_confusion_matrix(cnf_matrix, classes=le.classes_, title='Confusion matrix')"
   ]
  },
  {
   "cell_type": "code",
   "execution_count": 134,
   "metadata": {},
   "outputs": [
    {
     "data": {
      "text/plain": [
       "array(['Basil', 'Bretzels', 'Bubbles - Mask', 'Bubbles - No Mask',\n",
       "       'Canola Oil', 'Dark Chocolate', 'Dishwashing produc', 'Olive Oil',\n",
       "       'Peach', 'Peas', 'Sugar - Static', 'Vinegar', 'Water',\n",
       "       'Yogurt Vanilla'], dtype=object)"
      ]
     },
     "execution_count": 134,
     "metadata": {},
     "output_type": "execute_result"
    }
   ],
   "source": [
    "le.classes_"
   ]
  },
  {
   "cell_type": "code",
   "execution_count": null,
   "metadata": {},
   "outputs": [],
   "source": []
  },
  {
   "cell_type": "code",
   "execution_count": null,
   "metadata": {},
   "outputs": [],
   "source": []
  },
  {
   "cell_type": "code",
   "execution_count": null,
   "metadata": {},
   "outputs": [],
   "source": []
  }
 ],
 "metadata": {
  "kernelspec": {
   "display_name": "Python 3",
   "language": "python",
   "name": "python3"
  },
  "language_info": {
   "codemirror_mode": {
    "name": "ipython",
    "version": 3
   },
   "file_extension": ".py",
   "mimetype": "text/x-python",
   "name": "python",
   "nbconvert_exporter": "python",
   "pygments_lexer": "ipython3",
   "version": "3.6.6"
  }
 },
 "nbformat": 4,
 "nbformat_minor": 2
}
