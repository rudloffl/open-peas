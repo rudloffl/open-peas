{
 "cells": [
  {
   "cell_type": "code",
   "execution_count": 3,
   "metadata": {},
   "outputs": [],
   "source": [
    "import numpy as np\n",
    "import pandas as pd\n",
    "import matplotlib.pyplot as plt"
   ]
  },
  {
   "cell_type": "markdown",
   "metadata": {},
   "source": [
    "# Data loading and assembly"
   ]
  },
  {
   "cell_type": "code",
   "execution_count": 4,
   "metadata": {},
   "outputs": [
    {
     "name": "stdout",
     "output_type": "stream",
     "text": [
      "(374, 293)\n"
     ]
    },
    {
     "data": {
      "text/html": [
       "<div>\n",
       "<style scoped>\n",
       "    .dataframe tbody tr th:only-of-type {\n",
       "        vertical-align: middle;\n",
       "    }\n",
       "\n",
       "    .dataframe tbody tr th {\n",
       "        vertical-align: top;\n",
       "    }\n",
       "\n",
       "    .dataframe thead th {\n",
       "        text-align: right;\n",
       "    }\n",
       "</style>\n",
       "<table border=\"1\" class=\"dataframe\">\n",
       "  <thead>\n",
       "    <tr style=\"text-align: right;\">\n",
       "      <th></th>\n",
       "      <th>target</th>\n",
       "      <th>sampleID</th>\n",
       "      <th>950</th>\n",
       "      <th>952</th>\n",
       "      <th>954</th>\n",
       "      <th>956</th>\n",
       "      <th>958</th>\n",
       "      <th>960</th>\n",
       "      <th>962</th>\n",
       "      <th>964</th>\n",
       "      <th>...</th>\n",
       "      <th>1512</th>\n",
       "      <th>1514</th>\n",
       "      <th>1516</th>\n",
       "      <th>1518</th>\n",
       "      <th>1520</th>\n",
       "      <th>1522</th>\n",
       "      <th>1524</th>\n",
       "      <th>1526</th>\n",
       "      <th>1528</th>\n",
       "      <th>1530</th>\n",
       "    </tr>\n",
       "  </thead>\n",
       "  <tbody>\n",
       "    <tr>\n",
       "      <th>0</th>\n",
       "      <td>94.333333</td>\n",
       "      <td>0</td>\n",
       "      <td>36.723839</td>\n",
       "      <td>35.745964</td>\n",
       "      <td>34.811623</td>\n",
       "      <td>33.955212</td>\n",
       "      <td>33.197552</td>\n",
       "      <td>32.570518</td>\n",
       "      <td>32.147972</td>\n",
       "      <td>31.807793</td>\n",
       "      <td>...</td>\n",
       "      <td>0.791820</td>\n",
       "      <td>0.831189</td>\n",
       "      <td>0.883438</td>\n",
       "      <td>0.940272</td>\n",
       "      <td>0.993729</td>\n",
       "      <td>1.046867</td>\n",
       "      <td>1.098642</td>\n",
       "      <td>1.152454</td>\n",
       "      <td>1.215338</td>\n",
       "      <td>1.271571</td>\n",
       "    </tr>\n",
       "    <tr>\n",
       "      <th>1</th>\n",
       "      <td>94.333333</td>\n",
       "      <td>0</td>\n",
       "      <td>36.369366</td>\n",
       "      <td>35.383987</td>\n",
       "      <td>34.443897</td>\n",
       "      <td>33.584080</td>\n",
       "      <td>32.823158</td>\n",
       "      <td>32.192280</td>\n",
       "      <td>31.770844</td>\n",
       "      <td>31.431589</td>\n",
       "      <td>...</td>\n",
       "      <td>0.685869</td>\n",
       "      <td>0.728103</td>\n",
       "      <td>0.785778</td>\n",
       "      <td>0.845810</td>\n",
       "      <td>0.902551</td>\n",
       "      <td>0.961095</td>\n",
       "      <td>1.017545</td>\n",
       "      <td>1.073209</td>\n",
       "      <td>1.138063</td>\n",
       "      <td>1.196826</td>\n",
       "    </tr>\n",
       "    <tr>\n",
       "      <th>2</th>\n",
       "      <td>94.333333</td>\n",
       "      <td>0</td>\n",
       "      <td>35.385422</td>\n",
       "      <td>34.405182</td>\n",
       "      <td>33.466976</td>\n",
       "      <td>32.614578</td>\n",
       "      <td>31.862633</td>\n",
       "      <td>31.242191</td>\n",
       "      <td>30.828016</td>\n",
       "      <td>30.496775</td>\n",
       "      <td>...</td>\n",
       "      <td>0.618997</td>\n",
       "      <td>0.659589</td>\n",
       "      <td>0.712821</td>\n",
       "      <td>0.769303</td>\n",
       "      <td>0.822148</td>\n",
       "      <td>0.875681</td>\n",
       "      <td>0.929040</td>\n",
       "      <td>0.979519</td>\n",
       "      <td>1.040625</td>\n",
       "      <td>1.100850</td>\n",
       "    </tr>\n",
       "    <tr>\n",
       "      <th>3</th>\n",
       "      <td>94.333333</td>\n",
       "      <td>0</td>\n",
       "      <td>35.121685</td>\n",
       "      <td>34.145687</td>\n",
       "      <td>33.217796</td>\n",
       "      <td>32.374218</td>\n",
       "      <td>31.630789</td>\n",
       "      <td>31.019081</td>\n",
       "      <td>30.611959</td>\n",
       "      <td>30.286642</td>\n",
       "      <td>...</td>\n",
       "      <td>0.751016</td>\n",
       "      <td>0.796110</td>\n",
       "      <td>0.852175</td>\n",
       "      <td>0.909087</td>\n",
       "      <td>0.965727</td>\n",
       "      <td>1.024710</td>\n",
       "      <td>1.080235</td>\n",
       "      <td>1.133445</td>\n",
       "      <td>1.197904</td>\n",
       "      <td>1.262516</td>\n",
       "    </tr>\n",
       "    <tr>\n",
       "      <th>4</th>\n",
       "      <td>76.333333</td>\n",
       "      <td>1</td>\n",
       "      <td>36.185947</td>\n",
       "      <td>35.209904</td>\n",
       "      <td>34.280155</td>\n",
       "      <td>33.430157</td>\n",
       "      <td>32.679989</td>\n",
       "      <td>32.062084</td>\n",
       "      <td>31.647160</td>\n",
       "      <td>31.312046</td>\n",
       "      <td>...</td>\n",
       "      <td>1.001077</td>\n",
       "      <td>1.051815</td>\n",
       "      <td>1.112780</td>\n",
       "      <td>1.175900</td>\n",
       "      <td>1.240040</td>\n",
       "      <td>1.304035</td>\n",
       "      <td>1.365576</td>\n",
       "      <td>1.426388</td>\n",
       "      <td>1.495515</td>\n",
       "      <td>1.561842</td>\n",
       "    </tr>\n",
       "  </tbody>\n",
       "</table>\n",
       "<p>5 rows × 293 columns</p>\n",
       "</div>"
      ],
      "text/plain": [
       "      target  sampleID        950        952        954        956        958  \\\n",
       "0  94.333333         0  36.723839  35.745964  34.811623  33.955212  33.197552   \n",
       "1  94.333333         0  36.369366  35.383987  34.443897  33.584080  32.823158   \n",
       "2  94.333333         0  35.385422  34.405182  33.466976  32.614578  31.862633   \n",
       "3  94.333333         0  35.121685  34.145687  33.217796  32.374218  31.630789   \n",
       "4  76.333333         1  36.185947  35.209904  34.280155  33.430157  32.679989   \n",
       "\n",
       "         960        962        964    ...         1512      1514      1516  \\\n",
       "0  32.570518  32.147972  31.807793    ...     0.791820  0.831189  0.883438   \n",
       "1  32.192280  31.770844  31.431589    ...     0.685869  0.728103  0.785778   \n",
       "2  31.242191  30.828016  30.496775    ...     0.618997  0.659589  0.712821   \n",
       "3  31.019081  30.611959  30.286642    ...     0.751016  0.796110  0.852175   \n",
       "4  32.062084  31.647160  31.312046    ...     1.001077  1.051815  1.112780   \n",
       "\n",
       "       1518      1520      1522      1524      1526      1528      1530  \n",
       "0  0.940272  0.993729  1.046867  1.098642  1.152454  1.215338  1.271571  \n",
       "1  0.845810  0.902551  0.961095  1.017545  1.073209  1.138063  1.196826  \n",
       "2  0.769303  0.822148  0.875681  0.929040  0.979519  1.040625  1.100850  \n",
       "3  0.909087  0.965727  1.024710  1.080235  1.133445  1.197904  1.262516  \n",
       "4  1.175900  1.240040  1.304035  1.365576  1.426388  1.495515  1.561842  \n",
       "\n",
       "[5 rows x 293 columns]"
      ]
     },
     "execution_count": 4,
     "metadata": {},
     "output_type": "execute_result"
    }
   ],
   "source": [
    "spectra = pd.read_csv('../data/dataset.csv')\n",
    "columns = ['target', 'sampleID']\n",
    "columns.extend([str(x) for x in range(950, 1530+1,2)])\n",
    "spectra = spectra[columns]\n",
    "print(spectra.shape)\n",
    "spectra.head()"
   ]
  },
  {
   "cell_type": "code",
   "execution_count": 5,
   "metadata": {},
   "outputs": [
    {
     "data": {
      "text/plain": [
       "<matplotlib.axes._subplots.AxesSubplot at 0x1039685f8>"
      ]
     },
     "execution_count": 5,
     "metadata": {},
     "output_type": "execute_result"
    },
    {
     "data": {
      "image/png": "[encoded data removed]",
      "text/plain": [
       "<Figure size 432x288 with 1 Axes>"
      ]
     },
     "metadata": {},
     "output_type": "display_data"
    }
   ],
   "source": [
    "spectra['target'].plot.hist()"
   ]
  },
  {
   "cell_type": "code",
   "execution_count": 6,
   "metadata": {},
   "outputs": [
    {
     "data": {
      "text/plain": [
       "(374, 293)"
      ]
     },
     "execution_count": 6,
     "metadata": {},
     "output_type": "execute_result"
    }
   ],
   "source": [
    "#spectra = spectra[spectra['target'] < 100]\n",
    "spectra.shape"
   ]
  },
  {
   "cell_type": "code",
   "execution_count": null,
   "metadata": {},
   "outputs": [],
   "source": []
  },
  {
   "cell_type": "markdown",
   "metadata": {},
   "source": [
    "# Dataset clean ?"
   ]
  },
  {
   "cell_type": "code",
   "execution_count": 7,
   "metadata": {},
   "outputs": [
    {
     "data": {
      "text/html": [
       "<div>\n",
       "<style scoped>\n",
       "    .dataframe tbody tr th:only-of-type {\n",
       "        vertical-align: middle;\n",
       "    }\n",
       "\n",
       "    .dataframe tbody tr th {\n",
       "        vertical-align: top;\n",
       "    }\n",
       "\n",
       "    .dataframe thead th {\n",
       "        text-align: right;\n",
       "    }\n",
       "</style>\n",
       "<table border=\"1\" class=\"dataframe\">\n",
       "  <thead>\n",
       "    <tr style=\"text-align: right;\">\n",
       "      <th></th>\n",
       "      <th>target</th>\n",
       "      <th>sampleID</th>\n",
       "      <th>950</th>\n",
       "      <th>952</th>\n",
       "      <th>954</th>\n",
       "      <th>956</th>\n",
       "      <th>958</th>\n",
       "      <th>960</th>\n",
       "      <th>962</th>\n",
       "      <th>964</th>\n",
       "      <th>...</th>\n",
       "      <th>1512</th>\n",
       "      <th>1514</th>\n",
       "      <th>1516</th>\n",
       "      <th>1518</th>\n",
       "      <th>1520</th>\n",
       "      <th>1522</th>\n",
       "      <th>1524</th>\n",
       "      <th>1526</th>\n",
       "      <th>1528</th>\n",
       "      <th>1530</th>\n",
       "    </tr>\n",
       "  </thead>\n",
       "  <tbody>\n",
       "    <tr>\n",
       "      <th>count</th>\n",
       "      <td>374.000000</td>\n",
       "      <td>374.000000</td>\n",
       "      <td>374.000000</td>\n",
       "      <td>374.000000</td>\n",
       "      <td>374.000000</td>\n",
       "      <td>374.000000</td>\n",
       "      <td>374.000000</td>\n",
       "      <td>374.000000</td>\n",
       "      <td>374.000000</td>\n",
       "      <td>374.000000</td>\n",
       "      <td>...</td>\n",
       "      <td>374.000000</td>\n",
       "      <td>374.000000</td>\n",
       "      <td>374.000000</td>\n",
       "      <td>374.000000</td>\n",
       "      <td>374.000000</td>\n",
       "      <td>374.000000</td>\n",
       "      <td>374.000000</td>\n",
       "      <td>374.000000</td>\n",
       "      <td>374.000000</td>\n",
       "      <td>374.000000</td>\n",
       "    </tr>\n",
       "    <tr>\n",
       "      <th>mean</th>\n",
       "      <td>87.830660</td>\n",
       "      <td>47.449198</td>\n",
       "      <td>35.174972</td>\n",
       "      <td>34.169147</td>\n",
       "      <td>33.187555</td>\n",
       "      <td>32.305514</td>\n",
       "      <td>31.550925</td>\n",
       "      <td>30.972189</td>\n",
       "      <td>30.537403</td>\n",
       "      <td>30.191219</td>\n",
       "      <td>...</td>\n",
       "      <td>0.592180</td>\n",
       "      <td>0.657583</td>\n",
       "      <td>0.717708</td>\n",
       "      <td>0.763384</td>\n",
       "      <td>0.821528</td>\n",
       "      <td>0.881781</td>\n",
       "      <td>0.940160</td>\n",
       "      <td>1.000826</td>\n",
       "      <td>1.064528</td>\n",
       "      <td>1.128210</td>\n",
       "    </tr>\n",
       "    <tr>\n",
       "      <th>std</th>\n",
       "      <td>10.862842</td>\n",
       "      <td>27.340007</td>\n",
       "      <td>2.348484</td>\n",
       "      <td>2.384539</td>\n",
       "      <td>2.416738</td>\n",
       "      <td>2.441372</td>\n",
       "      <td>2.463001</td>\n",
       "      <td>2.482659</td>\n",
       "      <td>2.488624</td>\n",
       "      <td>2.492186</td>\n",
       "      <td>...</td>\n",
       "      <td>0.732162</td>\n",
       "      <td>0.740236</td>\n",
       "      <td>0.747614</td>\n",
       "      <td>0.754623</td>\n",
       "      <td>0.762236</td>\n",
       "      <td>0.770004</td>\n",
       "      <td>0.778396</td>\n",
       "      <td>0.787307</td>\n",
       "      <td>0.795612</td>\n",
       "      <td>0.804476</td>\n",
       "    </tr>\n",
       "    <tr>\n",
       "      <th>min</th>\n",
       "      <td>67.666667</td>\n",
       "      <td>0.000000</td>\n",
       "      <td>26.655676</td>\n",
       "      <td>25.505169</td>\n",
       "      <td>24.395685</td>\n",
       "      <td>23.420492</td>\n",
       "      <td>22.587944</td>\n",
       "      <td>21.945278</td>\n",
       "      <td>21.496870</td>\n",
       "      <td>21.147123</td>\n",
       "      <td>...</td>\n",
       "      <td>-1.764682</td>\n",
       "      <td>-1.726724</td>\n",
       "      <td>-1.690527</td>\n",
       "      <td>-1.660725</td>\n",
       "      <td>-1.626905</td>\n",
       "      <td>-1.592568</td>\n",
       "      <td>-1.559861</td>\n",
       "      <td>-1.527287</td>\n",
       "      <td>-1.488511</td>\n",
       "      <td>-1.451741</td>\n",
       "    </tr>\n",
       "    <tr>\n",
       "      <th>25%</th>\n",
       "      <td>79.666667</td>\n",
       "      <td>24.000000</td>\n",
       "      <td>33.992277</td>\n",
       "      <td>32.979221</td>\n",
       "      <td>32.002027</td>\n",
       "      <td>31.131445</td>\n",
       "      <td>30.383613</td>\n",
       "      <td>29.791392</td>\n",
       "      <td>29.379014</td>\n",
       "      <td>29.040488</td>\n",
       "      <td>...</td>\n",
       "      <td>0.157696</td>\n",
       "      <td>0.235855</td>\n",
       "      <td>0.301804</td>\n",
       "      <td>0.336286</td>\n",
       "      <td>0.388347</td>\n",
       "      <td>0.447060</td>\n",
       "      <td>0.510264</td>\n",
       "      <td>0.577586</td>\n",
       "      <td>0.633482</td>\n",
       "      <td>0.697918</td>\n",
       "    </tr>\n",
       "    <tr>\n",
       "      <th>50%</th>\n",
       "      <td>87.000000</td>\n",
       "      <td>47.500000</td>\n",
       "      <td>35.519716</td>\n",
       "      <td>34.525341</td>\n",
       "      <td>33.560844</td>\n",
       "      <td>32.674768</td>\n",
       "      <td>31.925820</td>\n",
       "      <td>31.391390</td>\n",
       "      <td>30.953384</td>\n",
       "      <td>30.609236</td>\n",
       "      <td>...</td>\n",
       "      <td>0.608148</td>\n",
       "      <td>0.669333</td>\n",
       "      <td>0.740480</td>\n",
       "      <td>0.782105</td>\n",
       "      <td>0.841150</td>\n",
       "      <td>0.898004</td>\n",
       "      <td>0.958507</td>\n",
       "      <td>1.024121</td>\n",
       "      <td>1.086988</td>\n",
       "      <td>1.143772</td>\n",
       "    </tr>\n",
       "    <tr>\n",
       "      <th>75%</th>\n",
       "      <td>94.666667</td>\n",
       "      <td>71.000000</td>\n",
       "      <td>36.750025</td>\n",
       "      <td>35.776736</td>\n",
       "      <td>34.838290</td>\n",
       "      <td>33.973112</td>\n",
       "      <td>33.227393</td>\n",
       "      <td>32.652846</td>\n",
       "      <td>32.225858</td>\n",
       "      <td>31.890627</td>\n",
       "      <td>...</td>\n",
       "      <td>1.032679</td>\n",
       "      <td>1.094054</td>\n",
       "      <td>1.155414</td>\n",
       "      <td>1.211737</td>\n",
       "      <td>1.289103</td>\n",
       "      <td>1.351089</td>\n",
       "      <td>1.420611</td>\n",
       "      <td>1.486343</td>\n",
       "      <td>1.554759</td>\n",
       "      <td>1.614336</td>\n",
       "    </tr>\n",
       "    <tr>\n",
       "      <th>max</th>\n",
       "      <td>115.000000</td>\n",
       "      <td>94.000000</td>\n",
       "      <td>42.143303</td>\n",
       "      <td>41.016056</td>\n",
       "      <td>39.927353</td>\n",
       "      <td>38.940678</td>\n",
       "      <td>38.071739</td>\n",
       "      <td>37.357346</td>\n",
       "      <td>36.864861</td>\n",
       "      <td>36.467106</td>\n",
       "      <td>...</td>\n",
       "      <td>2.929408</td>\n",
       "      <td>2.975907</td>\n",
       "      <td>3.031236</td>\n",
       "      <td>3.091215</td>\n",
       "      <td>3.146902</td>\n",
       "      <td>3.201092</td>\n",
       "      <td>3.255369</td>\n",
       "      <td>3.311751</td>\n",
       "      <td>3.375964</td>\n",
       "      <td>3.431573</td>\n",
       "    </tr>\n",
       "  </tbody>\n",
       "</table>\n",
       "<p>8 rows × 293 columns</p>\n",
       "</div>"
      ],
      "text/plain": [
       "           target    sampleID         950         952         954         956  \\\n",
       "count  374.000000  374.000000  374.000000  374.000000  374.000000  374.000000   \n",
       "mean    87.830660   47.449198   35.174972   34.169147   33.187555   32.305514   \n",
       "std     10.862842   27.340007    2.348484    2.384539    2.416738    2.441372   \n",
       "min     67.666667    0.000000   26.655676   25.505169   24.395685   23.420492   \n",
       "25%     79.666667   24.000000   33.992277   32.979221   32.002027   31.131445   \n",
       "50%     87.000000   47.500000   35.519716   34.525341   33.560844   32.674768   \n",
       "75%     94.666667   71.000000   36.750025   35.776736   34.838290   33.973112   \n",
       "max    115.000000   94.000000   42.143303   41.016056   39.927353   38.940678   \n",
       "\n",
       "              958         960         962         964     ...            1512  \\\n",
       "count  374.000000  374.000000  374.000000  374.000000     ...      374.000000   \n",
       "mean    31.550925   30.972189   30.537403   30.191219     ...        0.592180   \n",
       "std      2.463001    2.482659    2.488624    2.492186     ...        0.732162   \n",
       "min     22.587944   21.945278   21.496870   21.147123     ...       -1.764682   \n",
       "25%     30.383613   29.791392   29.379014   29.040488     ...        0.157696   \n",
       "50%     31.925820   31.391390   30.953384   30.609236     ...        0.608148   \n",
       "75%     33.227393   32.652846   32.225858   31.890627     ...        1.032679   \n",
       "max     38.071739   37.357346   36.864861   36.467106     ...        2.929408   \n",
       "\n",
       "             1514        1516        1518        1520        1522        1524  \\\n",
       "count  374.000000  374.000000  374.000000  374.000000  374.000000  374.000000   \n",
       "mean     0.657583    0.717708    0.763384    0.821528    0.881781    0.940160   \n",
       "std      0.740236    0.747614    0.754623    0.762236    0.770004    0.778396   \n",
       "min     -1.726724   -1.690527   -1.660725   -1.626905   -1.592568   -1.559861   \n",
       "25%      0.235855    0.301804    0.336286    0.388347    0.447060    0.510264   \n",
       "50%      0.669333    0.740480    0.782105    0.841150    0.898004    0.958507   \n",
       "75%      1.094054    1.155414    1.211737    1.289103    1.351089    1.420611   \n",
       "max      2.975907    3.031236    3.091215    3.146902    3.201092    3.255369   \n",
       "\n",
       "             1526        1528        1530  \n",
       "count  374.000000  374.000000  374.000000  \n",
       "mean     1.000826    1.064528    1.128210  \n",
       "std      0.787307    0.795612    0.804476  \n",
       "min     -1.527287   -1.488511   -1.451741  \n",
       "25%      0.577586    0.633482    0.697918  \n",
       "50%      1.024121    1.086988    1.143772  \n",
       "75%      1.486343    1.554759    1.614336  \n",
       "max      3.311751    3.375964    3.431573  \n",
       "\n",
       "[8 rows x 293 columns]"
      ]
     },
     "execution_count": 7,
     "metadata": {},
     "output_type": "execute_result"
    }
   ],
   "source": [
    "spectra.describe()"
   ]
  },
  {
   "cell_type": "code",
   "execution_count": 8,
   "metadata": {},
   "outputs": [
    {
     "data": {
      "text/plain": [
       "0"
      ]
     },
     "execution_count": 8,
     "metadata": {},
     "output_type": "execute_result"
    }
   ],
   "source": [
    "spectra.isnull().sum().sum()"
   ]
  },
  {
   "cell_type": "code",
   "execution_count": 9,
   "metadata": {},
   "outputs": [
    {
     "name": "stdout",
     "output_type": "stream",
     "text": [
      "<class 'pandas.core.frame.DataFrame'>\n",
      "RangeIndex: 374 entries, 0 to 373\n",
      "Columns: 293 entries, target to 1530\n",
      "dtypes: float64(292), int64(1)\n",
      "memory usage: 856.2 KB\n"
     ]
    }
   ],
   "source": [
    "spectra.info()"
   ]
  },
  {
   "cell_type": "code",
   "execution_count": null,
   "metadata": {},
   "outputs": [],
   "source": []
  },
  {
   "cell_type": "markdown",
   "metadata": {},
   "source": [
    "# Target description"
   ]
  },
  {
   "cell_type": "code",
   "execution_count": 10,
   "metadata": {},
   "outputs": [
    {
     "data": {
      "text/plain": [
       "<matplotlib.axes._subplots.AxesSubplot at 0x1077b1940>"
      ]
     },
     "execution_count": 10,
     "metadata": {},
     "output_type": "execute_result"
    },
    {
     "data": {
      "image/png": "[encoded data removed]",
      "text/plain": [
       "<Figure size 432x288 with 1 Axes>"
      ]
     },
     "metadata": {},
     "output_type": "display_data"
    }
   ],
   "source": [
    "spectra['target'].plot.density()"
   ]
  },
  {
   "cell_type": "code",
   "execution_count": 11,
   "metadata": {},
   "outputs": [
    {
     "data": {
      "text/plain": [
       "0.3520918365929981"
      ]
     },
     "execution_count": 11,
     "metadata": {},
     "output_type": "execute_result"
    }
   ],
   "source": [
    "# The closer to 0, the better\n",
    "spectra['target'].skew()\n"
   ]
  },
  {
   "cell_type": "code",
   "execution_count": 12,
   "metadata": {},
   "outputs": [],
   "source": [
    "from scipy.special import inv_boxcox\n",
    "from scipy import stats\n",
    "spectra['targetBC'], lmbda = stats.boxcox(spectra['target'])"
   ]
  },
  {
   "cell_type": "code",
   "execution_count": 13,
   "metadata": {},
   "outputs": [
    {
     "data": {
      "image/png": "[encoded data removed]",
      "text/plain": [
       "<Figure size 432x288 with 1 Axes>"
      ]
     },
     "metadata": {},
     "output_type": "display_data"
    },
    {
     "data": {
      "text/plain": [
       "0.00712579420187513"
      ]
     },
     "execution_count": 13,
     "metadata": {},
     "output_type": "execute_result"
    }
   ],
   "source": [
    "spectra['targetBC'].plot.density()\n",
    "plt.show()\n",
    "spectra['targetBC'].skew()"
   ]
  },
  {
   "cell_type": "code",
   "execution_count": null,
   "metadata": {},
   "outputs": [],
   "source": []
  },
  {
   "cell_type": "markdown",
   "metadata": {},
   "source": [
    "# SampleID  aggregation"
   ]
  },
  {
   "cell_type": "code",
   "execution_count": 14,
   "metadata": {},
   "outputs": [
    {
     "data": {
      "text/html": [
       "<div>\n",
       "<style scoped>\n",
       "    .dataframe tbody tr th:only-of-type {\n",
       "        vertical-align: middle;\n",
       "    }\n",
       "\n",
       "    .dataframe tbody tr th {\n",
       "        vertical-align: top;\n",
       "    }\n",
       "\n",
       "    .dataframe thead th {\n",
       "        text-align: right;\n",
       "    }\n",
       "</style>\n",
       "<table border=\"1\" class=\"dataframe\">\n",
       "  <thead>\n",
       "    <tr style=\"text-align: right;\">\n",
       "      <th></th>\n",
       "      <th>target</th>\n",
       "    </tr>\n",
       "  </thead>\n",
       "  <tbody>\n",
       "    <tr>\n",
       "      <th>count</th>\n",
       "      <td>374.000000</td>\n",
       "    </tr>\n",
       "    <tr>\n",
       "      <th>mean</th>\n",
       "      <td>87.830660</td>\n",
       "    </tr>\n",
       "    <tr>\n",
       "      <th>std</th>\n",
       "      <td>10.862842</td>\n",
       "    </tr>\n",
       "    <tr>\n",
       "      <th>min</th>\n",
       "      <td>67.666667</td>\n",
       "    </tr>\n",
       "    <tr>\n",
       "      <th>25%</th>\n",
       "      <td>79.666667</td>\n",
       "    </tr>\n",
       "    <tr>\n",
       "      <th>50%</th>\n",
       "      <td>87.000000</td>\n",
       "    </tr>\n",
       "    <tr>\n",
       "      <th>75%</th>\n",
       "      <td>94.666667</td>\n",
       "    </tr>\n",
       "    <tr>\n",
       "      <th>max</th>\n",
       "      <td>115.000000</td>\n",
       "    </tr>\n",
       "  </tbody>\n",
       "</table>\n",
       "</div>"
      ],
      "text/plain": [
       "           target\n",
       "count  374.000000\n",
       "mean    87.830660\n",
       "std     10.862842\n",
       "min     67.666667\n",
       "25%     79.666667\n",
       "50%     87.000000\n",
       "75%     94.666667\n",
       "max    115.000000"
      ]
     },
     "execution_count": 14,
     "metadata": {},
     "output_type": "execute_result"
    }
   ],
   "source": [
    "spectra[['target']].describe()"
   ]
  },
  {
   "cell_type": "code",
   "execution_count": 15,
   "metadata": {},
   "outputs": [
    {
     "name": "stdout",
     "output_type": "stream",
     "text": [
      "OrderedDict([(0.0, 67.66666666666667), (0.25, 79.66666666666667), (0.5, 87.0), (0.75, 94.66666666666669), (1.0, 115.0)])\n"
     ]
    },
    {
     "data": {
      "image/png": "[encoded data removed]",
      "text/plain": [
       "<Figure size 1440x720 with 1 Axes>"
      ]
     },
     "metadata": {},
     "output_type": "display_data"
    }
   ],
   "source": [
    "import collections\n",
    "groupnumber = 5\n",
    "# defines quant group\n",
    "quants = spectra['target'].quantile(np.linspace(0, 1, groupnumber)).to_dict()\n",
    "print(collections.OrderedDict(sorted(quants.items())))\n",
    "def quantplacement(entry):\n",
    "    index = -1\n",
    "    for key,value in collections.OrderedDict(sorted(quants.items())).items():\n",
    "        if entry < value:\n",
    "            return index\n",
    "        index += 1\n",
    "    return index\n",
    "        \n",
    "spectra['targetgroup']=spectra['target'].apply(quantplacement)\n",
    "spectra.drop(['target', 'targetBC', 'sampleID'], axis=1).groupby('targetgroup').mean().T.plot(figsize=(20,10))\n",
    "plt.show()\n"
   ]
  },
  {
   "cell_type": "code",
   "execution_count": 16,
   "metadata": {},
   "outputs": [
    {
     "data": {
      "text/plain": [
       "<matplotlib.axes._subplots.AxesSubplot at 0x1a11899780>"
      ]
     },
     "execution_count": 16,
     "metadata": {},
     "output_type": "execute_result"
    },
    {
     "data": {
      "image/png": "[encoded data removed]",
      "text/plain": [
       "<Figure size 1440x720 with 1 Axes>"
      ]
     },
     "metadata": {},
     "output_type": "display_data"
    }
   ],
   "source": [
    "#Standard deviation\n",
    "spectra.drop(['target', 'targetBC', 'sampleID'], axis=1).groupby('targetgroup').std().T.plot(figsize=(20,10))"
   ]
  },
  {
   "cell_type": "code",
   "execution_count": 17,
   "metadata": {},
   "outputs": [
    {
     "data": {
      "text/plain": [
       "<matplotlib.axes._subplots.AxesSubplot at 0x1a11d20320>"
      ]
     },
     "execution_count": 17,
     "metadata": {},
     "output_type": "execute_result"
    },
    {
     "data": {
      "image/png": "[encoded data removed]",
      "text/plain": [
       "<Figure size 1080x720 with 1 Axes>"
      ]
     },
     "metadata": {},
     "output_type": "display_data"
    }
   ],
   "source": [
    "#spectra.groupby('targetgroup').mean()[[str(x) for x in range(950, 1530+1,2)]].T.plot()\n",
    "\n",
    "def gradient(entry):\n",
    "    #print(entry)\n",
    "    return np.gradient(entry)\n",
    "\n",
    "subset = spectra[[str(x) for x in range(950, 1530+1,2)]].apply(gradient, axis=1)\n",
    "df = pd.concat((spectra[['targetgroup']], subset), axis=1)\n",
    "\n",
    "df.groupby('targetgroup').mean().T.plot(figsize=(15,10))"
   ]
  },
  {
   "cell_type": "code",
   "execution_count": 18,
   "metadata": {},
   "outputs": [
    {
     "data": {
      "text/plain": [
       "<matplotlib.axes._subplots.AxesSubplot at 0x1a11e3be48>"
      ]
     },
     "execution_count": 18,
     "metadata": {},
     "output_type": "execute_result"
    },
    {
     "data": {
      "image/png": "[encoded data removed]",
      "text/plain": [
       "<Figure size 432x288 with 1 Axes>"
      ]
     },
     "metadata": {},
     "output_type": "display_data"
    }
   ],
   "source": [
    "spectra['targetgroup'].plot.hist(bins = groupnumber)"
   ]
  },
  {
   "cell_type": "code",
   "execution_count": 19,
   "metadata": {},
   "outputs": [
    {
     "data": {
      "text/html": [
       "<div>\n",
       "<style scoped>\n",
       "    .dataframe tbody tr th:only-of-type {\n",
       "        vertical-align: middle;\n",
       "    }\n",
       "\n",
       "    .dataframe tbody tr th {\n",
       "        vertical-align: top;\n",
       "    }\n",
       "\n",
       "    .dataframe thead th {\n",
       "        text-align: right;\n",
       "    }\n",
       "</style>\n",
       "<table border=\"1\" class=\"dataframe\">\n",
       "  <thead>\n",
       "    <tr style=\"text-align: right;\">\n",
       "      <th></th>\n",
       "      <th>target</th>\n",
       "      <th>sampleID</th>\n",
       "      <th>950</th>\n",
       "      <th>952</th>\n",
       "      <th>954</th>\n",
       "      <th>956</th>\n",
       "      <th>958</th>\n",
       "      <th>960</th>\n",
       "      <th>962</th>\n",
       "      <th>964</th>\n",
       "      <th>...</th>\n",
       "      <th>1516</th>\n",
       "      <th>1518</th>\n",
       "      <th>1520</th>\n",
       "      <th>1522</th>\n",
       "      <th>1524</th>\n",
       "      <th>1526</th>\n",
       "      <th>1528</th>\n",
       "      <th>1530</th>\n",
       "      <th>targetBC</th>\n",
       "      <th>targetgroup</th>\n",
       "    </tr>\n",
       "  </thead>\n",
       "  <tbody>\n",
       "    <tr>\n",
       "      <th>104</th>\n",
       "      <td>115.0</td>\n",
       "      <td>27</td>\n",
       "      <td>39.508755</td>\n",
       "      <td>38.466202</td>\n",
       "      <td>37.450317</td>\n",
       "      <td>36.528843</td>\n",
       "      <td>35.734688</td>\n",
       "      <td>35.116299</td>\n",
       "      <td>34.659451</td>\n",
       "      <td>34.295151</td>\n",
       "      <td>...</td>\n",
       "      <td>2.282603</td>\n",
       "      <td>2.324685</td>\n",
       "      <td>2.377963</td>\n",
       "      <td>2.431472</td>\n",
       "      <td>2.484010</td>\n",
       "      <td>2.539510</td>\n",
       "      <td>2.598077</td>\n",
       "      <td>2.659325</td>\n",
       "      <td>2.558584</td>\n",
       "      <td>4</td>\n",
       "    </tr>\n",
       "    <tr>\n",
       "      <th>105</th>\n",
       "      <td>115.0</td>\n",
       "      <td>27</td>\n",
       "      <td>38.475670</td>\n",
       "      <td>37.453480</td>\n",
       "      <td>36.452621</td>\n",
       "      <td>35.550095</td>\n",
       "      <td>34.772629</td>\n",
       "      <td>34.166264</td>\n",
       "      <td>33.716633</td>\n",
       "      <td>33.357536</td>\n",
       "      <td>...</td>\n",
       "      <td>1.818091</td>\n",
       "      <td>1.863091</td>\n",
       "      <td>1.920748</td>\n",
       "      <td>1.978510</td>\n",
       "      <td>2.034465</td>\n",
       "      <td>2.093160</td>\n",
       "      <td>2.155517</td>\n",
       "      <td>2.213567</td>\n",
       "      <td>2.558584</td>\n",
       "      <td>4</td>\n",
       "    </tr>\n",
       "    <tr>\n",
       "      <th>106</th>\n",
       "      <td>115.0</td>\n",
       "      <td>27</td>\n",
       "      <td>38.799370</td>\n",
       "      <td>37.755924</td>\n",
       "      <td>36.733612</td>\n",
       "      <td>35.807774</td>\n",
       "      <td>35.009800</td>\n",
       "      <td>34.387833</td>\n",
       "      <td>33.925297</td>\n",
       "      <td>33.552906</td>\n",
       "      <td>...</td>\n",
       "      <td>1.531907</td>\n",
       "      <td>1.568001</td>\n",
       "      <td>1.616462</td>\n",
       "      <td>1.666473</td>\n",
       "      <td>1.712421</td>\n",
       "      <td>1.762471</td>\n",
       "      <td>1.816300</td>\n",
       "      <td>1.874586</td>\n",
       "      <td>2.558584</td>\n",
       "      <td>4</td>\n",
       "    </tr>\n",
       "    <tr>\n",
       "      <th>107</th>\n",
       "      <td>115.0</td>\n",
       "      <td>27</td>\n",
       "      <td>37.646435</td>\n",
       "      <td>36.618404</td>\n",
       "      <td>35.612206</td>\n",
       "      <td>34.702469</td>\n",
       "      <td>33.919140</td>\n",
       "      <td>33.309620</td>\n",
       "      <td>32.859257</td>\n",
       "      <td>32.499924</td>\n",
       "      <td>...</td>\n",
       "      <td>1.565936</td>\n",
       "      <td>1.613511</td>\n",
       "      <td>1.673597</td>\n",
       "      <td>1.734282</td>\n",
       "      <td>1.793818</td>\n",
       "      <td>1.857408</td>\n",
       "      <td>1.923481</td>\n",
       "      <td>1.992472</td>\n",
       "      <td>2.558584</td>\n",
       "      <td>4</td>\n",
       "    </tr>\n",
       "  </tbody>\n",
       "</table>\n",
       "<p>4 rows × 295 columns</p>\n",
       "</div>"
      ],
      "text/plain": [
       "     target  sampleID        950        952        954        956        958  \\\n",
       "104   115.0        27  39.508755  38.466202  37.450317  36.528843  35.734688   \n",
       "105   115.0        27  38.475670  37.453480  36.452621  35.550095  34.772629   \n",
       "106   115.0        27  38.799370  37.755924  36.733612  35.807774  35.009800   \n",
       "107   115.0        27  37.646435  36.618404  35.612206  34.702469  33.919140   \n",
       "\n",
       "           960        962        964     ...           1516      1518  \\\n",
       "104  35.116299  34.659451  34.295151     ...       2.282603  2.324685   \n",
       "105  34.166264  33.716633  33.357536     ...       1.818091  1.863091   \n",
       "106  34.387833  33.925297  33.552906     ...       1.531907  1.568001   \n",
       "107  33.309620  32.859257  32.499924     ...       1.565936  1.613511   \n",
       "\n",
       "         1520      1522      1524      1526      1528      1530  targetBC  \\\n",
       "104  2.377963  2.431472  2.484010  2.539510  2.598077  2.659325  2.558584   \n",
       "105  1.920748  1.978510  2.034465  2.093160  2.155517  2.213567  2.558584   \n",
       "106  1.616462  1.666473  1.712421  1.762471  1.816300  1.874586  2.558584   \n",
       "107  1.673597  1.734282  1.793818  1.857408  1.923481  1.992472  2.558584   \n",
       "\n",
       "     targetgroup  \n",
       "104            4  \n",
       "105            4  \n",
       "106            4  \n",
       "107            4  \n",
       "\n",
       "[4 rows x 295 columns]"
      ]
     },
     "execution_count": 19,
     "metadata": {},
     "output_type": "execute_result"
    }
   ],
   "source": [
    "spectra[spectra['targetgroup']==groupnumber-1]"
   ]
  },
  {
   "cell_type": "code",
   "execution_count": null,
   "metadata": {},
   "outputs": [],
   "source": []
  },
  {
   "cell_type": "code",
   "execution_count": null,
   "metadata": {},
   "outputs": [],
   "source": []
  },
  {
   "cell_type": "markdown",
   "metadata": {},
   "source": [
    "# Regression"
   ]
  },
  {
   "cell_type": "code",
   "execution_count": 20,
   "metadata": {},
   "outputs": [],
   "source": [
    "from sklearn.pipeline import Pipeline\n",
    "from sklearn.model_selection import GridSearchCV\n",
    "from sklearn.model_selection import cross_val_score\n",
    "from sklearn.model_selection import cross_val_predict\n",
    "from sklearn.metrics import mean_squared_error\n",
    "from sklearn.base import BaseEstimator, TransformerMixin\n",
    "from sklearn.pipeline import make_union"
   ]
  },
  {
   "cell_type": "markdown",
   "metadata": {},
   "source": [
    "## Folds definition"
   ]
  },
  {
   "cell_type": "code",
   "execution_count": 21,
   "metadata": {},
   "outputs": [],
   "source": [
    "from sklearn.model_selection import KFold\n",
    "kf = KFold(n_splits=5, shuffle=True)"
   ]
  },
  {
   "cell_type": "markdown",
   "metadata": {},
   "source": [
    "## Savgol filter"
   ]
  },
  {
   "cell_type": "markdown",
   "metadata": {},
   "source": [
    "https://en.wikipedia.org/wiki/Savitzky%E2%80%93Golay_filter"
   ]
  },
  {
   "cell_type": "code",
   "execution_count": 22,
   "metadata": {},
   "outputs": [
    {
     "data": {
      "text/plain": [
       "(374, 295)"
      ]
     },
     "execution_count": 22,
     "metadata": {},
     "output_type": "execute_result"
    }
   ],
   "source": [
    "from scipy.signal import savgol_filter\n",
    "\n",
    "class Savgol(BaseEstimator, TransformerMixin):\n",
    "    \"\"\"Apply a lambda feature\"\"\"\n",
    "    def __init__(self, params={}, columns=[str(x) for x in range(950, 1530+1,2)]):\n",
    "        self.params = params\n",
    "        self.columns = columns\n",
    "    def fit(self, X, y=None):\n",
    "        return self\n",
    "    \n",
    "    def transform(self, X, y=None):\n",
    "        #[self.columns]\n",
    "        return X.apply(lambda x:savgol_filter(x, **self.params), axis=1)\n",
    "    \n",
    "savgol = Savgol(params={'window_length':5, 'polyorder':2})\n",
    "savgol.fit_transform(spectra).shape"
   ]
  },
  {
   "cell_type": "code",
   "execution_count": 23,
   "metadata": {},
   "outputs": [
    {
     "data": {
      "text/html": [
       "<div>\n",
       "<style scoped>\n",
       "    .dataframe tbody tr th:only-of-type {\n",
       "        vertical-align: middle;\n",
       "    }\n",
       "\n",
       "    .dataframe tbody tr th {\n",
       "        vertical-align: top;\n",
       "    }\n",
       "\n",
       "    .dataframe thead th {\n",
       "        text-align: right;\n",
       "    }\n",
       "</style>\n",
       "<table border=\"1\" class=\"dataframe\">\n",
       "  <thead>\n",
       "    <tr style=\"text-align: right;\">\n",
       "      <th></th>\n",
       "      <th>0</th>\n",
       "      <th>1</th>\n",
       "      <th>2</th>\n",
       "      <th>3</th>\n",
       "      <th>4</th>\n",
       "      <th>5</th>\n",
       "      <th>6</th>\n",
       "      <th>7</th>\n",
       "      <th>8</th>\n",
       "    </tr>\n",
       "  </thead>\n",
       "  <tbody>\n",
       "    <tr>\n",
       "      <th>0</th>\n",
       "      <td>1.657143</td>\n",
       "      <td>3.171429</td>\n",
       "      <td>3.542857</td>\n",
       "      <td>2.857143</td>\n",
       "      <td>0.657143</td>\n",
       "      <td>0.171429</td>\n",
       "      <td>1.0</td>\n",
       "      <td>4.0</td>\n",
       "      <td>9.0</td>\n",
       "    </tr>\n",
       "    <tr>\n",
       "      <th>1</th>\n",
       "      <td>1.657143</td>\n",
       "      <td>3.171429</td>\n",
       "      <td>3.542857</td>\n",
       "      <td>2.857143</td>\n",
       "      <td>0.657143</td>\n",
       "      <td>0.171429</td>\n",
       "      <td>1.0</td>\n",
       "      <td>4.0</td>\n",
       "      <td>9.0</td>\n",
       "    </tr>\n",
       "    <tr>\n",
       "      <th>2</th>\n",
       "      <td>1.657143</td>\n",
       "      <td>3.171429</td>\n",
       "      <td>3.542857</td>\n",
       "      <td>2.857143</td>\n",
       "      <td>0.657143</td>\n",
       "      <td>0.171429</td>\n",
       "      <td>1.0</td>\n",
       "      <td>4.0</td>\n",
       "      <td>9.0</td>\n",
       "    </tr>\n",
       "    <tr>\n",
       "      <th>3</th>\n",
       "      <td>1.657143</td>\n",
       "      <td>3.171429</td>\n",
       "      <td>3.542857</td>\n",
       "      <td>2.857143</td>\n",
       "      <td>0.657143</td>\n",
       "      <td>0.171429</td>\n",
       "      <td>1.0</td>\n",
       "      <td>4.0</td>\n",
       "      <td>9.0</td>\n",
       "    </tr>\n",
       "    <tr>\n",
       "      <th>4</th>\n",
       "      <td>1.657143</td>\n",
       "      <td>3.171429</td>\n",
       "      <td>3.542857</td>\n",
       "      <td>2.857143</td>\n",
       "      <td>0.657143</td>\n",
       "      <td>0.171429</td>\n",
       "      <td>1.0</td>\n",
       "      <td>4.0</td>\n",
       "      <td>9.0</td>\n",
       "    </tr>\n",
       "  </tbody>\n",
       "</table>\n",
       "</div>"
      ],
      "text/plain": [
       "          0         1         2         3         4         5    6    7    8\n",
       "0  1.657143  3.171429  3.542857  2.857143  0.657143  0.171429  1.0  4.0  9.0\n",
       "1  1.657143  3.171429  3.542857  2.857143  0.657143  0.171429  1.0  4.0  9.0\n",
       "2  1.657143  3.171429  3.542857  2.857143  0.657143  0.171429  1.0  4.0  9.0\n",
       "3  1.657143  3.171429  3.542857  2.857143  0.657143  0.171429  1.0  4.0  9.0\n",
       "4  1.657143  3.171429  3.542857  2.857143  0.657143  0.171429  1.0  4.0  9.0"
      ]
     },
     "execution_count": 23,
     "metadata": {},
     "output_type": "execute_result"
    }
   ],
   "source": [
    "df = pd.DataFrame([[2, 2, 5, 2, 1, 0, 1, 4, 9],[2, 2, 5, 2, 1, 0, 1, 4, 9],[2, 2, 5, 2, 1, 0, 1, 4, 9],[2, 2, 5, 2, 1, 0, 1, 4, 9],[2, 2, 5, 2, 1, 0, 1, 4, 9]])\n",
    "savgol.fit_transform(df)"
   ]
  },
  {
   "cell_type": "markdown",
   "metadata": {},
   "source": [
    "## Column selection"
   ]
  },
  {
   "cell_type": "code",
   "execution_count": 24,
   "metadata": {},
   "outputs": [
    {
     "data": {
      "text/plain": [
       "(374, 1)"
      ]
     },
     "execution_count": 24,
     "metadata": {},
     "output_type": "execute_result"
    }
   ],
   "source": [
    "class Colselect(BaseEstimator, TransformerMixin):\n",
    "    def __init__(self, columns=[]):\n",
    "        self.columns = columns\n",
    "    \n",
    "    def fit(self, X, y=None):\n",
    "        return self\n",
    "    \n",
    "    def transform(self, X, y=None):\n",
    "        return X[self.columns]\n",
    "\n",
    "colselect = Colselect(['sampleID'])\n",
    "colselect.fit_transform(spectra).shape"
   ]
  },
  {
   "cell_type": "markdown",
   "metadata": {},
   "source": [
    "## Blocs creation"
   ]
  },
  {
   "cell_type": "code",
   "execution_count": 25,
   "metadata": {},
   "outputs": [
    {
     "data": {
      "text/plain": [
       "(374, 295)"
      ]
     },
     "execution_count": 25,
     "metadata": {},
     "output_type": "execute_result"
    }
   ],
   "source": [
    "savgol = Savgol({'window_length':5, 'polyorder':2})\n",
    "savgol.fit_transform(spectra).shape"
   ]
  },
  {
   "cell_type": "code",
   "execution_count": 26,
   "metadata": {},
   "outputs": [
    {
     "data": {
      "text/plain": [
       "(374, 1)"
      ]
     },
     "execution_count": 26,
     "metadata": {},
     "output_type": "execute_result"
    }
   ],
   "source": [
    "colselect = Colselect(['sampleID'])\n",
    "colselect.fit_transform(spectra).shape"
   ]
  },
  {
   "cell_type": "code",
   "execution_count": 27,
   "metadata": {},
   "outputs": [
    {
     "data": {
      "text/plain": [
       "(374, 296)"
      ]
     },
     "execution_count": 27,
     "metadata": {},
     "output_type": "execute_result"
    }
   ],
   "source": [
    "union = make_union(colselect, savgol)\n",
    "union.fit_transform(spectra).shape"
   ]
  },
  {
   "cell_type": "code",
   "execution_count": 28,
   "metadata": {},
   "outputs": [],
   "source": [
    "from sklearn.preprocessing import StandardScaler\n",
    "scaler = StandardScaler()"
   ]
  },
  {
   "cell_type": "code",
   "execution_count": 29,
   "metadata": {},
   "outputs": [],
   "source": [
    "from sklearn.decomposition import PCA\n",
    "pca = PCA()"
   ]
  },
  {
   "cell_type": "code",
   "execution_count": 30,
   "metadata": {},
   "outputs": [],
   "source": [
    "from sklearn.kernel_ridge import KernelRidge\n",
    "kridge = KernelRidge()"
   ]
  },
  {
   "cell_type": "code",
   "execution_count": 31,
   "metadata": {},
   "outputs": [],
   "source": [
    "from sklearn.linear_model import ElasticNet\n",
    "elnet = ElasticNet(random_state=0, max_iter=10000)"
   ]
  },
  {
   "cell_type": "markdown",
   "metadata": {},
   "source": [
    "## Pipe creation"
   ]
  },
  {
   "cell_type": "code",
   "execution_count": 32,
   "metadata": {},
   "outputs": [],
   "source": [
    "\n",
    "\n",
    "#lrpipelist = [('scaler', scaler), ('pca', pca), ('elnet', elnet)]\n",
    "lrpipelist = [('union', union), ('scaler', scaler), ('pca', pca), ('elnet', elnet)]\n",
    "#lrpipelist = [('union', union), ('scaler', scaler), ('elnet', elnet)]\n",
    "lrpipe = Pipeline(lrpipelist)"
   ]
  },
  {
   "cell_type": "code",
   "execution_count": 33,
   "metadata": {},
   "outputs": [],
   "source": [
    "params={\n",
    "        #'pca__n_components':[5, None],\n",
    "        #'kridge__alpha':[0, 1e-1, 1e-3, 1e-4], #np.logspace(-10,-2,5),\n",
    "        #'kridge__gamma':np.linspace(1e-5,1,5),\n",
    "        #'kridge__kernel':['polynomial', 'linear', 'rbf'],\n",
    "        'elnet__alpha':np.logspace(-6,-2,10),\n",
    "        'elnet__l1_ratio':np.linspace(1e-5,1,10),\n",
    "       }"
   ]
  },
  {
   "cell_type": "code",
   "execution_count": 34,
   "metadata": {},
   "outputs": [
    {
     "data": {
      "text/plain": [
       "GridSearchCV(cv=KFold(n_splits=5, random_state=None, shuffle=True),\n",
       "       error_score='raise',\n",
       "       estimator=Pipeline(memory=None,\n",
       "     steps=[('union', FeatureUnion(n_jobs=1,\n",
       "       transformer_list=[('colselect', Colselect(columns=['sampleID'])), ('savgol', Savgol(columns=['950', '952', '954', '956', '958', '960', '962', '964', '966', '968', '970', '972', '974', '976', '978', '980', '982', '984', '986', '988', '990', '992', '994',...e=False, precompute=False,\n",
       "      random_state=0, selection='cyclic', tol=0.0001, warm_start=False))]),\n",
       "       fit_params=None, iid=True, n_jobs=-2,\n",
       "       param_grid={'elnet__alpha': array([1.00000e-06, 2.78256e-06, 7.74264e-06, 2.15443e-05, 5.99484e-05,\n",
       "       1.66810e-04, 4.64159e-04, 1.29155e-03, 3.59381e-03, 1.00000e-02]), 'elnet__l1_ratio': array([1.0000e-05, 1.1112e-01, 2.2223e-01, 3.3334e-01, 4.4445e-01,\n",
       "       5.5556e-01, 6.6667e-01, 7.7778e-01, 8.8889e-01, 1.0000e+00])},\n",
       "       pre_dispatch='2*n_jobs', refit=True, return_train_score='warn',\n",
       "       scoring='neg_mean_squared_error', verbose=0)"
      ]
     },
     "execution_count": 34,
     "metadata": {},
     "output_type": "execute_result"
    }
   ],
   "source": [
    "lrgrid = GridSearchCV(lrpipe, params, cv=kf, scoring='neg_mean_squared_error', verbose=0, n_jobs=-2)\n",
    "lrgrid.fit(spectra,spectra['targetBC'])"
   ]
  },
  {
   "cell_type": "code",
   "execution_count": 35,
   "metadata": {},
   "outputs": [
    {
     "data": {
      "text/plain": [
       "-1.8745868908870242e-06"
      ]
     },
     "execution_count": 35,
     "metadata": {},
     "output_type": "execute_result"
    }
   ],
   "source": [
    "lrgrid.best_score_"
   ]
  },
  {
   "cell_type": "code",
   "execution_count": 36,
   "metadata": {},
   "outputs": [
    {
     "data": {
      "text/plain": [
       "{'elnet__alpha': 1e-06, 'elnet__l1_ratio': 1e-05}"
      ]
     },
     "execution_count": 36,
     "metadata": {},
     "output_type": "execute_result"
    }
   ],
   "source": [
    "lrgrid.best_params_"
   ]
  },
  {
   "cell_type": "code",
   "execution_count": 37,
   "metadata": {},
   "outputs": [
    {
     "data": {
      "text/plain": [
       "-1.8580400078223756e-06"
      ]
     },
     "execution_count": 37,
     "metadata": {},
     "output_type": "execute_result"
    }
   ],
   "source": [
    "#bestparams = {k[8:]:v  for k,v in lrgrid.best_params_.items() if k.startswith('kridge__')}\n",
    "#kridge = KernelRidge(**bestparams)\n",
    "\n",
    "bestparams = {k[7:]:v  for k,v in lrgrid.best_params_.items() if k.startswith('elnet__')}\n",
    "elnet = ElasticNet(random_state=0, max_iter=10000, **bestparams)\n",
    "\n",
    "lrpipelist = [('union', union), ('scaler', scaler), ('pca', pca), ('elnet', elnet)]\n",
    "#lrpipelist = [('union', union), ('scaler', scaler),  ('kridge', kridge)]\n",
    "lrpipe = Pipeline(lrpipelist)\n",
    "cross_val_score(lrpipe, spectra,spectra['targetBC'], cv=kf, scoring='neg_mean_squared_error').mean()"
   ]
  },
  {
   "cell_type": "code",
   "execution_count": 38,
   "metadata": {},
   "outputs": [
    {
     "data": {
      "text/plain": [
       "0.21373381324235413"
      ]
     },
     "execution_count": 38,
     "metadata": {},
     "output_type": "execute_result"
    }
   ],
   "source": [
    "preds = cross_val_predict(lrpipe, spectra,spectra['targetBC'], cv=kf)\n",
    "ypred = inv_boxcox(preds, lmbda)\n",
    "mean_squared_error(ypred, spectra['target'])"
   ]
  },
  {
   "cell_type": "code",
   "execution_count": 39,
   "metadata": {},
   "outputs": [
    {
     "data": {
      "text/plain": [
       "0.4623135442990548"
      ]
     },
     "execution_count": 39,
     "metadata": {},
     "output_type": "execute_result"
    }
   ],
   "source": [
    "mean_squared_error(ypred, spectra['target'])**.5"
   ]
  },
  {
   "cell_type": "code",
   "execution_count": null,
   "metadata": {},
   "outputs": [],
   "source": []
  },
  {
   "cell_type": "markdown",
   "metadata": {},
   "source": [
    "### HyperOpt"
   ]
  },
  {
   "cell_type": "code",
   "execution_count": 40,
   "metadata": {},
   "outputs": [],
   "source": [
    "from hyperopt import hp, tpe\n",
    "from hyperopt.fmin import fmin"
   ]
  },
  {
   "cell_type": "code",
   "execution_count": 41,
   "metadata": {},
   "outputs": [
    {
     "name": "stdout",
     "output_type": "stream",
     "text": [
      "RMSECV 2.2773964133395452 - {'alpha': 0.05497930908520002, 'l1_ratio': 0.009982565541988116, 'random_state': 0, 'max_iter': 10000}\n",
      "RMSECV 1.3744387686956678 - {'alpha': 0.005178469873644883, 'l1_ratio': 0.07145694665343189, 'random_state': 0, 'max_iter': 10000}\n",
      "RMSECV 1.0057007644313993 - {'alpha': 0.013311401626985507, 'l1_ratio': 0.0030658536772999786, 'random_state': 0, 'max_iter': 10000}\n",
      "RMSECV 0.8818816582422271 - {'alpha': 0.0035091529008145893, 'l1_ratio': 0.006115842870070765, 'random_state': 0, 'max_iter': 10000}\n",
      "RMSECV 0.8804467340663426 - {'alpha': 0.0025472262954198007, 'l1_ratio': 0.0185386257921198, 'random_state': 0, 'max_iter': 10000}\n",
      "RMSECV 0.8724681303779681 - {'alpha': 0.003197948750670489, 'l1_ratio': 0.008265406900694097, 'random_state': 0, 'max_iter': 10000}\n",
      "RMSECV 0.8608918799536888 - {'alpha': 0.0037978826135506333, 'l1_ratio': 0.004425031386174148, 'random_state': 0, 'max_iter': 10000}\n",
      "RMSECV 0.8533563255307135 - {'alpha': 0.004183618330350537, 'l1_ratio': 0.00249984994289881, 'random_state': 0, 'max_iter': 10000}\n",
      "50 - MSE 4.214770107400708\n",
      "100 - MSE 0.760284888436549\n",
      "150 - MSE 0.7725402443722339\n",
      "200 - MSE 3.745508786184033\n"
     ]
    }
   ],
   "source": [
    "counter = 0\n",
    "bestscore = 1e20\n",
    "\n",
    "def objective(params):\n",
    "    global counter\n",
    "    global bestscore\n",
    "    counter += 1\n",
    "    hyperparams = {\n",
    "        'alpha': params['alpha'],\n",
    "        'l1_ratio': params['l1_ratio'],\n",
    "        'random_state': 0,\n",
    "        'max_iter':10000,\n",
    "        }\n",
    "    \n",
    "    #print(hyperparams)\n",
    "    \n",
    "    elnet = ElasticNet(**hyperparams)\n",
    "\n",
    "    pipe = [('union', union), ('scaler', scaler), ('pca', pca), ('elnet', elnet)]\n",
    "    regpip = Pipeline(pipe)    \n",
    "    \n",
    "    preds = cross_val_predict(regpip, spectra,spectra['targetBC'], cv=kf, n_jobs=-2)\n",
    "    score = mean_squared_error(spectra['target'] , inv_boxcox(preds, lmbda))\n",
    "    \n",
    "    #score = -cross_val_score(regpip, X, y, scoring='neg_mean_squared_error', cv=kf, n_jobs=-2).mean()\n",
    "    if counter % 50 == 0:\n",
    "        print(\"{} - MSE {}\".format(counter, score))\n",
    "    if score < bestscore:\n",
    "        bestscore = score\n",
    "        print(\"RMSECV {} - {}\".format(score**.5, hyperparams))\n",
    "    return score\n",
    "\n",
    "space = {\n",
    "    'alpha': hp.loguniform('alpha', -6, 2),\n",
    "    'l1_ratio': hp.loguniform('l1_ratio',-6, 0),\n",
    "}\n",
    "\n",
    "best = fmin(fn=objective,\n",
    "            space=space,\n",
    "            algo=tpe.suggest,\n",
    "            max_evals=200)"
   ]
  },
  {
   "cell_type": "code",
   "execution_count": 42,
   "metadata": {},
   "outputs": [
    {
     "data": {
      "text/plain": [
       "{'alpha': 0.004183618330350537,\n",
       " 'l1_ratio': 0.00249984994289881,\n",
       " 'max_iter': 10000,\n",
       " 'random_state': 0}"
      ]
     },
     "execution_count": 42,
     "metadata": {},
     "output_type": "execute_result"
    }
   ],
   "source": [
    "params = {\n",
    "        'alpha': best['alpha'],\n",
    "        'l1_ratio': best['l1_ratio'],\n",
    "        'random_state': 0,\n",
    "        'max_iter':10000,\n",
    "        }\n",
    "params"
   ]
  },
  {
   "cell_type": "code",
   "execution_count": 43,
   "metadata": {},
   "outputs": [
    {
     "data": {
      "text/plain": [
       "0.7436356088663402"
      ]
     },
     "execution_count": 43,
     "metadata": {},
     "output_type": "execute_result"
    }
   ],
   "source": [
    "elnet = ElasticNet(**params)\n",
    "pipe = [('union', union), ('scaler', scaler), ('pca', pca), ('elnet', elnet)]\n",
    "regpip = Pipeline(pipe)\n",
    "\n",
    "preds = cross_val_predict(regpip, spectra,spectra['targetBC'], cv=kf)\n",
    "ypred = inv_boxcox(preds, lmbda)\n",
    "mean_squared_error(ypred, spectra['target'])"
   ]
  },
  {
   "cell_type": "code",
   "execution_count": 44,
   "metadata": {},
   "outputs": [
    {
     "data": {
      "text/plain": [
       "0.8623430923167067"
      ]
     },
     "execution_count": 44,
     "metadata": {},
     "output_type": "execute_result"
    }
   ],
   "source": [
    "mean_squared_error(ypred, spectra['target'])**.5"
   ]
  },
  {
   "cell_type": "markdown",
   "metadata": {},
   "source": [
    "## Coeff verification"
   ]
  },
  {
   "cell_type": "code",
   "execution_count": 58,
   "metadata": {},
   "outputs": [
    {
     "data": {
      "text/plain": [
       "array([-0.00106336, -0.00127662,  0.00659998,  0.00401935,  0.01903105,\n",
       "        0.00089363,  0.00446075, -0.00533621, -0.0243002 ,  0.01668132,\n",
       "       -0.00160563, -0.        , -0.00207724, -0.        ,  0.        ,\n",
       "       -0.        ,  0.        ,  0.        ,  0.        ,  0.        ])"
      ]
     },
     "execution_count": 58,
     "metadata": {},
     "output_type": "execute_result"
    }
   ],
   "source": [
    "regpip.fit(spectra,spectra['targetBC'])\n",
    "regpip.named_steps['elnet'].coef_[:20]"
   ]
  },
  {
   "cell_type": "code",
   "execution_count": 59,
   "metadata": {},
   "outputs": [
    {
     "data": {
      "text/plain": [
       "0.01903104708371587"
      ]
     },
     "execution_count": 59,
     "metadata": {},
     "output_type": "execute_result"
    }
   ],
   "source": [
    "regpip.named_steps['elnet'].coef_.max()"
   ]
  },
  {
   "cell_type": "markdown",
   "metadata": {},
   "source": [
    "## Score accuracy"
   ]
  },
  {
   "cell_type": "code",
   "execution_count": 46,
   "metadata": {},
   "outputs": [
    {
     "data": {
      "text/html": [
       "<div>\n",
       "<style scoped>\n",
       "    .dataframe tbody tr th:only-of-type {\n",
       "        vertical-align: middle;\n",
       "    }\n",
       "\n",
       "    .dataframe tbody tr th {\n",
       "        vertical-align: top;\n",
       "    }\n",
       "\n",
       "    .dataframe thead th {\n",
       "        text-align: right;\n",
       "    }\n",
       "</style>\n",
       "<table border=\"1\" class=\"dataframe\">\n",
       "  <thead>\n",
       "    <tr style=\"text-align: right;\">\n",
       "      <th></th>\n",
       "      <th>pred</th>\n",
       "      <th>sampeID</th>\n",
       "      <th>target</th>\n",
       "      <th>targetgroup</th>\n",
       "    </tr>\n",
       "  </thead>\n",
       "  <tbody>\n",
       "    <tr>\n",
       "      <th>0</th>\n",
       "      <td>92.906341</td>\n",
       "      <td>0</td>\n",
       "      <td>94.333333</td>\n",
       "      <td>2</td>\n",
       "    </tr>\n",
       "    <tr>\n",
       "      <th>1</th>\n",
       "      <td>93.135197</td>\n",
       "      <td>0</td>\n",
       "      <td>94.333333</td>\n",
       "      <td>2</td>\n",
       "    </tr>\n",
       "    <tr>\n",
       "      <th>2</th>\n",
       "      <td>92.717314</td>\n",
       "      <td>0</td>\n",
       "      <td>94.333333</td>\n",
       "      <td>2</td>\n",
       "    </tr>\n",
       "    <tr>\n",
       "      <th>3</th>\n",
       "      <td>92.614846</td>\n",
       "      <td>0</td>\n",
       "      <td>94.333333</td>\n",
       "      <td>2</td>\n",
       "    </tr>\n",
       "    <tr>\n",
       "      <th>4</th>\n",
       "      <td>76.110316</td>\n",
       "      <td>1</td>\n",
       "      <td>76.333333</td>\n",
       "      <td>0</td>\n",
       "    </tr>\n",
       "  </tbody>\n",
       "</table>\n",
       "</div>"
      ],
      "text/plain": [
       "        pred  sampeID     target  targetgroup\n",
       "0  92.906341        0  94.333333            2\n",
       "1  93.135197        0  94.333333            2\n",
       "2  92.717314        0  94.333333            2\n",
       "3  92.614846        0  94.333333            2\n",
       "4  76.110316        1  76.333333            0"
      ]
     },
     "execution_count": 46,
     "metadata": {},
     "output_type": "execute_result"
    }
   ],
   "source": [
    "df = pd.DataFrame({'target':spectra['target'], 'pred':ypred, 'sampeID':spectra['sampleID'], 'targetgroup':spectra['targetgroup']})\n",
    "df.head()"
   ]
  },
  {
   "cell_type": "code",
   "execution_count": 47,
   "metadata": {},
   "outputs": [
    {
     "data": {
      "text/html": [
       "<div>\n",
       "<style scoped>\n",
       "    .dataframe tbody tr th:only-of-type {\n",
       "        vertical-align: middle;\n",
       "    }\n",
       "\n",
       "    .dataframe tbody tr th {\n",
       "        vertical-align: top;\n",
       "    }\n",
       "\n",
       "    .dataframe thead th {\n",
       "        text-align: right;\n",
       "    }\n",
       "</style>\n",
       "<table border=\"1\" class=\"dataframe\">\n",
       "  <thead>\n",
       "    <tr style=\"text-align: right;\">\n",
       "      <th></th>\n",
       "      <th>pred</th>\n",
       "      <th>sampeID</th>\n",
       "      <th>target</th>\n",
       "      <th>targetgroup</th>\n",
       "      <th>delta</th>\n",
       "      <th>deltaabs</th>\n",
       "    </tr>\n",
       "  </thead>\n",
       "  <tbody>\n",
       "    <tr>\n",
       "      <th>0</th>\n",
       "      <td>92.906341</td>\n",
       "      <td>0</td>\n",
       "      <td>94.333333</td>\n",
       "      <td>2</td>\n",
       "      <td>1.426993</td>\n",
       "      <td>1.426993</td>\n",
       "    </tr>\n",
       "    <tr>\n",
       "      <th>1</th>\n",
       "      <td>93.135197</td>\n",
       "      <td>0</td>\n",
       "      <td>94.333333</td>\n",
       "      <td>2</td>\n",
       "      <td>1.198137</td>\n",
       "      <td>1.198137</td>\n",
       "    </tr>\n",
       "    <tr>\n",
       "      <th>2</th>\n",
       "      <td>92.717314</td>\n",
       "      <td>0</td>\n",
       "      <td>94.333333</td>\n",
       "      <td>2</td>\n",
       "      <td>1.616020</td>\n",
       "      <td>1.616020</td>\n",
       "    </tr>\n",
       "    <tr>\n",
       "      <th>3</th>\n",
       "      <td>92.614846</td>\n",
       "      <td>0</td>\n",
       "      <td>94.333333</td>\n",
       "      <td>2</td>\n",
       "      <td>1.718487</td>\n",
       "      <td>1.718487</td>\n",
       "    </tr>\n",
       "    <tr>\n",
       "      <th>4</th>\n",
       "      <td>76.110316</td>\n",
       "      <td>1</td>\n",
       "      <td>76.333333</td>\n",
       "      <td>0</td>\n",
       "      <td>0.223017</td>\n",
       "      <td>0.223017</td>\n",
       "    </tr>\n",
       "  </tbody>\n",
       "</table>\n",
       "</div>"
      ],
      "text/plain": [
       "        pred  sampeID     target  targetgroup     delta  deltaabs\n",
       "0  92.906341        0  94.333333            2  1.426993  1.426993\n",
       "1  93.135197        0  94.333333            2  1.198137  1.198137\n",
       "2  92.717314        0  94.333333            2  1.616020  1.616020\n",
       "3  92.614846        0  94.333333            2  1.718487  1.718487\n",
       "4  76.110316        1  76.333333            0  0.223017  0.223017"
      ]
     },
     "execution_count": 47,
     "metadata": {},
     "output_type": "execute_result"
    }
   ],
   "source": [
    "df['delta'] = df['target'] - df['pred']\n",
    "df['deltaabs'] = np.abs(df['delta'])\n",
    "df.head()"
   ]
  },
  {
   "cell_type": "code",
   "execution_count": 48,
   "metadata": {},
   "outputs": [
    {
     "name": "stdout",
     "output_type": "stream",
     "text": [
      "sample size: 374\n",
      "prediction +/- 0.5 : percent 49.20 %\n",
      "prediction +/- 1.0 : percent 83.42 %\n",
      "prediction +/- 2.0 : percent 95.45 %\n",
      "prediction +/- 3.0 : percent 99.73 %\n",
      "prediction +/- 4.0 : percent 100.00 %\n",
      "prediction +/- 6.0 : percent 100.00 %\n",
      "prediction +/- 8.0 : percent 100.00 %\n",
      "prediction +/- 10.0 : percent 100.00 %\n"
     ]
    }
   ],
   "source": [
    "samplesize = df.shape[0]\n",
    "print('sample size:', samplesize)\n",
    "\n",
    "for errorabs in [.5,1 ,2 ,3 ,4 ,6 ,8, 10]:\n",
    "    correctcount = df[df['deltaabs'] < errorabs].shape[0]\n",
    "    percent = correctcount/samplesize\n",
    "    print('prediction +/- {:.1f} : percent {:05.02f} %'.format(errorabs, percent*100))"
   ]
  },
  {
   "cell_type": "code",
   "execution_count": 49,
   "metadata": {},
   "outputs": [
    {
     "data": {
      "text/html": [
       "<div>\n",
       "<style scoped>\n",
       "    .dataframe tbody tr th:only-of-type {\n",
       "        vertical-align: middle;\n",
       "    }\n",
       "\n",
       "    .dataframe tbody tr th {\n",
       "        vertical-align: top;\n",
       "    }\n",
       "\n",
       "    .dataframe thead th {\n",
       "        text-align: right;\n",
       "    }\n",
       "</style>\n",
       "<table border=\"1\" class=\"dataframe\">\n",
       "  <thead>\n",
       "    <tr style=\"text-align: right;\">\n",
       "      <th></th>\n",
       "      <th>delta</th>\n",
       "    </tr>\n",
       "  </thead>\n",
       "  <tbody>\n",
       "    <tr>\n",
       "      <th>count</th>\n",
       "      <td>374.000000</td>\n",
       "    </tr>\n",
       "    <tr>\n",
       "      <th>mean</th>\n",
       "      <td>0.008287</td>\n",
       "    </tr>\n",
       "    <tr>\n",
       "      <th>std</th>\n",
       "      <td>0.863458</td>\n",
       "    </tr>\n",
       "    <tr>\n",
       "      <th>min</th>\n",
       "      <td>-3.095304</td>\n",
       "    </tr>\n",
       "    <tr>\n",
       "      <th>25%</th>\n",
       "      <td>-0.429574</td>\n",
       "    </tr>\n",
       "    <tr>\n",
       "      <th>50%</th>\n",
       "      <td>0.156732</td>\n",
       "    </tr>\n",
       "    <tr>\n",
       "      <th>75%</th>\n",
       "      <td>0.529916</td>\n",
       "    </tr>\n",
       "    <tr>\n",
       "      <th>max</th>\n",
       "      <td>2.639911</td>\n",
       "    </tr>\n",
       "  </tbody>\n",
       "</table>\n",
       "</div>"
      ],
      "text/plain": [
       "            delta\n",
       "count  374.000000\n",
       "mean     0.008287\n",
       "std      0.863458\n",
       "min     -3.095304\n",
       "25%     -0.429574\n",
       "50%      0.156732\n",
       "75%      0.529916\n",
       "max      2.639911"
      ]
     },
     "execution_count": 49,
     "metadata": {},
     "output_type": "execute_result"
    }
   ],
   "source": [
    "df[['delta']].describe()"
   ]
  },
  {
   "cell_type": "code",
   "execution_count": 50,
   "metadata": {},
   "outputs": [],
   "source": [
    "import seaborn as sns"
   ]
  },
  {
   "cell_type": "code",
   "execution_count": 51,
   "metadata": {},
   "outputs": [
    {
     "name": "stderr",
     "output_type": "stream",
     "text": [
      "/Users/cricket/anaconda3/lib/python3.6/site-packages/matplotlib/axes/_axes.py:6448: UserWarning: The 'normed' kwarg is deprecated, and has been replaced by the 'density' kwarg.\n",
      "  warnings.warn(\"The 'normed' kwarg is deprecated, and has been \"\n"
     ]
    },
    {
     "data": {
      "image/png": "[encoded data removed]",
      "text/plain": [
       "<Figure size 576x576 with 3 Axes>"
      ]
     },
     "metadata": {},
     "output_type": "display_data"
    }
   ],
   "source": [
    "# No BOXCOX\n",
    "sns.jointplot(x='target', y='pred', data=df, kind='reg', size=8, stat_func=None)\n",
    "plt.show()"
   ]
  },
  {
   "cell_type": "code",
   "execution_count": 52,
   "metadata": {},
   "outputs": [
    {
     "data": {
      "image/png": "[encoded data removed]",
      "text/plain": [
       "<Figure size 720x1080 with 5 Axes>"
      ]
     },
     "metadata": {},
     "output_type": "display_data"
    }
   ],
   "source": [
    "sns.lmplot(x='target',\n",
    "           y='pred',\n",
    "           col='targetgroup',\n",
    "           hue='targetgroup',\n",
    "           data=df,\n",
    "           aspect=1,\n",
    "           col_wrap=2,\n",
    "           size=5,\n",
    "           legend=True)\n",
    "plt.show()"
   ]
  },
  {
   "cell_type": "code",
   "execution_count": 60,
   "metadata": {},
   "outputs": [
    {
     "data": {
      "image/png": "[encoded data removed]",
      "text/plain": [
       "<Figure size 432x288 with 1 Axes>"
      ]
     },
     "metadata": {},
     "output_type": "display_data"
    },
    {
     "data": {
      "text/html": [
       "<div>\n",
       "<style scoped>\n",
       "    .dataframe tbody tr th:only-of-type {\n",
       "        vertical-align: middle;\n",
       "    }\n",
       "\n",
       "    .dataframe tbody tr th {\n",
       "        vertical-align: top;\n",
       "    }\n",
       "\n",
       "    .dataframe thead th {\n",
       "        text-align: right;\n",
       "    }\n",
       "</style>\n",
       "<table border=\"1\" class=\"dataframe\">\n",
       "  <thead>\n",
       "    <tr style=\"text-align: right;\">\n",
       "      <th></th>\n",
       "      <th>delta</th>\n",
       "    </tr>\n",
       "  </thead>\n",
       "  <tbody>\n",
       "    <tr>\n",
       "      <th>count</th>\n",
       "      <td>374.000000</td>\n",
       "    </tr>\n",
       "    <tr>\n",
       "      <th>mean</th>\n",
       "      <td>0.008287</td>\n",
       "    </tr>\n",
       "    <tr>\n",
       "      <th>std</th>\n",
       "      <td>0.863458</td>\n",
       "    </tr>\n",
       "    <tr>\n",
       "      <th>min</th>\n",
       "      <td>-3.095304</td>\n",
       "    </tr>\n",
       "    <tr>\n",
       "      <th>25%</th>\n",
       "      <td>-0.429574</td>\n",
       "    </tr>\n",
       "    <tr>\n",
       "      <th>50%</th>\n",
       "      <td>0.156732</td>\n",
       "    </tr>\n",
       "    <tr>\n",
       "      <th>75%</th>\n",
       "      <td>0.529916</td>\n",
       "    </tr>\n",
       "    <tr>\n",
       "      <th>max</th>\n",
       "      <td>2.639911</td>\n",
       "    </tr>\n",
       "  </tbody>\n",
       "</table>\n",
       "</div>"
      ],
      "text/plain": [
       "            delta\n",
       "count  374.000000\n",
       "mean     0.008287\n",
       "std      0.863458\n",
       "min     -3.095304\n",
       "25%     -0.429574\n",
       "50%      0.156732\n",
       "75%      0.529916\n",
       "max      2.639911"
      ]
     },
     "execution_count": 60,
     "metadata": {},
     "output_type": "execute_result"
    }
   ],
   "source": [
    "\n",
    "df.plot.scatter('target', 'delta')\n",
    "plt.plot([df['target'].min(), df['target'].max()], [0, 0], color='k', linestyle='--')\n",
    "plt.title('Delta error ')\n",
    "plt.xlabel('True')\n",
    "plt.ylabel('Variation')\n",
    "plt.show()\n",
    "df[['delta']].describe()"
   ]
  },
  {
   "cell_type": "code",
   "execution_count": null,
   "metadata": {},
   "outputs": [],
   "source": []
  },
  {
   "cell_type": "code",
   "execution_count": null,
   "metadata": {},
   "outputs": [],
   "source": []
  },
  {
   "cell_type": "code",
   "execution_count": null,
   "metadata": {},
   "outputs": [],
   "source": []
  },
  {
   "cell_type": "code",
   "execution_count": null,
   "metadata": {},
   "outputs": [],
   "source": []
  },
  {
   "cell_type": "code",
   "execution_count": null,
   "metadata": {},
   "outputs": [],
   "source": []
  },
  {
   "cell_type": "code",
   "execution_count": null,
   "metadata": {},
   "outputs": [],
   "source": []
  },
  {
   "cell_type": "code",
   "execution_count": null,
   "metadata": {},
   "outputs": [],
   "source": []
  },
  {
   "cell_type": "code",
   "execution_count": null,
   "metadata": {},
   "outputs": [],
   "source": []
  },
  {
   "cell_type": "code",
   "execution_count": null,
   "metadata": {},
   "outputs": [],
   "source": []
  },
  {
   "cell_type": "code",
   "execution_count": null,
   "metadata": {},
   "outputs": [],
   "source": []
  },
  {
   "cell_type": "code",
   "execution_count": null,
   "metadata": {},
   "outputs": [],
   "source": []
  },
  {
   "cell_type": "code",
   "execution_count": null,
   "metadata": {},
   "outputs": [],
   "source": []
  },
  {
   "cell_type": "code",
   "execution_count": null,
   "metadata": {},
   "outputs": [],
   "source": []
  },
  {
   "cell_type": "code",
   "execution_count": null,
   "metadata": {},
   "outputs": [],
   "source": []
  },
  {
   "cell_type": "code",
   "execution_count": null,
   "metadata": {},
   "outputs": [],
   "source": []
  },
  {
   "cell_type": "code",
   "execution_count": null,
   "metadata": {},
   "outputs": [],
   "source": []
  },
  {
   "cell_type": "code",
   "execution_count": null,
   "metadata": {},
   "outputs": [],
   "source": []
  },
  {
   "cell_type": "code",
   "execution_count": null,
   "metadata": {},
   "outputs": [],
   "source": []
  },
  {
   "cell_type": "code",
   "execution_count": null,
   "metadata": {},
   "outputs": [],
   "source": []
  },
  {
   "cell_type": "code",
   "execution_count": null,
   "metadata": {},
   "outputs": [],
   "source": []
  },
  {
   "cell_type": "code",
   "execution_count": null,
   "metadata": {},
   "outputs": [],
   "source": []
  }
 ],
 "metadata": {
  "kernelspec": {
   "display_name": "Python 3",
   "language": "python",
   "name": "python3"
  },
  "language_info": {
   "codemirror_mode": {
    "name": "ipython",
    "version": 3
   },
   "file_extension": ".py",
   "mimetype": "text/x-python",
   "name": "python",
   "nbconvert_exporter": "python",
   "pygments_lexer": "ipython3",
   "version": "3.6.4"
  }
 },
 "nbformat": 4,
 "nbformat_minor": 2
}
